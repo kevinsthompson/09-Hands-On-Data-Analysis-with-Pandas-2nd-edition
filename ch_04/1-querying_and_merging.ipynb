{
 "cells": [
  {
   "cell_type": "markdown",
   "metadata": {},
   "source": [
    "# Performing Database-style Operations on Dataframes\n",
    "\n",
    "## About the data\n",
    "In this notebook, we will using daily weather data that was taken from the [National Centers for Environmental Information (NCEI) API](https://www.ncdc.noaa.gov/cdo-web/webservices/v2). The [`0-weather_data_collection.ipynb`](./0-weather_data_collection.ipynb) notebook contains the process that was followed to collect the data. Consult the dataset's [documentation](https://www1.ncdc.noaa.gov/pub/data/cdo/documentation/GHCND_documentation.pdf) for information on the fields.\n",
    "\n",
    "*Note: The NCEI is part of the National Oceanic and Atmospheric Administration (NOAA) and, as you can see from the URL for the API, this resource was created when the NCEI was called the NCDC. Should the URL for this resource change in the future, you can search for \"NCEI weather API\" to find the updated one.*\n",
    "\n",
    "\n",
    "## Setup"
   ]
  },
  {
   "cell_type": "code",
   "execution_count": 3,
   "metadata": {},
   "outputs": [
    {
     "data": {
      "text/plain": [
       "{'date': {58914: '2018-10-01',\n",
       "  59144: '2018-10-01',\n",
       "  59145: '2018-10-01',\n",
       "  59155: '2018-10-02',\n",
       "  59372: '2018-10-02',\n",
       "  59373: '2018-10-02',\n",
       "  59580: '2018-10-03',\n",
       "  59581: '2018-10-03',\n",
       "  59592: '2018-10-04',\n",
       "  59802: '2018-10-04',\n",
       "  59803: '2018-10-04',\n",
       "  59996: '2018-10-05',\n",
       "  59997: '2018-10-05',\n",
       "  60007: '2018-10-06',\n",
       "  60206: '2018-10-06',\n",
       "  60207: '2018-10-06',\n",
       "  60405: '2018-10-07',\n",
       "  60406: '2018-10-07',\n",
       "  60416: '2018-10-08',\n",
       "  60605: '2018-10-08',\n",
       "  60606: '2018-10-08',\n",
       "  60808: '2018-10-09',\n",
       "  60809: '2018-10-09',\n",
       "  60819: '2018-10-10',\n",
       "  61011: '2018-10-10',\n",
       "  61012: '2018-10-10',\n",
       "  61024: '2018-10-11',\n",
       "  61238: '2018-10-11',\n",
       "  61239: '2018-10-11',\n",
       "  61451: '2018-10-12',\n",
       "  61452: '2018-10-12',\n",
       "  61632: '2018-10-13',\n",
       "  61633: '2018-10-13',\n",
       "  61822: '2018-10-14',\n",
       "  61823: '2018-10-14',\n",
       "  62022: '2018-10-15',\n",
       "  62023: '2018-10-15',\n",
       "  62214: '2018-10-16',\n",
       "  62215: '2018-10-16',\n",
       "  62226: '2018-10-17',\n",
       "  62423: '2018-10-17',\n",
       "  62424: '2018-10-17',\n",
       "  62434: '2018-10-18',\n",
       "  62626: '2018-10-18',\n",
       "  62627: '2018-10-18',\n",
       "  62637: '2018-10-19',\n",
       "  62848: '2018-10-19',\n",
       "  62849: '2018-10-19',\n",
       "  63031: '2018-10-20',\n",
       "  63032: '2018-10-20',\n",
       "  63221: '2018-10-21',\n",
       "  63222: '2018-10-21',\n",
       "  63233: '2018-10-22',\n",
       "  63440: '2018-10-22',\n",
       "  63441: '2018-10-22',\n",
       "  63451: '2018-10-23',\n",
       "  63665: '2018-10-23',\n",
       "  63666: '2018-10-23',\n",
       "  63676: '2018-10-24',\n",
       "  63871: '2018-10-24',\n",
       "  63872: '2018-10-24',\n",
       "  63882: '2018-10-25',\n",
       "  64092: '2018-10-25',\n",
       "  64093: '2018-10-25',\n",
       "  64103: '2018-10-26',\n",
       "  64319: '2018-10-26',\n",
       "  64320: '2018-10-26',\n",
       "  64514: '2018-10-27',\n",
       "  64515: '2018-10-27',\n",
       "  64715: '2018-10-28',\n",
       "  64716: '2018-10-28',\n",
       "  64923: '2018-10-29',\n",
       "  64924: '2018-10-29',\n",
       "  64934: '2018-10-30',\n",
       "  65128: '2018-10-30',\n",
       "  65129: '2018-10-30',\n",
       "  65139: '2018-10-31',\n",
       "  65350: '2018-10-31',\n",
       "  65351: '2018-10-31'},\n",
       " 'datatype': {58914: 'SNOW',\n",
       "  59144: 'SNOW',\n",
       "  59145: 'SNWD',\n",
       "  59155: 'SNOW',\n",
       "  59372: 'SNOW',\n",
       "  59373: 'SNWD',\n",
       "  59580: 'SNOW',\n",
       "  59581: 'SNWD',\n",
       "  59592: 'SNOW',\n",
       "  59802: 'SNOW',\n",
       "  59803: 'SNWD',\n",
       "  59996: 'SNOW',\n",
       "  59997: 'SNWD',\n",
       "  60007: 'SNOW',\n",
       "  60206: 'SNOW',\n",
       "  60207: 'SNWD',\n",
       "  60405: 'SNOW',\n",
       "  60406: 'SNWD',\n",
       "  60416: 'SNOW',\n",
       "  60605: 'SNOW',\n",
       "  60606: 'SNWD',\n",
       "  60808: 'SNOW',\n",
       "  60809: 'SNWD',\n",
       "  60819: 'SNOW',\n",
       "  61011: 'SNOW',\n",
       "  61012: 'SNWD',\n",
       "  61024: 'SNOW',\n",
       "  61238: 'SNOW',\n",
       "  61239: 'SNWD',\n",
       "  61451: 'SNOW',\n",
       "  61452: 'SNWD',\n",
       "  61632: 'SNOW',\n",
       "  61633: 'SNWD',\n",
       "  61822: 'SNOW',\n",
       "  61823: 'SNWD',\n",
       "  62022: 'SNOW',\n",
       "  62023: 'SNWD',\n",
       "  62214: 'SNOW',\n",
       "  62215: 'SNWD',\n",
       "  62226: 'SNOW',\n",
       "  62423: 'SNOW',\n",
       "  62424: 'SNWD',\n",
       "  62434: 'SNOW',\n",
       "  62626: 'SNOW',\n",
       "  62627: 'SNWD',\n",
       "  62637: 'SNOW',\n",
       "  62848: 'SNOW',\n",
       "  62849: 'SNWD',\n",
       "  63031: 'SNOW',\n",
       "  63032: 'SNWD',\n",
       "  63221: 'SNOW',\n",
       "  63222: 'SNWD',\n",
       "  63233: 'SNOW',\n",
       "  63440: 'SNOW',\n",
       "  63441: 'SNWD',\n",
       "  63451: 'SNOW',\n",
       "  63665: 'SNOW',\n",
       "  63666: 'SNWD',\n",
       "  63676: 'SNOW',\n",
       "  63871: 'SNOW',\n",
       "  63872: 'SNWD',\n",
       "  63882: 'SNOW',\n",
       "  64092: 'SNOW',\n",
       "  64093: 'SNWD',\n",
       "  64103: 'SNOW',\n",
       "  64319: 'SNOW',\n",
       "  64320: 'SNWD',\n",
       "  64514: 'SNOW',\n",
       "  64515: 'SNWD',\n",
       "  64715: 'SNOW',\n",
       "  64716: 'SNWD',\n",
       "  64923: 'SNOW',\n",
       "  64924: 'SNWD',\n",
       "  64934: 'SNOW',\n",
       "  65128: 'SNOW',\n",
       "  65129: 'SNWD',\n",
       "  65139: 'SNOW',\n",
       "  65350: 'SNOW',\n",
       "  65351: 'SNWD'},\n",
       " 'station': {58914: 'GHCND:US1NJBG0003',\n",
       "  59144: 'GHCND:USW00094789',\n",
       "  59145: 'GHCND:USW00094789',\n",
       "  59155: 'GHCND:US1NJBG0003',\n",
       "  59372: 'GHCND:USW00094789',\n",
       "  59373: 'GHCND:USW00094789',\n",
       "  59580: 'GHCND:USW00094789',\n",
       "  59581: 'GHCND:USW00094789',\n",
       "  59592: 'GHCND:US1NJBG0003',\n",
       "  59802: 'GHCND:USW00094789',\n",
       "  59803: 'GHCND:USW00094789',\n",
       "  59996: 'GHCND:USW00094789',\n",
       "  59997: 'GHCND:USW00094789',\n",
       "  60007: 'GHCND:US1NJBG0003',\n",
       "  60206: 'GHCND:USW00094789',\n",
       "  60207: 'GHCND:USW00094789',\n",
       "  60405: 'GHCND:USW00094789',\n",
       "  60406: 'GHCND:USW00094789',\n",
       "  60416: 'GHCND:US1NJBG0003',\n",
       "  60605: 'GHCND:USW00094789',\n",
       "  60606: 'GHCND:USW00094789',\n",
       "  60808: 'GHCND:USW00094789',\n",
       "  60809: 'GHCND:USW00094789',\n",
       "  60819: 'GHCND:US1NJBG0003',\n",
       "  61011: 'GHCND:USW00094789',\n",
       "  61012: 'GHCND:USW00094789',\n",
       "  61024: 'GHCND:US1NJBG0003',\n",
       "  61238: 'GHCND:USW00094789',\n",
       "  61239: 'GHCND:USW00094789',\n",
       "  61451: 'GHCND:USW00094789',\n",
       "  61452: 'GHCND:USW00094789',\n",
       "  61632: 'GHCND:USW00094789',\n",
       "  61633: 'GHCND:USW00094789',\n",
       "  61822: 'GHCND:USW00094789',\n",
       "  61823: 'GHCND:USW00094789',\n",
       "  62022: 'GHCND:USW00094789',\n",
       "  62023: 'GHCND:USW00094789',\n",
       "  62214: 'GHCND:USW00094789',\n",
       "  62215: 'GHCND:USW00094789',\n",
       "  62226: 'GHCND:US1NJBG0003',\n",
       "  62423: 'GHCND:USW00094789',\n",
       "  62424: 'GHCND:USW00094789',\n",
       "  62434: 'GHCND:US1NJBG0003',\n",
       "  62626: 'GHCND:USW00094789',\n",
       "  62627: 'GHCND:USW00094789',\n",
       "  62637: 'GHCND:US1NJBG0003',\n",
       "  62848: 'GHCND:USW00094789',\n",
       "  62849: 'GHCND:USW00094789',\n",
       "  63031: 'GHCND:USW00094789',\n",
       "  63032: 'GHCND:USW00094789',\n",
       "  63221: 'GHCND:USW00094789',\n",
       "  63222: 'GHCND:USW00094789',\n",
       "  63233: 'GHCND:US1NJBG0003',\n",
       "  63440: 'GHCND:USW00094789',\n",
       "  63441: 'GHCND:USW00094789',\n",
       "  63451: 'GHCND:US1NJBG0003',\n",
       "  63665: 'GHCND:USW00094789',\n",
       "  63666: 'GHCND:USW00094789',\n",
       "  63676: 'GHCND:US1NJBG0003',\n",
       "  63871: 'GHCND:USW00094789',\n",
       "  63872: 'GHCND:USW00094789',\n",
       "  63882: 'GHCND:US1NJBG0003',\n",
       "  64092: 'GHCND:USW00094789',\n",
       "  64093: 'GHCND:USW00094789',\n",
       "  64103: 'GHCND:US1NJBG0003',\n",
       "  64319: 'GHCND:USW00094789',\n",
       "  64320: 'GHCND:USW00094789',\n",
       "  64514: 'GHCND:USW00094789',\n",
       "  64515: 'GHCND:USW00094789',\n",
       "  64715: 'GHCND:USW00094789',\n",
       "  64716: 'GHCND:USW00094789',\n",
       "  64923: 'GHCND:USW00094789',\n",
       "  64924: 'GHCND:USW00094789',\n",
       "  64934: 'GHCND:US1NJBG0003',\n",
       "  65128: 'GHCND:USW00094789',\n",
       "  65129: 'GHCND:USW00094789',\n",
       "  65139: 'GHCND:US1NJBG0003',\n",
       "  65350: 'GHCND:USW00094789',\n",
       "  65351: 'GHCND:USW00094789'},\n",
       " 'attributes': {58914: ',,N,',\n",
       "  59144: ',,W,',\n",
       "  59145: ',,W,2400',\n",
       "  59155: ',,N,',\n",
       "  59372: ',,W,',\n",
       "  59373: ',,W,2400',\n",
       "  59580: ',,W,',\n",
       "  59581: ',,W,2400',\n",
       "  59592: ',,N,',\n",
       "  59802: ',,W,',\n",
       "  59803: ',,W,2400',\n",
       "  59996: ',,W,',\n",
       "  59997: ',,W,2400',\n",
       "  60007: ',,N,',\n",
       "  60206: ',,W,',\n",
       "  60207: ',,W,2400',\n",
       "  60405: ',,W,',\n",
       "  60406: ',,W,2400',\n",
       "  60416: ',,N,',\n",
       "  60605: ',,W,',\n",
       "  60606: ',,W,2400',\n",
       "  60808: ',,W,',\n",
       "  60809: ',,W,2400',\n",
       "  60819: ',,N,',\n",
       "  61011: ',,W,',\n",
       "  61012: ',,W,2400',\n",
       "  61024: ',,N,',\n",
       "  61238: ',,W,',\n",
       "  61239: ',,W,2400',\n",
       "  61451: ',,W,',\n",
       "  61452: ',,W,2400',\n",
       "  61632: ',,W,',\n",
       "  61633: ',,W,2400',\n",
       "  61822: ',,W,',\n",
       "  61823: ',,W,2400',\n",
       "  62022: ',,W,',\n",
       "  62023: ',,W,2400',\n",
       "  62214: ',,W,',\n",
       "  62215: ',,W,2400',\n",
       "  62226: ',,N,',\n",
       "  62423: ',,W,',\n",
       "  62424: ',,W,2400',\n",
       "  62434: ',,N,',\n",
       "  62626: ',,W,',\n",
       "  62627: ',,W,2400',\n",
       "  62637: ',,N,',\n",
       "  62848: ',,W,',\n",
       "  62849: ',,W,2400',\n",
       "  63031: ',,W,',\n",
       "  63032: ',,W,2400',\n",
       "  63221: ',,W,',\n",
       "  63222: ',,W,2400',\n",
       "  63233: ',,N,',\n",
       "  63440: ',,W,',\n",
       "  63441: ',,W,2400',\n",
       "  63451: ',,N,',\n",
       "  63665: ',,W,',\n",
       "  63666: ',,W,2400',\n",
       "  63676: ',,N,',\n",
       "  63871: ',,W,',\n",
       "  63872: ',,W,2400',\n",
       "  63882: ',,N,',\n",
       "  64092: ',,W,',\n",
       "  64093: ',,W,2400',\n",
       "  64103: ',,N,',\n",
       "  64319: ',,W,',\n",
       "  64320: ',,W,2400',\n",
       "  64514: ',,W,',\n",
       "  64515: ',,W,2400',\n",
       "  64715: ',,W,',\n",
       "  64716: ',,W,2400',\n",
       "  64923: ',,W,',\n",
       "  64924: ',,W,2400',\n",
       "  64934: ',,N,',\n",
       "  65128: ',,W,',\n",
       "  65129: ',,W,2400',\n",
       "  65139: ',,N,',\n",
       "  65350: ',,W,',\n",
       "  65351: ',,W,2400'},\n",
       " 'value': {58914: 0.0,\n",
       "  59144: 0.0,\n",
       "  59145: 0.0,\n",
       "  59155: 0.0,\n",
       "  59372: 0.0,\n",
       "  59373: 0.0,\n",
       "  59580: 0.0,\n",
       "  59581: 0.0,\n",
       "  59592: 0.0,\n",
       "  59802: 0.0,\n",
       "  59803: 0.0,\n",
       "  59996: 0.0,\n",
       "  59997: 0.0,\n",
       "  60007: 0.0,\n",
       "  60206: 0.0,\n",
       "  60207: 0.0,\n",
       "  60405: 0.0,\n",
       "  60406: 0.0,\n",
       "  60416: 0.0,\n",
       "  60605: 0.0,\n",
       "  60606: 0.0,\n",
       "  60808: 0.0,\n",
       "  60809: 0.0,\n",
       "  60819: 0.0,\n",
       "  61011: 0.0,\n",
       "  61012: 0.0,\n",
       "  61024: 0.0,\n",
       "  61238: 0.0,\n",
       "  61239: 0.0,\n",
       "  61451: 0.0,\n",
       "  61452: 0.0,\n",
       "  61632: 0.0,\n",
       "  61633: 0.0,\n",
       "  61822: 0.0,\n",
       "  61823: 0.0,\n",
       "  62022: 0.0,\n",
       "  62023: 0.0,\n",
       "  62214: 0.0,\n",
       "  62215: 0.0,\n",
       "  62226: 0.0,\n",
       "  62423: 0.0,\n",
       "  62424: 0.0,\n",
       "  62434: 0.0,\n",
       "  62626: 0.0,\n",
       "  62627: 0.0,\n",
       "  62637: 0.0,\n",
       "  62848: 0.0,\n",
       "  62849: 0.0,\n",
       "  63031: 0.0,\n",
       "  63032: 0.0,\n",
       "  63221: 0.0,\n",
       "  63222: 0.0,\n",
       "  63233: 0.0,\n",
       "  63440: 0.0,\n",
       "  63441: 0.0,\n",
       "  63451: 0.0,\n",
       "  63665: 0.0,\n",
       "  63666: 0.0,\n",
       "  63676: 0.0,\n",
       "  63871: 0.0,\n",
       "  63872: 0.0,\n",
       "  63882: 0.0,\n",
       "  64092: 0.0,\n",
       "  64093: 0.0,\n",
       "  64103: 0.0,\n",
       "  64319: 0.0,\n",
       "  64320: 0.0,\n",
       "  64514: 0.0,\n",
       "  64515: 0.0,\n",
       "  64715: 0.0,\n",
       "  64716: 0.0,\n",
       "  64923: 0.0,\n",
       "  64924: 0.0,\n",
       "  64934: 0.0,\n",
       "  65128: 0.0,\n",
       "  65129: 0.0,\n",
       "  65139: 0.0,\n",
       "  65350: 0.0,\n",
       "  65351: 0.0}}"
      ]
     },
     "execution_count": 3,
     "metadata": {},
     "output_type": "execute_result"
    }
   ],
   "source": [
    "import pandas as pd\n",
    "weather = pd.read_csv('data/nyc_weather_2018.csv')\n",
    "weather.head()\n",
    "\n",
    "################################################################\n",
    "# The following is just to get a small extract for my Cribsheet\n",
    "weather['date'] = pd.to_datetime(weather['date'])\n",
    "# weather.set_index('date', inplace=True)\n",
    "filt = (\n",
    "     weather['station'].isin(['GHCND:US1NJBG0003', 'GHCND:USW00094789'])) & ( \n",
    "          weather['date'] >= '2018-10-01') & (weather['date'] <= '2018-10-31') & (\n",
    "          weather['datatype'].isin(['SNOW', 'SNWD']))\n",
    "weather['date'] = weather['date'].astype('str')\n",
    "weather.loc[filt].to_dict()\n",
    "# weather.loc[filt]\n",
    "################################################################"
   ]
  },
  {
   "cell_type": "markdown",
   "metadata": {},
   "source": [
    "## Querying DataFrames\n",
    "The `query()` method is an easier way of filtering based on some criteria. For example, we can use it to find all entries where snow was recorded from a station with `US1NY` in its station ID:"
   ]
  },
  {
   "cell_type": "code",
   "execution_count": 4,
   "metadata": {},
   "outputs": [
    {
     "data": {
      "text/html": [
       "<div>\n",
       "<style scoped>\n",
       "    .dataframe tbody tr th:only-of-type {\n",
       "        vertical-align: middle;\n",
       "    }\n",
       "\n",
       "    .dataframe tbody tr th {\n",
       "        vertical-align: top;\n",
       "    }\n",
       "\n",
       "    .dataframe thead th {\n",
       "        text-align: right;\n",
       "    }\n",
       "</style>\n",
       "<table border=\"1\" class=\"dataframe\">\n",
       "  <thead>\n",
       "    <tr style=\"text-align: right;\">\n",
       "      <th></th>\n",
       "      <th>date</th>\n",
       "      <th>datatype</th>\n",
       "      <th>station</th>\n",
       "      <th>attributes</th>\n",
       "      <th>value</th>\n",
       "    </tr>\n",
       "  </thead>\n",
       "  <tbody>\n",
       "    <tr>\n",
       "      <th>114</th>\n",
       "      <td>2018-01-01</td>\n",
       "      <td>SNOW</td>\n",
       "      <td>GHCND:US1NYWC0019</td>\n",
       "      <td>,,N,</td>\n",
       "      <td>25.0</td>\n",
       "    </tr>\n",
       "    <tr>\n",
       "      <th>789</th>\n",
       "      <td>2018-01-04</td>\n",
       "      <td>SNOW</td>\n",
       "      <td>GHCND:US1NYNS0007</td>\n",
       "      <td>,,N,</td>\n",
       "      <td>41.0</td>\n",
       "    </tr>\n",
       "    <tr>\n",
       "      <th>794</th>\n",
       "      <td>2018-01-04</td>\n",
       "      <td>SNOW</td>\n",
       "      <td>GHCND:US1NYNS0018</td>\n",
       "      <td>,,N,</td>\n",
       "      <td>10.0</td>\n",
       "    </tr>\n",
       "    <tr>\n",
       "      <th>798</th>\n",
       "      <td>2018-01-04</td>\n",
       "      <td>SNOW</td>\n",
       "      <td>GHCND:US1NYNS0024</td>\n",
       "      <td>,,N,</td>\n",
       "      <td>89.0</td>\n",
       "    </tr>\n",
       "    <tr>\n",
       "      <th>800</th>\n",
       "      <td>2018-01-04</td>\n",
       "      <td>SNOW</td>\n",
       "      <td>GHCND:US1NYNS0030</td>\n",
       "      <td>,,N,</td>\n",
       "      <td>102.0</td>\n",
       "    </tr>\n",
       "  </tbody>\n",
       "</table>\n",
       "</div>"
      ],
      "text/plain": [
       "           date datatype            station attributes  value\n",
       "114  2018-01-01     SNOW  GHCND:US1NYWC0019       ,,N,   25.0\n",
       "789  2018-01-04     SNOW  GHCND:US1NYNS0007       ,,N,   41.0\n",
       "794  2018-01-04     SNOW  GHCND:US1NYNS0018       ,,N,   10.0\n",
       "798  2018-01-04     SNOW  GHCND:US1NYNS0024       ,,N,   89.0\n",
       "800  2018-01-04     SNOW  GHCND:US1NYNS0030       ,,N,  102.0"
      ]
     },
     "execution_count": 4,
     "metadata": {},
     "output_type": "execute_result"
    }
   ],
   "source": [
    "snow_data = weather.query('datatype == \"SNOW\" and value > 0 and station.str.contains(\"US1NY\")')\n",
    "snow_data.head()"
   ]
  },
  {
   "cell_type": "markdown",
   "metadata": {},
   "source": [
    "This is equivalent to querying the `weather.db` SQLite database for \n",
    "\n",
    "```sql\n",
    "SELECT * \n",
    "FROM weather \n",
    "WHERE datatype == \"SNOW\" AND value > 0 AND station LIKE \"%US1NY%\"\n",
    "```"
   ]
  },
  {
   "cell_type": "code",
   "execution_count": 5,
   "metadata": {},
   "outputs": [
    {
     "data": {
      "text/plain": [
       "False"
      ]
     },
     "execution_count": 5,
     "metadata": {},
     "output_type": "execute_result"
    }
   ],
   "source": [
    "import sqlite3\n",
    "\n",
    "with sqlite3.connect('data/weather.db') as connection:\n",
    "    snow_data_from_db = pd.read_sql(\n",
    "        'SELECT * FROM weather WHERE datatype == \"SNOW\" AND value > 0 and station LIKE \"%US1NY%\"', \n",
    "        connection\n",
    "    )\n",
    "\n",
    "snow_data.reset_index().drop(columns='index').equals(snow_data_from_db)"
   ]
  },
  {
   "cell_type": "markdown",
   "metadata": {},
   "source": [
    "Note this is also equivalent to creating Boolean masks:"
   ]
  },
  {
   "cell_type": "code",
   "execution_count": 6,
   "metadata": {},
   "outputs": [
    {
     "data": {
      "text/plain": [
       "True"
      ]
     },
     "execution_count": 6,
     "metadata": {},
     "output_type": "execute_result"
    }
   ],
   "source": [
    "weather[\n",
    "    (weather.datatype == 'SNOW') \n",
    "    & (weather.value > 0)\n",
    "    & weather.station.str.contains('US1NY')\n",
    "].equals(snow_data)"
   ]
  },
  {
   "cell_type": "markdown",
   "metadata": {},
   "source": [
    "## Merging DataFrames\n",
    "We have data for many different stations each day; however, we don't know what the stations are&mdash;just their IDs. We can join the data in the `weather_stations.csv` file which contains information from the `stations` endpoint of the NCEI API. Consult the [`0-weather_data_collection.ipynb`](./0-weather_data_collection.ipynb) notebook to see how this was collected. It looks like this:"
   ]
  },
  {
   "cell_type": "code",
   "execution_count": 23,
   "metadata": {},
   "outputs": [
    {
     "data": {
      "text/html": [
       "<div>\n",
       "<style scoped>\n",
       "    .dataframe tbody tr th:only-of-type {\n",
       "        vertical-align: middle;\n",
       "    }\n",
       "\n",
       "    .dataframe tbody tr th {\n",
       "        vertical-align: top;\n",
       "    }\n",
       "\n",
       "    .dataframe thead th {\n",
       "        text-align: right;\n",
       "    }\n",
       "</style>\n",
       "<table border=\"1\" class=\"dataframe\">\n",
       "  <thead>\n",
       "    <tr style=\"text-align: right;\">\n",
       "      <th></th>\n",
       "      <th>id</th>\n",
       "      <th>name</th>\n",
       "      <th>latitude</th>\n",
       "      <th>longitude</th>\n",
       "      <th>elevation</th>\n",
       "    </tr>\n",
       "  </thead>\n",
       "  <tbody>\n",
       "    <tr>\n",
       "      <th>0</th>\n",
       "      <td>GHCND:US1CTFR0022</td>\n",
       "      <td>STAMFORD 2.6 SSW, CT US</td>\n",
       "      <td>41.06410</td>\n",
       "      <td>-73.57700</td>\n",
       "      <td>36.6</td>\n",
       "    </tr>\n",
       "    <tr>\n",
       "      <th>4</th>\n",
       "      <td>GHCND:US1NJBG0003</td>\n",
       "      <td>TENAFLY 1.3 W, NJ US</td>\n",
       "      <td>40.91467</td>\n",
       "      <td>-73.97750</td>\n",
       "      <td>21.6</td>\n",
       "    </tr>\n",
       "    <tr>\n",
       "      <th>278</th>\n",
       "      <td>GHCND:USW00094789</td>\n",
       "      <td>JFK INTERNATIONAL AIRPORT, NY US</td>\n",
       "      <td>40.63915</td>\n",
       "      <td>-73.76401</td>\n",
       "      <td>3.4</td>\n",
       "    </tr>\n",
       "  </tbody>\n",
       "</table>\n",
       "</div>"
      ],
      "text/plain": [
       "                    id                              name  latitude  longitude  \\\n",
       "0    GHCND:US1CTFR0022           STAMFORD 2.6 SSW, CT US  41.06410  -73.57700   \n",
       "4    GHCND:US1NJBG0003              TENAFLY 1.3 W, NJ US  40.91467  -73.97750   \n",
       "278  GHCND:USW00094789  JFK INTERNATIONAL AIRPORT, NY US  40.63915  -73.76401   \n",
       "\n",
       "     elevation  \n",
       "0         36.6  \n",
       "4         21.6  \n",
       "278        3.4  "
      ]
     },
     "execution_count": 23,
     "metadata": {},
     "output_type": "execute_result"
    }
   ],
   "source": [
    "station_info = pd.read_csv('data/weather_stations.csv')\n",
    "station_info.head()\n",
    "# station_info.describe()\n",
    "\n",
    "\n",
    "####################################\n",
    "# This is to get an extract for my cribsheet\n",
    "# station_info.set_index('id') \n",
    "filtr = station_info['id'].isin(['GHCND:US1NJBG0003', 'GHCND:USW00094789', 'GHCND:US1CTFR0022'])\n",
    "station_info.loc[filtr]"
   ]
  },
  {
   "cell_type": "markdown",
   "metadata": {},
   "source": [
    "As a reminder, the weather data looks like this:"
   ]
  },
  {
   "cell_type": "code",
   "execution_count": null,
   "metadata": {},
   "outputs": [],
   "source": [
    "weather.head()\n",
    "# weather.info()"
   ]
  },
  {
   "cell_type": "markdown",
   "metadata": {},
   "source": [
    "We can join our data by matching up the `station_info.id` column with the `weather.station` column. Before doing that though, let's see how many unique values we have:"
   ]
  },
  {
   "cell_type": "code",
   "execution_count": null,
   "metadata": {},
   "outputs": [],
   "source": [
    "# station_info.id.describe()\n",
    "station_info['id'].describe()"
   ]
  },
  {
   "cell_type": "markdown",
   "metadata": {},
   "source": [
    "While `station_info` has one row per station, the `weather` dataframe has many entries per station. Notice it also has fewer uniques:"
   ]
  },
  {
   "cell_type": "code",
   "execution_count": null,
   "metadata": {},
   "outputs": [],
   "source": [
    "# weather.station.describe()\n",
    "weather['station'].describe()"
   ]
  },
  {
   "cell_type": "markdown",
   "metadata": {},
   "source": [
    "When working with joins, it is important to keep an eye on the row count. Some join types will lead to data loss. Remember that we can get this with `shape`:"
   ]
  },
  {
   "cell_type": "code",
   "execution_count": null,
   "metadata": {},
   "outputs": [],
   "source": [
    "station_info.shape[0], weather.shape[0]"
   ]
  },
  {
   "cell_type": "markdown",
   "metadata": {},
   "source": [
    "Since we will be doing this often, it makes more sense to write a function:"
   ]
  },
  {
   "cell_type": "code",
   "execution_count": null,
   "metadata": {},
   "outputs": [],
   "source": [
    "def get_row_count(*dfs):\n",
    "    return [df.shape[0] for df in dfs]\n",
    "get_row_count(station_info, weather)"
   ]
  },
  {
   "cell_type": "markdown",
   "metadata": {},
   "source": [
    "By default, `merge()` performs an inner join. We simply specify the columns to use for the join. The left dataframe is the one we call `merge()` on, and the right one is passed in as an argument:"
   ]
  },
  {
   "cell_type": "code",
   "execution_count": null,
   "metadata": {},
   "outputs": [],
   "source": [
    "inner_join = weather.merge(station_info, left_on='station', right_on='id')\n",
    "inner_join.sample(5, random_state=0)"
   ]
  },
  {
   "cell_type": "markdown",
   "metadata": {},
   "source": [
    "We can remove the duplication of information in the `station` and `id` columns by renaming one of them before the merge and then simply using `on`:"
   ]
  },
  {
   "cell_type": "code",
   "execution_count": null,
   "metadata": {},
   "outputs": [],
   "source": [
    "weather.merge(station_info.rename(dict(id='station'), axis=1), on='station').sample(5, random_state=0)"
   ]
  },
  {
   "cell_type": "markdown",
   "metadata": {},
   "source": [
    "We are losing stations that don't have weather observations associated with them, if we don't want to lose these rows, we perform a right or left join instead of the inner join:"
   ]
  },
  {
   "cell_type": "code",
   "execution_count": null,
   "metadata": {},
   "outputs": [],
   "source": [
    "left_join = station_info.merge(weather, left_on='id', right_on='station', how='left')\n",
    "right_join = weather.merge(station_info, left_on='station', right_on='id', how='right')\n",
    "\n",
    "right_join[right_join.datatype.isna()].head()"
   ]
  },
  {
   "cell_type": "markdown",
   "metadata": {},
   "source": [
    "The left and right join as we performed above are equivalent because the side for which we kept the rows without matches was the same in both cases:"
   ]
  },
  {
   "cell_type": "code",
   "execution_count": null,
   "metadata": {},
   "outputs": [],
   "source": [
    "left_join.sort_index(axis=1).sort_values(['date', 'station'], ignore_index=True).equals(\n",
    "    right_join.sort_index(axis=1).sort_values(['date', 'station'], ignore_index=True)\n",
    ")"
   ]
  },
  {
   "cell_type": "markdown",
   "metadata": {},
   "source": [
    "Note we have additional rows in the left and right joins because we kept all the stations that didn't have weather observations:"
   ]
  },
  {
   "cell_type": "code",
   "execution_count": null,
   "metadata": {},
   "outputs": [],
   "source": [
    "get_row_count(inner_join, left_join, right_join)"
   ]
  },
  {
   "cell_type": "markdown",
   "metadata": {},
   "source": [
    "If we query the station information for stations that have `US1NY` in their ID and perform an outer join, we can see where the mismatches occur:"
   ]
  },
  {
   "cell_type": "code",
   "execution_count": null,
   "metadata": {},
   "outputs": [],
   "source": [
    "# outer_join = weather.merge(\n",
    "#     station_info[station_info.id.str.contains('US1NY')], \n",
    "#     left_on='station', right_on='id', how='outer', indicator=True\n",
    "# )\n",
    "\n",
    "# pd.concat([\n",
    "#     outer_join.query(f'_merge == \"{kind}\"').sample(2, random_state=0) \n",
    "#     for kind in outer_join._merge.unique()\n",
    "# ]).sort_index()\n",
    "\n",
    "\n",
    "outer_join = weather.merge(\n",
    "    station_info[station_info['id'].str.contains('US1NY')], \n",
    "    left_on='station', right_on='id', how='outer', indicator=True\n",
    ")\n",
    "\n",
    "pd.concat([\n",
    "    outer_join.query(f'_merge == \"{kind}\"').sample(2, random_state=0) \n",
    "    for kind in outer_join['_merge'].unique()\n",
    "]).sort_index()"
   ]
  },
  {
   "cell_type": "markdown",
   "metadata": {},
   "source": [
    "These joins are equivalent to their SQL counterparts. Below is the inner join. Note that to use `equals()` you will have to do some manipulation of the dataframes to line them up:"
   ]
  },
  {
   "cell_type": "code",
   "execution_count": null,
   "metadata": {},
   "outputs": [],
   "source": [
    "import sqlite3\n",
    "\n",
    "with sqlite3.connect('data/weather.db') as connection:\n",
    "    inner_join_from_db = pd.read_sql(\n",
    "        'SELECT * FROM weather JOIN stations ON weather.station == stations.id', \n",
    "        connection\n",
    "    )\n",
    "\n",
    "inner_join_from_db.shape == inner_join.shape"
   ]
  },
  {
   "cell_type": "markdown",
   "metadata": {},
   "source": [
    "Revisiting the dirty data from chapter 3's [`5-handling_data_issues.ipynb`](../ch_03/5-handling_data_issues.ipynb) notebook.\n",
    "\n",
    "Data meanings:\n",
    "- `PRCP`: precipitation in millimeters\n",
    "- `SNOW`: snowfall in millimeters\n",
    "- `SNWD`: snow depth in millimeters\n",
    "- `TMAX`: maximum daily temperature in Celsius\n",
    "- `TMIN`: minimum daily temperature in Celsius\n",
    "- `TOBS`: temperature at time of observation in Celsius\n",
    "- `WESF`: water equivalent of snow in millimeters\n",
    "\n",
    "\n",
    "Read in the data, dropping duplicates and the uninformative `SNWD` column:"
   ]
  },
  {
   "cell_type": "code",
   "execution_count": null,
   "metadata": {},
   "outputs": [],
   "source": [
    "dirty_data = pd.read_csv(\n",
    "    'data/dirty_data.csv', index_col='date'\n",
    ").drop_duplicates().drop(columns='SNWD')\n",
    "dirty_data.head()"
   ]
  },
  {
   "cell_type": "markdown",
   "metadata": {},
   "source": [
    "We need to create two dataframes for the join. We will drop some unecessary columns as well for easier viewing:"
   ]
  },
  {
   "cell_type": "code",
   "execution_count": null,
   "metadata": {},
   "outputs": [],
   "source": [
    "valid_station = dirty_data.query('station != \"?\"').drop(columns=['WESF', 'station'])\n",
    "station_with_wesf = dirty_data.query('station == \"?\"').drop(columns=['station', 'TOBS', 'TMIN', 'TMAX'])"
   ]
  },
  {
   "cell_type": "markdown",
   "metadata": {},
   "source": [
    "Our column for the join is the index in both dataframes, so we must specify `left_index` and `right_index`:"
   ]
  },
  {
   "cell_type": "code",
   "execution_count": null,
   "metadata": {},
   "outputs": [],
   "source": [
    "valid_station.merge(\n",
    "    station_with_wesf, how='left', left_index=True, right_index=True\n",
    ").query('WESF > 0').head()"
   ]
  },
  {
   "cell_type": "markdown",
   "metadata": {},
   "source": [
    "The columns that existed in both dataframes, but didn't form part of the join got suffixes added to their names: `_x` for columns from the left dataframe and `_y` for columns from the right dataframe. We can customize this with the `suffixes` argument:"
   ]
  },
  {
   "cell_type": "code",
   "execution_count": null,
   "metadata": {},
   "outputs": [],
   "source": [
    "valid_station.merge(\n",
    "    station_with_wesf, how='left', left_index=True, right_index=True, suffixes=('', '_?')\n",
    ").query('WESF > 0').head()"
   ]
  },
  {
   "cell_type": "markdown",
   "metadata": {},
   "source": [
    "Since we are joining on the index, an easier way is to use the `join()` method instead of `merge()`. Note that the suffix parameter is now `lsuffix` for the left dataframe's suffix and `rsuffix` for the right one's:"
   ]
  },
  {
   "cell_type": "code",
   "execution_count": null,
   "metadata": {},
   "outputs": [],
   "source": [
    "valid_station.join(station_with_wesf, how='left', rsuffix='_?').query('WESF > 0').head()"
   ]
  },
  {
   "cell_type": "markdown",
   "metadata": {},
   "source": [
    "Joins can be very resource-intensive, so it's a good idea to figure out what type of join you need using set operations before trying the join itself. The `pandas` set operations are performed on the index, so whichever columns we will be joining on will need to be the index. Let's go back to the `weather` and `station_info` dataframes and set the station ID columns as the index:"
   ]
  },
  {
   "cell_type": "code",
   "execution_count": null,
   "metadata": {},
   "outputs": [],
   "source": [
    "weather.set_index('station', inplace=True)\n",
    "station_info.set_index('id', inplace=True)"
   ]
  },
  {
   "cell_type": "markdown",
   "metadata": {},
   "source": [
    "The intersection will tell us the stations that are present in both dataframes. The result will be the index when performing an inner join:"
   ]
  },
  {
   "cell_type": "code",
   "execution_count": null,
   "metadata": {},
   "outputs": [],
   "source": [
    "weather.index.intersection(station_info.index)"
   ]
  },
  {
   "cell_type": "markdown",
   "metadata": {},
   "source": [
    "The set difference will tell us what we lose from each side. When performing an inner join, we lose nothing from the `weather` dataframe:"
   ]
  },
  {
   "cell_type": "code",
   "execution_count": null,
   "metadata": {},
   "outputs": [],
   "source": [
    "weather.index.difference(station_info.index)"
   ]
  },
  {
   "cell_type": "markdown",
   "metadata": {},
   "source": [
    "We lose 169 stations from the `station_info` dataframe, however:"
   ]
  },
  {
   "cell_type": "code",
   "execution_count": null,
   "metadata": {},
   "outputs": [],
   "source": [
    "station_info.index.difference(weather.index)"
   ]
  },
  {
   "cell_type": "markdown",
   "metadata": {},
   "source": [
    "The symmetric difference tells us what we lose from both sides. It is the combination of the set differences in each direction:"
   ]
  },
  {
   "cell_type": "code",
   "execution_count": null,
   "metadata": {},
   "outputs": [],
   "source": [
    "ny_in_name = station_info[station_info.index.str.contains('US1NY')]\n",
    "\n",
    "ny_in_name.index.difference(weather.index).shape[0]\\\n",
    "+ weather.index.difference(ny_in_name.index).shape[0]\\\n",
    "== weather.index.symmetric_difference(ny_in_name.index).shape[0]"
   ]
  },
  {
   "cell_type": "markdown",
   "metadata": {},
   "source": [
    "The union will show us everything that will be present after a full outer join. Note that we pass in the unique values of the index to make sure we can see the number of stations we will be left with:"
   ]
  },
  {
   "cell_type": "code",
   "execution_count": null,
   "metadata": {},
   "outputs": [],
   "source": [
    "weather.index.unique().union(station_info.index)"
   ]
  },
  {
   "cell_type": "markdown",
   "metadata": {},
   "source": [
    "Note that the symmetric difference is actually the union of the set differences:"
   ]
  },
  {
   "cell_type": "code",
   "execution_count": null,
   "metadata": {},
   "outputs": [],
   "source": [
    "ny_in_name = station_info[station_info.index.str.contains('US1NY')]\n",
    "\n",
    "ny_in_name.index.difference(weather.index).union(weather.index.difference(ny_in_name.index)).equals(\n",
    "    weather.index.symmetric_difference(ny_in_name.index)\n",
    ")"
   ]
  },
  {
   "cell_type": "markdown",
   "metadata": {},
   "source": [
    "<hr>\n",
    "<div>\n",
    "    <a href=\"../ch_03/5-handling_data_issues.ipynb\">\n",
    "        <button>&#8592; Chapter 3</button>\n",
    "    </a>\n",
    "    <a href=\"./0-weather_data_collection.ipynb\">\n",
    "        <button>Weather Data Collection</button>\n",
    "    </a>\n",
    "    <a href=\"./2-dataframe_operations.ipynb\">\n",
    "        <button style=\"float: right;\">Next Notebook &#8594;</button>\n",
    "    </a>\n",
    "</div>\n",
    "<hr>"
   ]
  }
 ],
 "metadata": {
  "interpreter": {
   "hash": "5a70f06b507262f31b89176508e475640d46e68eef615cef5edbec11944d4c91"
  },
  "kernelspec": {
   "display_name": "Python 3.7.3 ('hands')",
   "language": "python",
   "name": "python3"
  },
  "language_info": {
   "codemirror_mode": {
    "name": "ipython",
    "version": 3
   },
   "file_extension": ".py",
   "mimetype": "text/x-python",
   "name": "python",
   "nbconvert_exporter": "python",
   "pygments_lexer": "ipython3",
   "version": "3.7.3"
  }
 },
 "nbformat": 4,
 "nbformat_minor": 4
}
