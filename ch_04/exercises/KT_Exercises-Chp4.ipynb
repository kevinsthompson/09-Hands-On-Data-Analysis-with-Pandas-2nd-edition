{
 "cells": [
  {
   "cell_type": "markdown",
   "metadata": {},
   "source": [
    "# Exercises from Chap 4\n"
   ]
  },
  {
   "cell_type": "markdown",
   "metadata": {},
   "source": [
    "## Set-Up\n"
   ]
  },
  {
   "cell_type": "code",
   "execution_count": 1,
   "metadata": {},
   "outputs": [],
   "source": [
    "import pandas as pd"
   ]
  },
  {
   "cell_type": "markdown",
   "metadata": {},
   "source": [
    "## Q1"
   ]
  },
  {
   "cell_type": "code",
   "execution_count": 100,
   "metadata": {},
   "outputs": [
    {
     "data": {
      "text/html": [
       "<div>\n",
       "<style scoped>\n",
       "    .dataframe tbody tr th:only-of-type {\n",
       "        vertical-align: middle;\n",
       "    }\n",
       "\n",
       "    .dataframe tbody tr th {\n",
       "        vertical-align: top;\n",
       "    }\n",
       "\n",
       "    .dataframe thead th {\n",
       "        text-align: right;\n",
       "    }\n",
       "</style>\n",
       "<table border=\"1\" class=\"dataframe\">\n",
       "  <thead>\n",
       "    <tr style=\"text-align: right;\">\n",
       "      <th></th>\n",
       "      <th>mag</th>\n",
       "      <th>magType</th>\n",
       "      <th>time</th>\n",
       "      <th>place</th>\n",
       "      <th>tsunami</th>\n",
       "      <th>parsed_place</th>\n",
       "    </tr>\n",
       "  </thead>\n",
       "  <tbody>\n",
       "    <tr>\n",
       "      <th>1563</th>\n",
       "      <td>4.9</td>\n",
       "      <td>mb</td>\n",
       "      <td>1538977532250</td>\n",
       "      <td>293km ESE of Iwo Jima, Japan</td>\n",
       "      <td>0</td>\n",
       "      <td>Japan</td>\n",
       "    </tr>\n",
       "    <tr>\n",
       "      <th>2576</th>\n",
       "      <td>5.4</td>\n",
       "      <td>mb</td>\n",
       "      <td>1538697528010</td>\n",
       "      <td>37km E of Tomakomai, Japan</td>\n",
       "      <td>0</td>\n",
       "      <td>Japan</td>\n",
       "    </tr>\n",
       "    <tr>\n",
       "      <th>3072</th>\n",
       "      <td>4.9</td>\n",
       "      <td>mb</td>\n",
       "      <td>1538579732490</td>\n",
       "      <td>15km ENE of Hasaki, Japan</td>\n",
       "      <td>0</td>\n",
       "      <td>Japan</td>\n",
       "    </tr>\n",
       "    <tr>\n",
       "      <th>3632</th>\n",
       "      <td>4.9</td>\n",
       "      <td>mb</td>\n",
       "      <td>1538450871260</td>\n",
       "      <td>53km ESE of Hitachi, Japan</td>\n",
       "      <td>0</td>\n",
       "      <td>Japan</td>\n",
       "    </tr>\n",
       "  </tbody>\n",
       "</table>\n",
       "</div>"
      ],
      "text/plain": [
       "      mag magType           time                         place  tsunami  \\\n",
       "1563  4.9      mb  1538977532250  293km ESE of Iwo Jima, Japan        0   \n",
       "2576  5.4      mb  1538697528010    37km E of Tomakomai, Japan        0   \n",
       "3072  4.9      mb  1538579732490     15km ENE of Hasaki, Japan        0   \n",
       "3632  4.9      mb  1538450871260    53km ESE of Hitachi, Japan        0   \n",
       "\n",
       "     parsed_place  \n",
       "1563        Japan  \n",
       "2576        Japan  \n",
       "3072        Japan  \n",
       "3632        Japan  "
      ]
     },
     "execution_count": 100,
     "metadata": {},
     "output_type": "execute_result"
    }
   ],
   "source": [
    "df = pd.read_csv('earthquakes.csv'\n",
    "        ).query('mag >= 4.9 and magType == \"mb\" and parsed_place  == \"Japan\"')\n",
    "\n",
    "df"
   ]
  },
  {
   "cell_type": "markdown",
   "metadata": {},
   "source": [
    "## Q2"
   ]
  },
  {
   "cell_type": "code",
   "execution_count": 83,
   "metadata": {},
   "outputs": [
    {
     "data": {
      "text/plain": [
       "9       (4, 5]\n",
       "13      (4, 5]\n",
       "55      (4, 5]\n",
       "67      (4, 5]\n",
       "91      (4, 5]\n",
       "         ...  \n",
       "9297    (4, 5]\n",
       "9304    (5, 6]\n",
       "9309    (4, 5]\n",
       "9319    (4, 5]\n",
       "9321    (4, 5]\n",
       "Name: mag, Length: 601, dtype: category\n",
       "Categories (6, interval[int64, right]): [(0, 1] < (1, 2] < (2, 3] < (3, 4] < (4, 5] < (5, 6]]"
      ]
     },
     "execution_count": 83,
     "metadata": {},
     "output_type": "execute_result"
    }
   ],
   "source": [
    "list = pd.cut(df['mag'],range(int(df['mag'].max())+1))\n",
    "list"
   ]
  }
 ],
 "metadata": {
  "interpreter": {
   "hash": "3abd6171fa1ea65bf49371a625e2f428f7c9851bddb54635de65591e57828a17"
  },
  "kernelspec": {
   "display_name": "Python 3.10.4 ('c3.10.4')",
   "language": "python",
   "name": "python3"
  },
  "language_info": {
   "codemirror_mode": {
    "name": "ipython",
    "version": 3
   },
   "file_extension": ".py",
   "mimetype": "text/x-python",
   "name": "python",
   "nbconvert_exporter": "python",
   "pygments_lexer": "ipython3",
   "version": "3.10.4"
  },
  "orig_nbformat": 4
 },
 "nbformat": 4,
 "nbformat_minor": 2
}
