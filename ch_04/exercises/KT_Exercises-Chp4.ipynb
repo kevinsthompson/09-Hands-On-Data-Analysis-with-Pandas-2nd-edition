{
 "cells": [
  {
   "cell_type": "markdown",
   "metadata": {},
   "source": [
    "# Exercises from Chap 4\n"
   ]
  },
  {
   "cell_type": "markdown",
   "metadata": {},
   "source": [
    "## Set-Up\n"
   ]
  },
  {
   "cell_type": "code",
   "execution_count": 1,
   "metadata": {},
   "outputs": [],
   "source": [
    "import pandas as pd"
   ]
  },
  {
   "cell_type": "markdown",
   "metadata": {},
   "source": [
    "## Q1"
   ]
  },
  {
   "cell_type": "code",
   "execution_count": 37,
   "metadata": {},
   "outputs": [
    {
     "data": {
      "text/html": [
       "<div>\n",
       "<style scoped>\n",
       "    .dataframe tbody tr th:only-of-type {\n",
       "        vertical-align: middle;\n",
       "    }\n",
       "\n",
       "    .dataframe tbody tr th {\n",
       "        vertical-align: top;\n",
       "    }\n",
       "\n",
       "    .dataframe thead th {\n",
       "        text-align: right;\n",
       "    }\n",
       "</style>\n",
       "<table border=\"1\" class=\"dataframe\">\n",
       "  <thead>\n",
       "    <tr style=\"text-align: right;\">\n",
       "      <th></th>\n",
       "      <th>mag</th>\n",
       "      <th>magType</th>\n",
       "      <th>time</th>\n",
       "      <th>place</th>\n",
       "      <th>tsunami</th>\n",
       "      <th>parsed_place</th>\n",
       "    </tr>\n",
       "  </thead>\n",
       "  <tbody>\n",
       "    <tr>\n",
       "      <th>9</th>\n",
       "      <td>4.7</td>\n",
       "      <td>mb</td>\n",
       "      <td>1539472814760</td>\n",
       "      <td>219km SSE of Saparua, Indonesia</td>\n",
       "      <td>0</td>\n",
       "      <td>Indonesia</td>\n",
       "    </tr>\n",
       "    <tr>\n",
       "      <th>13</th>\n",
       "      <td>4.5</td>\n",
       "      <td>mb</td>\n",
       "      <td>1539470898340</td>\n",
       "      <td>120km SSW of Banda Aceh, Indonesia</td>\n",
       "      <td>0</td>\n",
       "      <td>Indonesia</td>\n",
       "    </tr>\n",
       "    <tr>\n",
       "      <th>55</th>\n",
       "      <td>4.6</td>\n",
       "      <td>mb</td>\n",
       "      <td>1539453241120</td>\n",
       "      <td>242km NNW of Farallon de Pajaros, Northern Mar...</td>\n",
       "      <td>0</td>\n",
       "      <td>Northern Mariana Islands</td>\n",
       "    </tr>\n",
       "    <tr>\n",
       "      <th>67</th>\n",
       "      <td>4.6</td>\n",
       "      <td>mb</td>\n",
       "      <td>1539448501800</td>\n",
       "      <td>160km NNW of Nago, Japan</td>\n",
       "      <td>0</td>\n",
       "      <td>Japan</td>\n",
       "    </tr>\n",
       "    <tr>\n",
       "      <th>91</th>\n",
       "      <td>4.7</td>\n",
       "      <td>mb</td>\n",
       "      <td>1539437762090</td>\n",
       "      <td>32km SE of Muisne, Ecuador</td>\n",
       "      <td>0</td>\n",
       "      <td>Ecuador</td>\n",
       "    </tr>\n",
       "    <tr>\n",
       "      <th>...</th>\n",
       "      <td>...</td>\n",
       "      <td>...</td>\n",
       "      <td>...</td>\n",
       "      <td>...</td>\n",
       "      <td>...</td>\n",
       "      <td>...</td>\n",
       "    </tr>\n",
       "    <tr>\n",
       "      <th>9297</th>\n",
       "      <td>4.2</td>\n",
       "      <td>mb</td>\n",
       "      <td>1537238925690</td>\n",
       "      <td>2km NE of Kato Achaia, Greece</td>\n",
       "      <td>0</td>\n",
       "      <td>Greece</td>\n",
       "    </tr>\n",
       "    <tr>\n",
       "      <th>9304</th>\n",
       "      <td>5.1</td>\n",
       "      <td>mb</td>\n",
       "      <td>1537236235470</td>\n",
       "      <td>34km NW of Finschhafen, Papua New Guinea</td>\n",
       "      <td>1</td>\n",
       "      <td>Papua New Guinea</td>\n",
       "    </tr>\n",
       "    <tr>\n",
       "      <th>9309</th>\n",
       "      <td>4.8</td>\n",
       "      <td>mb</td>\n",
       "      <td>1537234582260</td>\n",
       "      <td>11km ESE of Rotorua, New Zealand</td>\n",
       "      <td>0</td>\n",
       "      <td>New Zealand</td>\n",
       "    </tr>\n",
       "    <tr>\n",
       "      <th>9319</th>\n",
       "      <td>4.4</td>\n",
       "      <td>mb</td>\n",
       "      <td>1537231966170</td>\n",
       "      <td>58km W of San Antonio de los Cobres, Argentina</td>\n",
       "      <td>0</td>\n",
       "      <td>Argentina</td>\n",
       "    </tr>\n",
       "    <tr>\n",
       "      <th>9321</th>\n",
       "      <td>4.3</td>\n",
       "      <td>mb</td>\n",
       "      <td>1537231275500</td>\n",
       "      <td>19km NE of Cateel, Philippines</td>\n",
       "      <td>0</td>\n",
       "      <td>Philippines</td>\n",
       "    </tr>\n",
       "  </tbody>\n",
       "</table>\n",
       "<p>601 rows × 6 columns</p>\n",
       "</div>"
      ],
      "text/plain": [
       "      mag magType           time  \\\n",
       "9     4.7      mb  1539472814760   \n",
       "13    4.5      mb  1539470898340   \n",
       "55    4.6      mb  1539453241120   \n",
       "67    4.6      mb  1539448501800   \n",
       "91    4.7      mb  1539437762090   \n",
       "...   ...     ...            ...   \n",
       "9297  4.2      mb  1537238925690   \n",
       "9304  5.1      mb  1537236235470   \n",
       "9309  4.8      mb  1537234582260   \n",
       "9319  4.4      mb  1537231966170   \n",
       "9321  4.3      mb  1537231275500   \n",
       "\n",
       "                                                  place  tsunami  \\\n",
       "9                       219km SSE of Saparua, Indonesia        0   \n",
       "13                   120km SSW of Banda Aceh, Indonesia        0   \n",
       "55    242km NNW of Farallon de Pajaros, Northern Mar...        0   \n",
       "67                             160km NNW of Nago, Japan        0   \n",
       "91                           32km SE of Muisne, Ecuador        0   \n",
       "...                                                 ...      ...   \n",
       "9297                      2km NE of Kato Achaia, Greece        0   \n",
       "9304           34km NW of Finschhafen, Papua New Guinea        1   \n",
       "9309                   11km ESE of Rotorua, New Zealand        0   \n",
       "9319     58km W of San Antonio de los Cobres, Argentina        0   \n",
       "9321                     19km NE of Cateel, Philippines        0   \n",
       "\n",
       "                  parsed_place  \n",
       "9                    Indonesia  \n",
       "13                   Indonesia  \n",
       "55    Northern Mariana Islands  \n",
       "67                       Japan  \n",
       "91                     Ecuador  \n",
       "...                        ...  \n",
       "9297                    Greece  \n",
       "9304          Papua New Guinea  \n",
       "9309               New Zealand  \n",
       "9319                 Argentina  \n",
       "9321               Philippines  \n",
       "\n",
       "[601 rows x 6 columns]"
      ]
     },
     "execution_count": 37,
     "metadata": {},
     "output_type": "execute_result"
    }
   ],
   "source": [
    "df = pd.read_csv('earthquakes.csv'\n",
    "        ).query(\"mag > 3 and magType == 'mb'\")\n",
    "\n",
    "df"
   ]
  },
  {
   "cell_type": "markdown",
   "metadata": {},
   "source": [
    "## Q2"
   ]
  },
  {
   "cell_type": "code",
   "execution_count": 51,
   "metadata": {},
   "outputs": [
    {
     "ename": "TypeError",
     "evalue": "'float' object cannot be interpreted as an integer",
     "output_type": "error",
     "traceback": [
      "\u001b[1;31m---------------------------------------------------------------------------\u001b[0m",
      "\u001b[1;31mTypeError\u001b[0m                                 Traceback (most recent call last)",
      "\u001b[1;32mc:\\Users\\kthompso\\OneDrive - CAIRNS REGIONAL COUNCIL\\04-Git\\09-Hands-On-Data-Analysis-with-Pandas-2nd-edition\\ch_04\\exercises\\KT_Exercises-Chp4.ipynb Cell 7'\u001b[0m in \u001b[0;36m<cell line: 1>\u001b[1;34m()\u001b[0m\n\u001b[1;32m----> <a href='vscode-notebook-cell:/c%3A/Users/kthompso/OneDrive%20-%20CAIRNS%20REGIONAL%20COUNCIL/04-Git/09-Hands-On-Data-Analysis-with-Pandas-2nd-edition/ch_04/exercises/KT_Exercises-Chp4.ipynb#ch0000006?line=0'>1</a>\u001b[0m pd\u001b[39m.\u001b[39mcut(df[\u001b[39m'\u001b[39m\u001b[39mmag\u001b[39m\u001b[39m'\u001b[39m], \u001b[39mrange\u001b[39;49m(df[\u001b[39m'\u001b[39;49m\u001b[39mmag\u001b[39;49m\u001b[39m'\u001b[39;49m]\u001b[39m.\u001b[39;49mmax()))\n",
      "\u001b[1;31mTypeError\u001b[0m: 'float' object cannot be interpreted as an integer"
     ]
    }
   ],
   "source": [
    "pd.cut(df['mag'], range(df['mag'].max()))\n",
    "\n",
    "\n",
    "\n"
   ]
  }
 ],
 "metadata": {
  "interpreter": {
   "hash": "3abd6171fa1ea65bf49371a625e2f428f7c9851bddb54635de65591e57828a17"
  },
  "kernelspec": {
   "display_name": "Python 3.10.4 ('c3.10.4')",
   "language": "python",
   "name": "python3"
  },
  "language_info": {
   "codemirror_mode": {
    "name": "ipython",
    "version": 3
   },
   "file_extension": ".py",
   "mimetype": "text/x-python",
   "name": "python",
   "nbconvert_exporter": "python",
   "pygments_lexer": "ipython3",
   "version": "3.10.4"
  },
  "orig_nbformat": 4
 },
 "nbformat": 4,
 "nbformat_minor": 2
}
