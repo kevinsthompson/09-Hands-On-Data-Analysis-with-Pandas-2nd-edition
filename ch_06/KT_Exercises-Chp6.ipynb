{
 "cells": [
  {
   "cell_type": "markdown",
   "metadata": {},
   "source": [
    "# Exercises from Chap 6 \n"
   ]
  },
  {
   "cell_type": "markdown",
   "metadata": {},
   "source": [
    "## Set-Up"
   ]
  },
  {
   "cell_type": "code",
   "execution_count": 242,
   "metadata": {},
   "outputs": [
    {
     "name": "stdout",
     "output_type": "stream",
     "text": [
      "<class 'pandas.core.frame.DataFrame'>\n",
      "DatetimeIndex: 43718 entries, 2020-09-19 to 2020-03-21\n",
      "Data columns (total 12 columns):\n",
      " #   Column                                                      Non-Null Count  Dtype  \n",
      "---  ------                                                      --------------  -----  \n",
      " 0   dateRep                                                     43718 non-null  object \n",
      " 1   day                                                         43718 non-null  int64  \n",
      " 2   month                                                       43718 non-null  int64  \n",
      " 3   year                                                        43718 non-null  int64  \n",
      " 4   cases                                                       43718 non-null  int64  \n",
      " 5   deaths                                                      43718 non-null  int64  \n",
      " 6   countriesAndTerritories                                     43718 non-null  object \n",
      " 7   geoId                                                       43529 non-null  object \n",
      " 8   countryterritoryCode                                        43654 non-null  object \n",
      " 9   popData2019                                                 43654 non-null  float64\n",
      " 10  continentExp                                                43718 non-null  object \n",
      " 11  Cumulative_number_for_14_days_of_COVID-19_cases_per_100000  40937 non-null  float64\n",
      "dtypes: float64(2), int64(5), object(5)\n",
      "memory usage: 4.3+ MB\n"
     ]
    },
    {
     "data": {
      "text/html": [
       "<div>\n",
       "<style scoped>\n",
       "    .dataframe tbody tr th:only-of-type {\n",
       "        vertical-align: middle;\n",
       "    }\n",
       "\n",
       "    .dataframe tbody tr th {\n",
       "        vertical-align: top;\n",
       "    }\n",
       "\n",
       "    .dataframe thead th {\n",
       "        text-align: right;\n",
       "    }\n",
       "</style>\n",
       "<table border=\"1\" class=\"dataframe\">\n",
       "  <thead>\n",
       "    <tr style=\"text-align: right;\">\n",
       "      <th></th>\n",
       "      <th>dateRep</th>\n",
       "      <th>day</th>\n",
       "      <th>month</th>\n",
       "      <th>year</th>\n",
       "      <th>cases</th>\n",
       "      <th>deaths</th>\n",
       "      <th>countriesAndTerritories</th>\n",
       "      <th>geoId</th>\n",
       "      <th>countryterritoryCode</th>\n",
       "      <th>popData2019</th>\n",
       "      <th>continentExp</th>\n",
       "      <th>Cumulative_number_for_14_days_of_COVID-19_cases_per_100000</th>\n",
       "    </tr>\n",
       "    <tr>\n",
       "      <th>date</th>\n",
       "      <th></th>\n",
       "      <th></th>\n",
       "      <th></th>\n",
       "      <th></th>\n",
       "      <th></th>\n",
       "      <th></th>\n",
       "      <th></th>\n",
       "      <th></th>\n",
       "      <th></th>\n",
       "      <th></th>\n",
       "      <th></th>\n",
       "      <th></th>\n",
       "    </tr>\n",
       "  </thead>\n",
       "  <tbody>\n",
       "    <tr>\n",
       "      <th>2020-09-19</th>\n",
       "      <td>19/09/2020</td>\n",
       "      <td>19</td>\n",
       "      <td>9</td>\n",
       "      <td>2020</td>\n",
       "      <td>47</td>\n",
       "      <td>1</td>\n",
       "      <td>Afghanistan</td>\n",
       "      <td>AF</td>\n",
       "      <td>AFG</td>\n",
       "      <td>38041757.0</td>\n",
       "      <td>Asia</td>\n",
       "      <td>1.616645</td>\n",
       "    </tr>\n",
       "    <tr>\n",
       "      <th>2020-09-18</th>\n",
       "      <td>18/09/2020</td>\n",
       "      <td>18</td>\n",
       "      <td>9</td>\n",
       "      <td>2020</td>\n",
       "      <td>0</td>\n",
       "      <td>0</td>\n",
       "      <td>Afghanistan</td>\n",
       "      <td>AF</td>\n",
       "      <td>AFG</td>\n",
       "      <td>38041757.0</td>\n",
       "      <td>Asia</td>\n",
       "      <td>1.535155</td>\n",
       "    </tr>\n",
       "    <tr>\n",
       "      <th>2020-09-17</th>\n",
       "      <td>17/09/2020</td>\n",
       "      <td>17</td>\n",
       "      <td>9</td>\n",
       "      <td>2020</td>\n",
       "      <td>17</td>\n",
       "      <td>0</td>\n",
       "      <td>Afghanistan</td>\n",
       "      <td>AF</td>\n",
       "      <td>AFG</td>\n",
       "      <td>38041757.0</td>\n",
       "      <td>Asia</td>\n",
       "      <td>1.653446</td>\n",
       "    </tr>\n",
       "    <tr>\n",
       "      <th>2020-09-16</th>\n",
       "      <td>16/09/2020</td>\n",
       "      <td>16</td>\n",
       "      <td>9</td>\n",
       "      <td>2020</td>\n",
       "      <td>40</td>\n",
       "      <td>10</td>\n",
       "      <td>Afghanistan</td>\n",
       "      <td>AF</td>\n",
       "      <td>AFG</td>\n",
       "      <td>38041757.0</td>\n",
       "      <td>Asia</td>\n",
       "      <td>1.708649</td>\n",
       "    </tr>\n",
       "    <tr>\n",
       "      <th>2020-09-15</th>\n",
       "      <td>15/09/2020</td>\n",
       "      <td>15</td>\n",
       "      <td>9</td>\n",
       "      <td>2020</td>\n",
       "      <td>99</td>\n",
       "      <td>6</td>\n",
       "      <td>Afghanistan</td>\n",
       "      <td>AF</td>\n",
       "      <td>AFG</td>\n",
       "      <td>38041757.0</td>\n",
       "      <td>Asia</td>\n",
       "      <td>1.627159</td>\n",
       "    </tr>\n",
       "    <tr>\n",
       "      <th>2020-09-14</th>\n",
       "      <td>14/09/2020</td>\n",
       "      <td>14</td>\n",
       "      <td>9</td>\n",
       "      <td>2020</td>\n",
       "      <td>75</td>\n",
       "      <td>0</td>\n",
       "      <td>Afghanistan</td>\n",
       "      <td>AF</td>\n",
       "      <td>AFG</td>\n",
       "      <td>38041757.0</td>\n",
       "      <td>Asia</td>\n",
       "      <td>1.456294</td>\n",
       "    </tr>\n",
       "    <tr>\n",
       "      <th>2020-09-13</th>\n",
       "      <td>13/09/2020</td>\n",
       "      <td>13</td>\n",
       "      <td>9</td>\n",
       "      <td>2020</td>\n",
       "      <td>35</td>\n",
       "      <td>0</td>\n",
       "      <td>Afghanistan</td>\n",
       "      <td>AF</td>\n",
       "      <td>AFG</td>\n",
       "      <td>38041757.0</td>\n",
       "      <td>Asia</td>\n",
       "      <td>1.309088</td>\n",
       "    </tr>\n",
       "    <tr>\n",
       "      <th>2020-09-12</th>\n",
       "      <td>12/09/2020</td>\n",
       "      <td>12</td>\n",
       "      <td>9</td>\n",
       "      <td>2020</td>\n",
       "      <td>34</td>\n",
       "      <td>0</td>\n",
       "      <td>Afghanistan</td>\n",
       "      <td>AF</td>\n",
       "      <td>AFG</td>\n",
       "      <td>38041757.0</td>\n",
       "      <td>Asia</td>\n",
       "      <td>1.224970</td>\n",
       "    </tr>\n",
       "    <tr>\n",
       "      <th>2020-09-11</th>\n",
       "      <td>11/09/2020</td>\n",
       "      <td>11</td>\n",
       "      <td>9</td>\n",
       "      <td>2020</td>\n",
       "      <td>28</td>\n",
       "      <td>0</td>\n",
       "      <td>Afghanistan</td>\n",
       "      <td>AF</td>\n",
       "      <td>AFG</td>\n",
       "      <td>38041757.0</td>\n",
       "      <td>Asia</td>\n",
       "      <td>1.164510</td>\n",
       "    </tr>\n",
       "    <tr>\n",
       "      <th>2020-09-10</th>\n",
       "      <td>10/09/2020</td>\n",
       "      <td>10</td>\n",
       "      <td>9</td>\n",
       "      <td>2020</td>\n",
       "      <td>24</td>\n",
       "      <td>2</td>\n",
       "      <td>Afghanistan</td>\n",
       "      <td>AF</td>\n",
       "      <td>AFG</td>\n",
       "      <td>38041757.0</td>\n",
       "      <td>Asia</td>\n",
       "      <td>1.098793</td>\n",
       "    </tr>\n",
       "  </tbody>\n",
       "</table>\n",
       "</div>"
      ],
      "text/plain": [
       "               dateRep  day  month  year  cases  deaths  \\\n",
       "date                                                      \n",
       "2020-09-19  19/09/2020   19      9  2020     47       1   \n",
       "2020-09-18  18/09/2020   18      9  2020      0       0   \n",
       "2020-09-17  17/09/2020   17      9  2020     17       0   \n",
       "2020-09-16  16/09/2020   16      9  2020     40      10   \n",
       "2020-09-15  15/09/2020   15      9  2020     99       6   \n",
       "2020-09-14  14/09/2020   14      9  2020     75       0   \n",
       "2020-09-13  13/09/2020   13      9  2020     35       0   \n",
       "2020-09-12  12/09/2020   12      9  2020     34       0   \n",
       "2020-09-11  11/09/2020   11      9  2020     28       0   \n",
       "2020-09-10  10/09/2020   10      9  2020     24       2   \n",
       "\n",
       "           countriesAndTerritories geoId countryterritoryCode  popData2019  \\\n",
       "date                                                                         \n",
       "2020-09-19             Afghanistan    AF                  AFG   38041757.0   \n",
       "2020-09-18             Afghanistan    AF                  AFG   38041757.0   \n",
       "2020-09-17             Afghanistan    AF                  AFG   38041757.0   \n",
       "2020-09-16             Afghanistan    AF                  AFG   38041757.0   \n",
       "2020-09-15             Afghanistan    AF                  AFG   38041757.0   \n",
       "2020-09-14             Afghanistan    AF                  AFG   38041757.0   \n",
       "2020-09-13             Afghanistan    AF                  AFG   38041757.0   \n",
       "2020-09-12             Afghanistan    AF                  AFG   38041757.0   \n",
       "2020-09-11             Afghanistan    AF                  AFG   38041757.0   \n",
       "2020-09-10             Afghanistan    AF                  AFG   38041757.0   \n",
       "\n",
       "           continentExp  \\\n",
       "date                      \n",
       "2020-09-19         Asia   \n",
       "2020-09-18         Asia   \n",
       "2020-09-17         Asia   \n",
       "2020-09-16         Asia   \n",
       "2020-09-15         Asia   \n",
       "2020-09-14         Asia   \n",
       "2020-09-13         Asia   \n",
       "2020-09-12         Asia   \n",
       "2020-09-11         Asia   \n",
       "2020-09-10         Asia   \n",
       "\n",
       "            Cumulative_number_for_14_days_of_COVID-19_cases_per_100000  \n",
       "date                                                                    \n",
       "2020-09-19                                           1.616645           \n",
       "2020-09-18                                           1.535155           \n",
       "2020-09-17                                           1.653446           \n",
       "2020-09-16                                           1.708649           \n",
       "2020-09-15                                           1.627159           \n",
       "2020-09-14                                           1.456294           \n",
       "2020-09-13                                           1.309088           \n",
       "2020-09-12                                           1.224970           \n",
       "2020-09-11                                           1.164510           \n",
       "2020-09-10                                           1.098793           "
      ]
     },
     "execution_count": 242,
     "metadata": {},
     "output_type": "execute_result"
    }
   ],
   "source": [
    "%matplotlib inline\n",
    "import matplotlib.pyplot as plt\n",
    "import pandas as pd\n",
    "import seaborn as sns\n",
    "# import numpy as np\n",
    "\n",
    "earthquakes = pd.read_csv('data/earthquakes.csv')\n",
    "\n",
    "fb          = pd.read_csv('data/fb_stock_prices_2018.csv'\n",
    "                , index_col = 'date'\n",
    "                , parse_dates = True\n",
    "                )\n",
    "\n",
    "covid_df    = pd.read_csv('data/covid19_cases.csv'\n",
    "                          ).assign(\n",
    "                          date=lambda x: pd.to_datetime(x.dateRep, format='%d/%m/%Y')\n",
    "                          ).set_index('date')\n",
    "\n",
    "\n",
    "covid_df.info()\n",
    "covid_df.head(10)\n",
    "# fb.info()\n",
    "# fb.head(10)"
   ]
  },
  {
   "cell_type": "code",
   "execution_count": null,
   "metadata": {},
   "outputs": [],
   "source": []
  },
  {
   "cell_type": "markdown",
   "metadata": {},
   "source": [
    "## Q1"
   ]
  },
  {
   "cell_type": "code",
   "execution_count": 195,
   "metadata": {},
   "outputs": [
    {
     "data": {
      "text/plain": [
       "(array([0.5, 1.5]), <a list of 2 Text major ticklabel objects>)"
      ]
     },
     "execution_count": 195,
     "metadata": {},
     "output_type": "execute_result"
    },
    {
     "data": {
      "image/png": "[encoded data removed]",
      "text/plain": [
       "<Figure size 432x288 with 2 Axes>"
      ]
     },
     "metadata": {
      "needs_background": "light"
     },
     "output_type": "display_data"
    }
   ],
   "source": [
    "# earthquakes.query('magType == \"mb\"')\n",
    "rows = earthquakes['magType'] == 'mb'\n",
    "\n",
    "ax = sns.heatmap(\n",
    "    earthquakes.loc[rows, ['mag', 'tsunami']]\n",
    "    .corr()\n",
    "    , annot=True, center=0, vmin=-1, vmax=1\n",
    "    )\n",
    "plt.title(f'Some Title')\n",
    "plt.yticks(rotation=0)\n",
    "\n",
    "\n",
    "# earthquakes[rows]"
   ]
  },
  {
   "cell_type": "markdown",
   "metadata": {},
   "source": [
    "## Q2"
   ]
  },
  {
   "cell_type": "code",
   "execution_count": 196,
   "metadata": {},
   "outputs": [
    {
     "name": "stdout",
     "output_type": "stream",
     "text": [
      "           volume     close\n",
      "0.25   17828394.0  157.9150\n",
      "0.75   30313840.0  185.2700\n",
      "iqr    12485446.0   27.3550\n",
      "Q      18728169.0   41.0325\n",
      "lower   -899775.0  116.8825\n",
      "upper  49042009.0  226.3025\n"
     ]
    },
    {
     "data": {
      "text/plain": [
       "Text(0.5, 0.98, 'Facebook Volume Traded and Some Other Stuff for Ex2')"
      ]
     },
     "execution_count": 196,
     "metadata": {},
     "output_type": "execute_result"
    },
    {
     "data": {
      "image/png": "[encoded data removed]",
      "text/plain": [
       "<Figure size 576x360 with 2 Axes>"
      ]
     },
     "metadata": {
      "needs_background": "light"
     },
     "output_type": "display_data"
    }
   ],
   "source": [
    "columns                     = ['volume', 'close']\n",
    "titles                      = ['Volume Traded', 'Closing price']\n",
    "subset_df                   = fb[columns]\n",
    "\n",
    "quantiles                   = subset_df.quantile([0.25,0.75])\n",
    "quantiles.loc['iqr',:]      = quantiles.loc[0.75,:] - quantiles.loc[0.25,:]\n",
    "quantiles.loc['Q',:]        = 1.5 * (quantiles.loc[0.75,:] - quantiles.loc[0.25,:])\n",
    "quantiles.loc['lower',:]    = quantiles.loc[0.25,:] - quantiles.loc['Q',:]  \n",
    "quantiles.loc['upper',:]    = quantiles.loc[0.75,:] + quantiles.loc['Q',:]  \n",
    "# quantiles =  quantiles.T\n",
    "# quantiles['iqr'] = quantiles['0.75'] - quantiles['0.25']\n",
    "# quantiles.loc['Q',:] = 1.5 * (quantiles.loc[0.75,:] - quantiles.loc[0.25,:])\n",
    "# quantiles.loc['lower',:] = quantiles.loc[0.25,:] - quantiles.loc['Q',:]  \n",
    "# quantiles.loc['upper',:] = quantiles.loc[0.75,:] + quantiles.loc['Q',:]  \n",
    "print(quantiles)\n",
    "\n",
    "axes = subset_df.plot(\n",
    "        kind = 'box'\n",
    "        , subplots = True\n",
    "        , figsize=(8, 5)\n",
    "        )\n",
    "\n",
    "for ax, col, title in zip(axes, columns, titles):\n",
    "    for bound in ['lower', 'upper']:\n",
    "        ax.axhline(\n",
    "              quantiles.loc[bound,col]\n",
    "            , color='r'\n",
    "            , linestyle='--'\n",
    "            , label=bound\n",
    "            )\n",
    "    ax.set_title(title)\n",
    "    ax.legend() \n",
    "\n",
    "plt.suptitle('Facebook Volume Traded and Some Other Stuff for Ex2')"
   ]
  },
  {
   "cell_type": "markdown",
   "metadata": {},
   "source": [
    "## Q3"
   ]
  },
  {
   "cell_type": "code",
   "execution_count": 244,
   "metadata": {},
   "outputs": [],
   "source": [
    "from matplotlib.ticker import EngFormatter\n",
    "\n",
    "# Textbook version\n",
    "cumulative_cases_df = covid_df.groupby(pd.Grouper(freq = '1D')\n",
    "                    ).sum(\n",
    "                    )['cases'].cumsum(\n",
    "                    )\n",
    "# My version \n",
    "# cumulative_cases_df = covid_df.groupby(pd.Grouper(freq = '1D')\n",
    "#                     ).agg({\n",
    "#                     'cases': 'sum'    \n",
    "#                     }).cumsum()\n",
    "\n",
    "\n",
    "\n",
    "\n",
    "    \n",
    "ax = cumulative_cases_df.plot(\n",
    "          figsize = (10,4)\n",
    "        , title = 'Cumulative COVID-19 Cases Worldwide\\n(source: ECDC)'\n",
    "        )\n",
    "\n",
    "plt.axhline(\n",
    "        y = 1_000_000\n",
    "        , color='r'\n",
    "        , linestyle='--'\n",
    "        # ,label=f'resistance (${resistance:,.2f})'\n",
    "        )\n",
    "\n",
    "\n",
    "# cumulative_cases_df.info()\n",
    "# cumulative_cases_df.tail(20)"
   ]
  },
  {
   "cell_type": "markdown",
   "metadata": {},
   "source": [
    "## Q4"
   ]
  },
  {
   "cell_type": "markdown",
   "metadata": {},
   "source": [
    "## Q5"
   ]
  },
  {
   "cell_type": "markdown",
   "metadata": {},
   "source": [
    "## Q6"
   ]
  },
  {
   "cell_type": "markdown",
   "metadata": {},
   "source": [
    "## Q7"
   ]
  },
  {
   "cell_type": "markdown",
   "metadata": {},
   "source": [
    "## Q8"
   ]
  },
  {
   "cell_type": "markdown",
   "metadata": {},
   "source": [
    "## Q9"
   ]
  },
  {
   "cell_type": "markdown",
   "metadata": {},
   "source": [
    "## Q10"
   ]
  }
 ],
 "metadata": {
  "kernelspec": {
   "display_name": "Python 3.7.3 ('hands')",
   "language": "python",
   "name": "python3"
  },
  "language_info": {
   "codemirror_mode": {
    "name": "ipython",
    "version": 3
   },
   "file_extension": ".py",
   "mimetype": "text/x-python",
   "name": "python",
   "nbconvert_exporter": "python",
   "pygments_lexer": "ipython3",
   "version": "3.7.3"
  },
  "orig_nbformat": 4,
  "vscode": {
   "interpreter": {
    "hash": "3c8fc2cc835af1332d2c9df072a7e877b9e80a5bdc9d11986871d05ab640c283"
   }
  }
 },
 "nbformat": 4,
 "nbformat_minor": 2
}
