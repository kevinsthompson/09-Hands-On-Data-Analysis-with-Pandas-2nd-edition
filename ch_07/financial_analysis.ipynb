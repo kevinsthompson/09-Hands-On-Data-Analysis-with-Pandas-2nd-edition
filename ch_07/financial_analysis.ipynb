{
 "cells": [
  {
   "cell_type": "markdown",
   "metadata": {},
   "source": [
    "# Financial Analysis with the `stock_analysis` package\n",
    "In this chapter, we will build the [`stock_analysis`](https://github.com/stefmolin/stock-analysis) package using everything we learned in the book so far, and use it for some basic technical analysis of financial assets. Here is a breakdown of the classes we will use and their purposes:\n",
    "\n",
    "| Purpose | Class(es) | Module |\n",
    "| --- | --- | --- |\n",
    "| Collecting the data from various sources | `StockReader` | `stock_reader.py` |\n",
    "| Visualizing the data | `Visualizer`, `StockVisualizer`, `AssetGroupVisualizer` | `stock_visualizer.py` |\n",
    "| Calculating financial metrics | `StockAnalyzer`, `AssetGroupAnalyzer` | `stock_analyzer.py` |\n",
    "| Modeling the data | `StockModeler` | `stock_modeler.py` |\n",
    "\n",
    "## Data Collection\n",
    "The `StockReader` class in the `stock_analysis` package makes it easy to collect financial data, like stock market or bitcoin prices. We simply have to create an instance by specifying the date range. Then, we can grab the data:"
   ]
  },
  {
   "cell_type": "code",
   "execution_count": 1,
   "metadata": {},
   "outputs": [],
   "source": [
    "import stock_analysis\n",
    "\n",
    "reader = stock_analysis.StockReader('2019-01-01', '2020-12-31')\n",
    "\n",
    "# get faang data\n",
    "fb, aapl, amzn, nflx, goog = (\n",
    "    reader.get_ticker_data(ticker)\n",
    "    for ticker in ['FB', 'AAPL', 'AMZN', 'NFLX', 'GOOG']\n",
    ")\n",
    "\n",
    "# get S&P 500 data\n",
    "sp = reader.get_index_data('S&P 500')\n",
    "\n",
    "# get bitcoin data in USD\n",
    "bitcoin = reader.get_bitcoin_data('USD')"
   ]
  },
  {
   "cell_type": "markdown",
   "metadata": {},
   "source": [
    "## EDA\n",
    "We can group our assets together in dataframes in order to perform EDA:"
   ]
  },
  {
   "cell_type": "code",
   "execution_count": 2,
   "metadata": {},
   "outputs": [],
   "source": [
    "from stock_analysis.utils import group_stocks, describe_group\n",
    "\n",
    "faang = group_stocks(\n",
    "    {\n",
    "        'Facebook': fb, \n",
    "        'Apple': aapl, \n",
    "        'Amazon': amzn, \n",
    "        'Netflix': nflx, \n",
    "        'Google': goog\n",
    "    }\n",
    ")\n",
    "\n",
    "faang_sp = group_stocks(\n",
    "    {\n",
    "        'Facebook': fb, \n",
    "        'Apple': aapl, \n",
    "        'Amazon': amzn, \n",
    "        'Netflix': nflx, \n",
    "        'Google': goog,\n",
    "        'S&P 500': sp\n",
    "    }\n",
    ")\n",
    "\n",
    "all_assets = group_stocks(\n",
    "    {\n",
    "        'Bitcoin': bitcoin,\n",
    "        'S&P 500': sp,\n",
    "        'Facebook': fb, \n",
    "        'Apple': aapl, \n",
    "        'Amazon': amzn, \n",
    "        'Netflix': nflx, \n",
    "        'Google': goog\n",
    "    }\n",
    ")"
   ]
  },
  {
   "cell_type": "markdown",
   "metadata": {},
   "source": [
    "This makes it easy to describe them all at once:"
   ]
  },
  {
   "cell_type": "code",
   "execution_count": 11,
   "metadata": {},
   "outputs": [
    {
     "data": {
      "text/html": [
       "<div>\n",
       "<style scoped>\n",
       "    .dataframe tbody tr th:only-of-type {\n",
       "        vertical-align: middle;\n",
       "    }\n",
       "\n",
       "    .dataframe tbody tr th {\n",
       "        vertical-align: top;\n",
       "    }\n",
       "\n",
       "    .dataframe thead th {\n",
       "        text-align: right;\n",
       "    }\n",
       "</style>\n",
       "<table border=\"1\" class=\"dataframe\">\n",
       "  <thead>\n",
       "    <tr style=\"text-align: right;\">\n",
       "      <th>name</th>\n",
       "      <th>Amazon</th>\n",
       "      <th>Apple</th>\n",
       "      <th>Bitcoin</th>\n",
       "      <th>Facebook</th>\n",
       "      <th>Google</th>\n",
       "      <th>Netflix</th>\n",
       "      <th>S&amp;P 500</th>\n",
       "    </tr>\n",
       "  </thead>\n",
       "  <tbody>\n",
       "    <tr>\n",
       "      <th>count</th>\n",
       "      <td>506.000000</td>\n",
       "      <td>506.000000</td>\n",
       "      <td>731.000000</td>\n",
       "      <td>252.000000</td>\n",
       "      <td>506.000000</td>\n",
       "      <td>506.000000</td>\n",
       "      <td>506.000000</td>\n",
       "    </tr>\n",
       "    <tr>\n",
       "      <th>mean</th>\n",
       "      <td>111.722726</td>\n",
       "      <td>73.680573</td>\n",
       "      <td>9258.357421</td>\n",
       "      <td>273.255517</td>\n",
       "      <td>66.729825</td>\n",
       "      <td>387.728833</td>\n",
       "      <td>3064.802743</td>\n",
       "    </tr>\n",
       "    <tr>\n",
       "      <th>std</th>\n",
       "      <td>29.730673</td>\n",
       "      <td>27.296565</td>\n",
       "      <td>4025.954725</td>\n",
       "      <td>75.668463</td>\n",
       "      <td>10.051831</td>\n",
       "      <td>79.034218</td>\n",
       "      <td>293.142258</td>\n",
       "    </tr>\n",
       "    <tr>\n",
       "      <th>min</th>\n",
       "      <td>75.014000</td>\n",
       "      <td>35.547501</td>\n",
       "      <td>3399.471680</td>\n",
       "      <td>155.850006</td>\n",
       "      <td>50.803001</td>\n",
       "      <td>254.589996</td>\n",
       "      <td>2237.399902</td>\n",
       "    </tr>\n",
       "    <tr>\n",
       "      <th>25%</th>\n",
       "      <td>89.269499</td>\n",
       "      <td>50.739374</td>\n",
       "      <td>7218.593750</td>\n",
       "      <td>198.799999</td>\n",
       "      <td>58.457750</td>\n",
       "      <td>329.059990</td>\n",
       "      <td>2870.270081</td>\n",
       "    </tr>\n",
       "    <tr>\n",
       "      <th>50%</th>\n",
       "      <td>95.178997</td>\n",
       "      <td>66.661251</td>\n",
       "      <td>9143.582031</td>\n",
       "      <td>310.495010</td>\n",
       "      <td>64.682751</td>\n",
       "      <td>364.250000</td>\n",
       "      <td>3004.994995</td>\n",
       "    </tr>\n",
       "    <tr>\n",
       "      <th>75%</th>\n",
       "      <td>144.369999</td>\n",
       "      <td>91.526875</td>\n",
       "      <td>10579.554688</td>\n",
       "      <td>339.704987</td>\n",
       "      <td>73.789251</td>\n",
       "      <td>469.479996</td>\n",
       "      <td>3275.690002</td>\n",
       "    </tr>\n",
       "    <tr>\n",
       "      <th>max</th>\n",
       "      <td>176.572495</td>\n",
       "      <td>136.690002</td>\n",
       "      <td>29001.720703</td>\n",
       "      <td>382.179993</td>\n",
       "      <td>91.399498</td>\n",
       "      <td>556.549988</td>\n",
       "      <td>3756.070068</td>\n",
       "    </tr>\n",
       "  </tbody>\n",
       "</table>\n",
       "</div>"
      ],
      "text/plain": [
       "name       Amazon       Apple       Bitcoin    Facebook      Google  \\\n",
       "count  506.000000  506.000000    731.000000  252.000000  506.000000   \n",
       "mean   111.722726   73.680573   9258.357421  273.255517   66.729825   \n",
       "std     29.730673   27.296565   4025.954725   75.668463   10.051831   \n",
       "min     75.014000   35.547501   3399.471680  155.850006   50.803001   \n",
       "25%     89.269499   50.739374   7218.593750  198.799999   58.457750   \n",
       "50%     95.178997   66.661251   9143.582031  310.495010   64.682751   \n",
       "75%    144.369999   91.526875  10579.554688  339.704987   73.789251   \n",
       "max    176.572495  136.690002  29001.720703  382.179993   91.399498   \n",
       "\n",
       "name      Netflix      S&P 500  \n",
       "count  506.000000   506.000000  \n",
       "mean   387.728833  3064.802743  \n",
       "std     79.034218   293.142258  \n",
       "min    254.589996  2237.399902  \n",
       "25%    329.059990  2870.270081  \n",
       "50%    364.250000  3004.994995  \n",
       "75%    469.479996  3275.690002  \n",
       "max    556.549988  3756.070068  "
      ]
     },
     "execution_count": 11,
     "metadata": {},
     "output_type": "execute_result"
    }
   ],
   "source": [
    "describe_group(all_assets).loc['close']\n",
    "# describe_group(all_assets)"
   ]
  },
  {
   "cell_type": "markdown",
   "metadata": {},
   "source": [
    "### Visualizations\n",
    "The `StockVisualizer` class makes it easy to create a variety of visualizations for financial analysis. We simply pass in the dataframe of the asset we want to visualize:"
   ]
  },
  {
   "cell_type": "code",
   "execution_count": 17,
   "metadata": {},
   "outputs": [],
   "source": [
    "%matplotlib inline\n",
    "import matplotlib.pyplot as plt\n",
    "\n",
    "netflix_viz = stock_analysis.StockVisualizer(nflx)\n",
    "# help(netflix_viz)"
   ]
  },
  {
   "cell_type": "markdown",
   "metadata": {},
   "source": [
    "We can use the moving average to smooth out the trend for the stock. Notice that, in the shaded region, the 90-day moving average is acting like a ceiling for the stock price:"
   ]
  },
  {
   "cell_type": "markdown",
   "metadata": {},
   "source": [
    "The moving average may be used to determine support and resistance levels. Support exerts upward pressure on the stock price (lower prices get people to buy) and resistance exerts downward force on the stock price (high prices cause people to sell):"
   ]
  },
  {
   "cell_type": "code",
   "execution_count": 19,
   "metadata": {},
   "outputs": [
    {
     "data": {
      "text/plain": [
       "[Text(0, 0.5, 'price ($)'), Text(0.5, 1.0, 'Netflix Closing Price')]"
      ]
     },
     "execution_count": 19,
     "metadata": {},
     "output_type": "execute_result"
    },
    {
     "data": {
      "image/png": "[encoded data removed]",
      "text/plain": [
       "<Figure size 432x288 with 1 Axes>"
      ]
     },
     "metadata": {
      "needs_background": "light"
     },
     "output_type": "display_data"
    }
   ],
   "source": [
    "ax = netflix_viz.moving_average('close', ['30D', '90D'])\n",
    "netflix_viz.shade_region(\n",
    "    ax, x=('2019-10-01', '2020-07-01'), color='blue', alpha=0.1\n",
    ")\n",
    "\n",
    "ax.set(title='Netflix Closing Price', ylabel='price ($)')"
   ]
  },
  {
   "cell_type": "code",
   "execution_count": 14,
   "metadata": {},
   "outputs": [
    {
     "data": {
      "image/png": "[encoded data removed]",
      "text/plain": [
       "<Figure size 1080x216 with 1 Axes>"
      ]
     },
     "metadata": {
      "needs_background": "light"
     },
     "output_type": "display_data"
    }
   ],
   "source": [
    "from visual_aids import finance_viz\n",
    "_ = finance_viz.support_and_resistance()"
   ]
  },
  {
   "cell_type": "markdown",
   "metadata": {},
   "source": [
    "Sometimes exponential smoothing makes more sense because we can place higher importance on more recent values:"
   ]
  },
  {
   "cell_type": "code",
   "execution_count": 20,
   "metadata": {},
   "outputs": [
    {
     "data": {
      "text/plain": [
       "[Text(0, 0.5, 'price ($)'), Text(0.5, 1.0, 'Netflix Closing Price')]"
      ]
     },
     "execution_count": 20,
     "metadata": {},
     "output_type": "execute_result"
    },
    {
     "data": {
      "image/png": "[encoded data removed]",
      "text/plain": [
       "<Figure size 432x288 with 1 Axes>"
      ]
     },
     "metadata": {
      "needs_background": "light"
     },
     "output_type": "display_data"
    }
   ],
   "source": [
    "ax = netflix_viz.exp_smoothing('close', [30, 90])\n",
    "netflix_viz.shade_region(\n",
    "    ax, x=('2020-04-01', '2020-10-01'), color='blue', alpha=0.1\n",
    ")\n",
    "ax.set(title='Netflix Closing Price', ylabel='price ($)')"
   ]
  },
  {
   "cell_type": "markdown",
   "metadata": {},
   "source": [
    "---\n",
    "\n",
    "**OPTIONAL SECTION**: Interactive Visualization of Moving Averages\n",
    "\n",
    "---\n",
    "\n",
    "We will now use widgets to create an interactive plot to see what different windows do to the moving average and exponentially smoothed moving average. Using the widget backend requires `ipympl`, which we installed back in chapter 1. However, depending on your Jupyter setup and machine you may also need to install `node.js` and with run a few commands from the command line. Try to run the cells below, and if that doesn't work follow the installation instructions [here](https://github.com/matplotlib/jupyter-matplotlib). Make sure to restart the kernel when you are set up.\n",
    "\n",
    "First, we run this magic to enable the widgets back-end:"
   ]
  },
  {
   "cell_type": "code",
   "execution_count": 21,
   "metadata": {},
   "outputs": [],
   "source": [
    "%matplotlib widget"
   ]
  },
  {
   "cell_type": "markdown",
   "metadata": {},
   "source": [
    "Next, we run the code to generate the interactive visualization. This uses the `interact()` function from `ipywidgets`:"
   ]
  },
  {
   "cell_type": "code",
   "execution_count": 22,
   "metadata": {},
   "outputs": [
    {
     "data": {
      "application/vnd.jupyter.widget-view+json": {
       "model_id": "a106c843991d4dc8a57564dce1e29129",
       "version_major": 2,
       "version_minor": 0
      },
      "text/plain": [
       "interactive(children=(IntSlider(value=20, description='period', max=200, min=5, step=5), Checkbox(value=False,…"
      ]
     },
     "metadata": {},
     "output_type": "display_data"
    }
   ],
   "source": [
    "%matplotlib widget\n",
    "from ipywidgets import interact\n",
    "\n",
    "def moving_averages(viz):\n",
    "    def plot_viz(period=20, exponentially_smoothed=False):\n",
    "        if exponentially_smoothed:\n",
    "            ax = netflix_viz.exp_smoothing('close', period)\n",
    "        else:\n",
    "            ax = netflix_viz.moving_average('close', str(period) + 'D')\n",
    "        \n",
    "        ax.set(title='Netflix Closing Price', ylabel='price ($)')\n",
    "    \n",
    "    return plot_viz\n",
    "interact(moving_averages(netflix_viz), period=(5, 200, 5), exponentially_smoothed=False);"
   ]
  },
  {
   "cell_type": "markdown",
   "metadata": {},
   "source": [
    "*More information on the `interact()` function can be found [here](https://ipywidgets.readthedocs.io/en/stable/examples/Using%20Interact.html).*\n",
    "\n",
    "---\n",
    "\n",
    "When finished with the interactive visualization, be sure to switch back to `inline` plots for the rest of the notebook:"
   ]
  },
  {
   "cell_type": "code",
   "execution_count": 23,
   "metadata": {},
   "outputs": [],
   "source": [
    "%matplotlib inline"
   ]
  },
  {
   "cell_type": "markdown",
   "metadata": {},
   "source": [
    "---\n",
    "\n",
    "**END OPTIONAL SECTION**\n",
    "\n",
    "---\n",
    "\n",
    "Let's take a look at the effect of after-hours trading:"
   ]
  },
  {
   "cell_type": "code",
   "execution_count": null,
   "metadata": {},
   "outputs": [],
   "source": [
    "netflix_viz.after_hours_trades()"
   ]
  },
  {
   "cell_type": "markdown",
   "metadata": {},
   "source": [
    "We can use a **candlestick plot** to study the OHLC data. More information on reading and interpreting this can be found [here](https://www.investopedia.com/trading/candlestick-charting-what-is-it/)."
   ]
  },
  {
   "cell_type": "code",
   "execution_count": null,
   "metadata": {},
   "outputs": [],
   "source": [
    "netflix_viz.candlestick(resample='2W', volume=True, xrotation=90, datetime_format='%Y-%b -')"
   ]
  },
  {
   "cell_type": "markdown",
   "metadata": {},
   "source": [
    "The `mplfinance` package uses it's own stylesheets for plotting, so let's restore the defaults:"
   ]
  },
  {
   "cell_type": "code",
   "execution_count": null,
   "metadata": {},
   "outputs": [],
   "source": [
    "import matplotlib as mpl\n",
    "mpl.rcdefaults()\n",
    "%matplotlib inline"
   ]
  },
  {
   "cell_type": "markdown",
   "metadata": {},
   "source": [
    "We can use a joint plot to see how Netflix compared to the S&P 500:"
   ]
  },
  {
   "cell_type": "code",
   "execution_count": null,
   "metadata": {},
   "outputs": [],
   "source": [
    "netflix_viz.jointplot(sp, 'close')"
   ]
  },
  {
   "cell_type": "markdown",
   "metadata": {},
   "source": [
    "We can also use the `correlation_heatmap()` function to look at the correlation of daily percent change. Here, we compare with Amazon:"
   ]
  },
  {
   "cell_type": "code",
   "execution_count": null,
   "metadata": {},
   "outputs": [],
   "source": [
    "netflix_viz.correlation_heatmap(amzn)"
   ]
  },
  {
   "cell_type": "markdown",
   "metadata": {},
   "source": [
    "We can use the `fill_between_other()` method to compare Netflix's stock price over time to another asset. Here, we look at Tesla:"
   ]
  },
  {
   "cell_type": "code",
   "execution_count": null,
   "metadata": {},
   "outputs": [],
   "source": [
    "tsla = reader.get_ticker_data('TSLA')\n",
    "change_date = (tsla.close > nflx.close).idxmax()\n",
    "ax = netflix_viz.fill_between_other(tsla)\n",
    "netflix_viz.add_reference_line(\n",
    "    ax, \n",
    "    x=change_date, \n",
    "    color='k', \n",
    "    linestyle=':', \n",
    "    label=f'TSLA > NFLX {change_date:%Y-%m-%d}',\n",
    "    alpha=0.5\n",
    ")"
   ]
  },
  {
   "cell_type": "markdown",
   "metadata": {},
   "source": [
    "If we want to visualize groups of assets, we use the `AssetGroupVisualizer` class. Let's look at the correlations between the assets using percentage change:"
   ]
  },
  {
   "cell_type": "code",
   "execution_count": null,
   "metadata": {},
   "outputs": [],
   "source": [
    "all_assets_viz = stock_analysis.AssetGroupVisualizer(all_assets)\n",
    "all_assets_viz.heatmap()"
   ]
  },
  {
   "cell_type": "markdown",
   "metadata": {},
   "source": [
    "Bitcoin is on a much larger scale so we have to use subplots to compare it to the stock market:"
   ]
  },
  {
   "cell_type": "code",
   "execution_count": null,
   "metadata": {},
   "outputs": [],
   "source": [
    "faang_sp_viz = stock_analysis.AssetGroupVisualizer(faang_sp)\n",
    "bitcoin_viz = stock_analysis.StockVisualizer(bitcoin)\n",
    "\n",
    "fig, axes = plt.subplots(1, 2, figsize=(15, 5))\n",
    "faang_sp_viz.evolution_over_time('close', ax=axes[0], style=faang_sp_viz.group_by)\n",
    "bitcoin_viz.evolution_over_time('close', ax=axes[1], label='Bitcoin')"
   ]
  },
  {
   "cell_type": "markdown",
   "metadata": {},
   "source": [
    "### Additional Plots (not in text)\n",
    "We can view the effect that after-hours trading had on each of the FAANG stocks:"
   ]
  },
  {
   "cell_type": "code",
   "execution_count": null,
   "metadata": {},
   "outputs": [],
   "source": [
    "faang_viz = stock_analysis.AssetGroupVisualizer(faang)\n",
    "faang_viz.after_hours_trades()"
   ]
  },
  {
   "cell_type": "markdown",
   "metadata": {},
   "source": [
    "We can look at what the exponentially smoothed moving averages look like for all FAANG stocks as well:"
   ]
  },
  {
   "cell_type": "code",
   "execution_count": null,
   "metadata": {},
   "outputs": [],
   "source": [
    "faang_viz.exp_smoothing('close', 20)"
   ]
  },
  {
   "cell_type": "markdown",
   "metadata": {},
   "source": [
    "With short windows, both these smoothing methods perform similarly:"
   ]
  },
  {
   "cell_type": "code",
   "execution_count": null,
   "metadata": {},
   "outputs": [],
   "source": [
    "faang_viz.moving_average('close', '20D')"
   ]
  },
  {
   "cell_type": "markdown",
   "metadata": {},
   "source": [
    "The distributions of closing price across the FAANG stocks are quite different:"
   ]
  },
  {
   "cell_type": "code",
   "execution_count": null,
   "metadata": {},
   "outputs": [],
   "source": [
    "faang_viz.histogram('close')"
   ]
  },
  {
   "cell_type": "markdown",
   "metadata": {},
   "source": [
    "Viewing box plots we can easily see that Google and Amazon are on a much larger scale:"
   ]
  },
  {
   "cell_type": "code",
   "execution_count": null,
   "metadata": {},
   "outputs": [],
   "source": [
    "faang_viz.boxplot('close')\n",
    "plt.yscale('log')"
   ]
  },
  {
   "cell_type": "markdown",
   "metadata": {},
   "source": [
    "Correlations between the stocks are weak:"
   ]
  },
  {
   "cell_type": "code",
   "execution_count": null,
   "metadata": {},
   "outputs": [],
   "source": [
    "faang_viz.heatmap()"
   ]
  },
  {
   "cell_type": "markdown",
   "metadata": {},
   "source": [
    "We can view this information as scatter plots as well:"
   ]
  },
  {
   "cell_type": "code",
   "execution_count": null,
   "metadata": {},
   "outputs": [],
   "source": [
    "faang_viz.pairplot()"
   ]
  },
  {
   "cell_type": "markdown",
   "metadata": {},
   "source": [
    "## Technical Analysis\n",
    "Technical analysis involves looking at metrics to understand the peformance of an asset.\n",
    "### Single Asset\n",
    "We can use the `StockAnalyzer` class to calculate metrics for us:"
   ]
  },
  {
   "cell_type": "code",
   "execution_count": null,
   "metadata": {},
   "outputs": [],
   "source": [
    "nflx_analyzer = stock_analysis.StockAnalyzer(nflx)"
   ]
  },
  {
   "cell_type": "markdown",
   "metadata": {},
   "source": [
    "One such metric is annualized volatility:"
   ]
  },
  {
   "cell_type": "code",
   "execution_count": null,
   "metadata": {},
   "outputs": [],
   "source": [
    "nflx_analyzer.annualized_volatility()"
   ]
  },
  {
   "cell_type": "markdown",
   "metadata": {},
   "source": [
    "### Asset Groups\n",
    "When working with groups, we use the `AssetGroupAnalyzer` class:"
   ]
  },
  {
   "cell_type": "code",
   "execution_count": null,
   "metadata": {},
   "outputs": [],
   "source": [
    "all_assets_analyzer = stock_analysis.AssetGroupAnalyzer(all_assets)"
   ]
  },
  {
   "cell_type": "markdown",
   "metadata": {},
   "source": [
    "#### Coefficient of Variation\n",
    "We can check how large the standard deviation is in terms of the mean of the stock price as another way to look at volatility. This shows that bitcoin is the most volatile:"
   ]
  },
  {
   "cell_type": "code",
   "execution_count": null,
   "metadata": {},
   "outputs": [],
   "source": [
    "all_assets_analyzer.analyze('cv')"
   ]
  },
  {
   "cell_type": "markdown",
   "metadata": {},
   "source": [
    "#### Annualized Volatility"
   ]
  },
  {
   "cell_type": "code",
   "execution_count": null,
   "metadata": {},
   "outputs": [],
   "source": [
    "all_assets_analyzer.analyze('annualized_volatility')"
   ]
  },
  {
   "cell_type": "markdown",
   "metadata": {},
   "source": [
    "#### Bull Market\n",
    "We can check if the assets are in a bull market, meaning their value increased $\\geq$ 20% in the last 2 months:"
   ]
  },
  {
   "cell_type": "code",
   "execution_count": null,
   "metadata": {},
   "outputs": [],
   "source": [
    "all_assets_analyzer.analyze('is_bull_market')"
   ]
  },
  {
   "cell_type": "markdown",
   "metadata": {},
   "source": [
    "#### Bear Market\n",
    "We can check if the assets are in a bear market, meaning their value dropped $\\geq$ 20% in the last 2 months:"
   ]
  },
  {
   "cell_type": "code",
   "execution_count": null,
   "metadata": {},
   "outputs": [],
   "source": [
    "all_assets_analyzer.analyze('is_bear_market')"
   ]
  },
  {
   "cell_type": "markdown",
   "metadata": {},
   "source": [
    "#### Beta\n",
    "Beta tells us how an asset's performance correlates to a market index. A beta of 1 with the S&P 500 means the asset moves with the S&P 500. Notice bitcoin is below one because it is a different type of asset."
   ]
  },
  {
   "cell_type": "code",
   "execution_count": null,
   "metadata": {},
   "outputs": [],
   "source": [
    "all_assets_analyzer.analyze('beta', index=sp)"
   ]
  },
  {
   "cell_type": "markdown",
   "metadata": {},
   "source": [
    "#### Alpha\n",
    "Alpha allows us to compare the returns of an asset to an index. We can compare to the S&P 500 using the risk-free rate of return. You can look up rates [here](https://www.treasury.gov/resource-center/data-chart-center/interest-rates/pages/TextView.aspx?data=yield) or use the `StockReader.get_risk_free_rate_of_return()` method. This shows that bitcoin much higher returns than the S&P 500 (due to scale) and Apple is the top performer among the FAANG stocks: "
   ]
  },
  {
   "cell_type": "code",
   "execution_count": null,
   "metadata": {},
   "outputs": [],
   "source": [
    "r_f = reader.get_risk_free_rate_of_return()\n",
    "all_assets_analyzer.analyze('alpha', index=sp, r_f=r_f)"
   ]
  },
  {
   "cell_type": "markdown",
   "metadata": {},
   "source": [
    "#### Cumulative Returns\n",
    "Cumulative returns show us what we would have made for a dollar investment at time period 0. This can be multiplied by the actual investment to get the return:"
   ]
  },
  {
   "cell_type": "code",
   "execution_count": null,
   "metadata": {},
   "outputs": [],
   "source": [
    "from cycler import cycler\n",
    "\n",
    "# to make this a little easier to see in the black and white text\n",
    "bw_viz_cycler = (\n",
    "    cycler(color=[plt.get_cmap('tab10')(x/10) for x in range(10)])\n",
    "    + cycler(linestyle=['dashed', 'solid', 'dashdot', 'dotted', 'solid'] * 2)\n",
    ")\n",
    "\n",
    "fig, axes = plt.subplots(1, 2, figsize=(15, 5))\n",
    "axes[0].set_prop_cycle(bw_viz_cycler)\n",
    "cumulative_returns = all_assets_analyzer.analyze('cumulative_returns')\n",
    "\n",
    "for name, data in cumulative_returns.items():\n",
    "    data.plot(\n",
    "        ax=axes[1] if name == 'Bitcoin' else axes[0], \n",
    "        label=name,\n",
    "        legend=True\n",
    "    )\n",
    "fig.suptitle('Cumulative Returns')"
   ]
  },
  {
   "cell_type": "markdown",
   "metadata": {},
   "source": [
    "## Modeling\n",
    "For modeling tasks, we can use the `StockModeler` class:"
   ]
  },
  {
   "cell_type": "code",
   "execution_count": null,
   "metadata": {},
   "outputs": [],
   "source": [
    "from stock_analysis import StockModeler"
   ]
  },
  {
   "cell_type": "markdown",
   "metadata": {},
   "source": [
    "### Time Series Decomposition\n",
    "We can decompose the Netflix time series into its trend, seasonality component, and residuals:"
   ]
  },
  {
   "cell_type": "code",
   "execution_count": null,
   "metadata": {},
   "outputs": [],
   "source": [
    "decomposition = StockModeler.decompose(nflx, 20) # 20 period frequency\n",
    "fig = decomposition.plot()\n",
    "fig.suptitle('Netflix Stock Price Time Series Decomposition', y=1)\n",
    "fig.set_figheight(6)\n",
    "fig.set_figwidth(10)\n",
    "fig.tight_layout()"
   ]
  },
  {
   "cell_type": "markdown",
   "metadata": {},
   "source": [
    "### ARIMA\n",
    "We can use ARIMA to model the performance with autoregressive (AR), differences or lagged data (I), and moving average (MA) terms. The autocorrelation plot can help find a good starting point for this:"
   ]
  },
  {
   "cell_type": "code",
   "execution_count": null,
   "metadata": {},
   "outputs": [],
   "source": [
    "# we can use autocorrelation plots to find a good starting point for ARIMA\n",
    "from pandas.plotting import autocorrelation_plot\n",
    "autocorrelation_plot(nflx.close)"
   ]
  },
  {
   "cell_type": "markdown",
   "metadata": {},
   "source": [
    "Lag plots can also be helpful:"
   ]
  },
  {
   "cell_type": "code",
   "execution_count": null,
   "metadata": {},
   "outputs": [],
   "source": [
    "from pandas.plotting import lag_plot\n",
    "lag_plot(nflx.close)"
   ]
  },
  {
   "cell_type": "markdown",
   "metadata": {},
   "source": [
    "ARIMA takes a long time to train, so we will start with an AR of 10:"
   ]
  },
  {
   "cell_type": "code",
   "execution_count": null,
   "metadata": {},
   "outputs": [],
   "source": [
    "%%capture\n",
    "# this takes a long time to run, so we will start with a smaller AR of 10\n",
    "arima_model = StockModeler.arima(nflx, ar=10, i=1, ma=5)"
   ]
  },
  {
   "cell_type": "markdown",
   "metadata": {},
   "source": [
    "The `summary()` method shows statistics on the model's performance:"
   ]
  },
  {
   "cell_type": "code",
   "execution_count": null,
   "metadata": {},
   "outputs": [],
   "source": [
    "# AR = 10, I = 1, MA = 5\n",
    "print(arima_model.summary())"
   ]
  },
  {
   "cell_type": "markdown",
   "metadata": {},
   "source": [
    "The residuals appear to be normally distributed (right subplot); however, their size appears to depend on time (left subplot), so this may not be a good model:"
   ]
  },
  {
   "cell_type": "code",
   "execution_count": null,
   "metadata": {},
   "outputs": [],
   "source": [
    "StockModeler.plot_residuals(arima_model)"
   ]
  },
  {
   "cell_type": "markdown",
   "metadata": {},
   "source": [
    "### Linear Regression\n",
    "We can build a linear regression using the last value to determine the next value:"
   ]
  },
  {
   "cell_type": "code",
   "execution_count": null,
   "metadata": {},
   "outputs": [],
   "source": [
    "X, Y, lm = StockModeler.regression(nflx)\n",
    "print(lm.summary())"
   ]
  },
  {
   "cell_type": "markdown",
   "metadata": {},
   "source": [
    "Once again, the residuals appear to depend on time:"
   ]
  },
  {
   "cell_type": "code",
   "execution_count": null,
   "metadata": {},
   "outputs": [],
   "source": [
    "StockModeler.plot_residuals(lm)"
   ]
  },
  {
   "cell_type": "markdown",
   "metadata": {},
   "source": [
    "### Compare Models Against Actuals\n",
    "Let's see how these models compared to what actually happened:"
   ]
  },
  {
   "cell_type": "code",
   "execution_count": null,
   "metadata": {},
   "outputs": [],
   "source": [
    "import datetime as dt\n",
    "\n",
    "start = dt.date(2021, 1, 1)\n",
    "end = dt.date(2021, 1, 14)\n",
    "\n",
    "jan = stock_analysis.StockReader(start, end).get_ticker_data('NFLX')\n",
    "\n",
    "fig, axes = plt.subplots(1, 2, figsize=(15, 5))\n",
    "\n",
    "arima_ax = StockModeler.arima_predictions(\n",
    "    nflx, arima_model, start=start, end=end,\n",
    "    ax=axes[0], title='ARIMA', color='b'\n",
    ")\n",
    "jan.close.plot(ax=arima_ax, style='b--', label='actual close')\n",
    "arima_ax.legend()\n",
    "arima_ax.set_ylabel('price ($)')\n",
    "\n",
    "linear_reg = StockModeler.regression_predictions(\n",
    "    nflx, lm, start=start, end=end,\n",
    "    ax=axes[1], title='Linear Regression', color='b'\n",
    ")\n",
    "jan.close.plot(ax=linear_reg, style='b--', label='actual close')\n",
    "linear_reg.legend()\n",
    "linear_reg.set_ylabel('price ($)')"
   ]
  },
  {
   "cell_type": "markdown",
   "metadata": {},
   "source": [
    "### Random Walks\n",
    "Prediction is difficult due to randomness. Stock price can be modeled as a [random walk](https://en.wikipedia.org/wiki/Random_walk). Can you find the real stock data? \n",
    "\n",
    "*Note: To get different results, pass in a number to the `seed` argument.*"
   ]
  },
  {
   "cell_type": "code",
   "execution_count": null,
   "metadata": {},
   "outputs": [],
   "source": [
    "msft = stock_analysis.StockReader('2019-07-01', '2020-06-30').get_ticker_data('MSFT')\n",
    "real_stock, axes = finance_viz.random_walk_stock_comparison(msft, probs=[0.45, 0.55])\n",
    "plt.show()"
   ]
  },
  {
   "cell_type": "markdown",
   "metadata": {},
   "source": [
    "Was your guess correct?"
   ]
  },
  {
   "cell_type": "code",
   "execution_count": null,
   "metadata": {},
   "outputs": [],
   "source": [
    "real_stock"
   ]
  },
  {
   "cell_type": "markdown",
   "metadata": {},
   "source": [
    "<hr>\n",
    "<div style=\"overflow: hidden; margin-bottom: 10px;\">\n",
    "    <div style=\"float: left;\">\n",
    "         <a href=\"../ch_06/3-customizing_visualizations.ipynb\">\n",
    "            <button>&#8592; Chapter 6</button>\n",
    "        </a>\n",
    "    </div>\n",
    "    <div style=\"float: right;\">\n",
    "        <a href=\"../../solutions/ch_07/solutions.ipynb\">\n",
    "            <button>Solutions</button>\n",
    "        </a>\n",
    "        <a href=\"../ch_08/anomaly_detection.ipynb\">\n",
    "            <button>Chapter 8 &#8594;</button>\n",
    "        </a>\n",
    "    </div>\n",
    "</div>\n",
    "<hr>"
   ]
  }
 ],
 "metadata": {
  "kernelspec": {
   "display_name": "Python 3.7.3 ('hands')",
   "language": "python",
   "name": "python3"
  },
  "language_info": {
   "codemirror_mode": {
    "name": "ipython",
    "version": 3
   },
   "file_extension": ".py",
   "mimetype": "text/x-python",
   "name": "python",
   "nbconvert_exporter": "python",
   "pygments_lexer": "ipython3",
   "version": "3.7.3"
  },
  "vscode": {
   "interpreter": {
    "hash": "5a70f06b507262f31b89176508e475640d46e68eef615cef5edbec11944d4c91"
   }
  }
 },
 "nbformat": 4,
 "nbformat_minor": 4
}
