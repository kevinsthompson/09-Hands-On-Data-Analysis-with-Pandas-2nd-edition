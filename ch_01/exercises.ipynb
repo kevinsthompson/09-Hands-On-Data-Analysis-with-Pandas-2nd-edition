{
 "cells": [
  {
   "cell_type": "markdown",
   "metadata": {},
   "source": [
    "# Coding exercises\n",
    "Exercises 1-3 are thought exercises that don't require coding. If you need a Python crash-course/refresher, work through the [`python_101.ipynb`](./python_101.ipynb) notebook in chapter 1.\n",
    "\n",
    "## Exercise 4: Generate the data by running this cell\n",
    "This will give you a list of numbers to work with in the remaining exercises."
   ]
  },
  {
   "cell_type": "code",
   "execution_count": 119,
   "metadata": {},
   "outputs": [
    {
     "data": {
      "text/plain": [
       "[844000.0,\n",
       " 758000.0,\n",
       " 421000.0,\n",
       " 259000.0,\n",
       " 511000.0,\n",
       " 405000.0,\n",
       " 784000.0,\n",
       " 303000.0,\n",
       " 477000.0,\n",
       " 583000.0,\n",
       " 908000.0,\n",
       " 505000.0,\n",
       " 282000.0,\n",
       " 756000.0,\n",
       " 618000.0,\n",
       " 251000.0,\n",
       " 910000.0,\n",
       " 983000.0,\n",
       " 810000.0,\n",
       " 902000.0,\n",
       " 310000.0,\n",
       " 730000.0,\n",
       " 899000.0,\n",
       " 684000.0,\n",
       " 472000.0,\n",
       " 101000.0,\n",
       " 434000.0,\n",
       " 611000.0,\n",
       " 913000.0,\n",
       " 967000.0,\n",
       " 477000.0,\n",
       " 865000.0,\n",
       " 260000.0,\n",
       " 805000.0,\n",
       " 549000.0,\n",
       " 14000.0,\n",
       " 720000.0,\n",
       " 399000.0,\n",
       " 825000.0,\n",
       " 668000.0,\n",
       " 1000.0,\n",
       " 494000.0,\n",
       " 868000.0,\n",
       " 244000.0,\n",
       " 325000.0,\n",
       " 870000.0,\n",
       " 191000.0,\n",
       " 568000.0,\n",
       " 239000.0,\n",
       " 968000.0,\n",
       " 803000.0,\n",
       " 448000.0,\n",
       " 80000.0,\n",
       " 320000.0,\n",
       " 508000.0,\n",
       " 933000.0,\n",
       " 109000.0,\n",
       " 551000.0,\n",
       " 707000.0,\n",
       " 547000.0,\n",
       " 814000.0,\n",
       " 540000.0,\n",
       " 964000.0,\n",
       " 603000.0,\n",
       " 588000.0,\n",
       " 445000.0,\n",
       " 596000.0,\n",
       " 385000.0,\n",
       " 576000.0,\n",
       " 290000.0,\n",
       " 189000.0,\n",
       " 187000.0,\n",
       " 613000.0,\n",
       " 657000.0,\n",
       " 477000.0,\n",
       " 90000.0,\n",
       " 758000.0,\n",
       " 877000.0,\n",
       " 923000.0,\n",
       " 842000.0,\n",
       " 898000.0,\n",
       " 923000.0,\n",
       " 541000.0,\n",
       " 391000.0,\n",
       " 705000.0,\n",
       " 276000.0,\n",
       " 812000.0,\n",
       " 849000.0,\n",
       " 895000.0,\n",
       " 590000.0,\n",
       " 950000.0,\n",
       " 580000.0,\n",
       " 451000.0,\n",
       " 660000.0,\n",
       " 996000.0,\n",
       " 917000.0,\n",
       " 793000.0,\n",
       " 82000.0,\n",
       " 613000.0,\n",
       " 486000.0,\n",
       " 630000.0]"
      ]
     },
     "execution_count": 119,
     "metadata": {},
     "output_type": "execute_result"
    }
   ],
   "source": [
    "import random\n",
    "\n",
    "random.seed(0)\n",
    "salaries = [round(random.random()*1000000, -3) for _ in range(101)]\n",
    "salaries"
   ]
  },
  {
   "cell_type": "markdown",
   "metadata": {},
   "source": [
    "## Exercise 5: Calculating statistics and verifying\n",
    "### mean"
   ]
  },
  {
   "cell_type": "code",
   "execution_count": 120,
   "metadata": {},
   "outputs": [
    {
     "name": "stdout",
     "output_type": "stream",
     "text": [
      "My Mean = \t586128.7128712871\n",
      "Package mean = \t586128.7128712871\n"
     ]
    }
   ],
   "source": [
    "# My initial way\n",
    "import statistics\n",
    "running_total = 0\n",
    "for count, value in enumerate(salaries):\n",
    "    running_total += value\n",
    "my_mean = running_total / (count+1)\n",
    "print(f'My Mean = \\t{my_mean}')\n",
    "\n",
    "package_mean = statistics.mean(salaries)\n",
    "print(f'Package mean = \\t{package_mean}')"
   ]
  },
  {
   "cell_type": "code",
   "execution_count": 121,
   "metadata": {},
   "outputs": [
    {
     "name": "stdout",
     "output_type": "stream",
     "text": [
      "My Mean = \t586128.7128712871\n",
      "Package mean = \t586128.7128712871\n"
     ]
    }
   ],
   "source": [
    "# Textbook answer\n",
    "my_mean = sum(salaries) / len(salaries)\n",
    "print(f'My Mean = \\t{my_mean}')\n",
    "\n",
    "package_mean = statistics.mean(salaries)\n",
    "print(f'Package mean = \\t{package_mean}')"
   ]
  },
  {
   "cell_type": "markdown",
   "metadata": {},
   "source": [
    "### median"
   ]
  },
  {
   "cell_type": "code",
   "execution_count": 122,
   "metadata": {},
   "outputs": [
    {
     "name": "stdout",
     "output_type": "stream",
     "text": [
      "My Median = \t\t590000.0\n",
      "Package median = \t590000.0\n"
     ]
    },
    {
     "data": {
      "text/plain": [
       "[1000.0,\n",
       " 14000.0,\n",
       " 80000.0,\n",
       " 82000.0,\n",
       " 90000.0,\n",
       " 101000.0,\n",
       " 109000.0,\n",
       " 187000.0,\n",
       " 189000.0,\n",
       " 191000.0,\n",
       " 239000.0,\n",
       " 244000.0,\n",
       " 251000.0,\n",
       " 259000.0,\n",
       " 260000.0,\n",
       " 276000.0,\n",
       " 282000.0,\n",
       " 290000.0,\n",
       " 303000.0,\n",
       " 310000.0,\n",
       " 320000.0,\n",
       " 325000.0,\n",
       " 385000.0,\n",
       " 391000.0,\n",
       " 399000.0,\n",
       " 405000.0,\n",
       " 421000.0,\n",
       " 434000.0,\n",
       " 445000.0,\n",
       " 448000.0,\n",
       " 451000.0,\n",
       " 472000.0,\n",
       " 477000.0,\n",
       " 477000.0,\n",
       " 477000.0,\n",
       " 486000.0,\n",
       " 494000.0,\n",
       " 505000.0,\n",
       " 508000.0,\n",
       " 511000.0,\n",
       " 540000.0,\n",
       " 541000.0,\n",
       " 547000.0,\n",
       " 549000.0,\n",
       " 551000.0,\n",
       " 568000.0,\n",
       " 576000.0,\n",
       " 580000.0,\n",
       " 583000.0,\n",
       " 588000.0,\n",
       " 590000.0,\n",
       " 596000.0,\n",
       " 603000.0,\n",
       " 611000.0,\n",
       " 613000.0,\n",
       " 613000.0,\n",
       " 618000.0,\n",
       " 630000.0,\n",
       " 657000.0,\n",
       " 660000.0,\n",
       " 668000.0,\n",
       " 684000.0,\n",
       " 705000.0,\n",
       " 707000.0,\n",
       " 720000.0,\n",
       " 730000.0,\n",
       " 756000.0,\n",
       " 758000.0,\n",
       " 758000.0,\n",
       " 784000.0,\n",
       " 793000.0,\n",
       " 803000.0,\n",
       " 805000.0,\n",
       " 810000.0,\n",
       " 812000.0,\n",
       " 814000.0,\n",
       " 825000.0,\n",
       " 842000.0,\n",
       " 844000.0,\n",
       " 849000.0,\n",
       " 865000.0,\n",
       " 868000.0,\n",
       " 870000.0,\n",
       " 877000.0,\n",
       " 895000.0,\n",
       " 898000.0,\n",
       " 899000.0,\n",
       " 902000.0,\n",
       " 908000.0,\n",
       " 910000.0,\n",
       " 913000.0,\n",
       " 917000.0,\n",
       " 923000.0,\n",
       " 923000.0,\n",
       " 933000.0,\n",
       " 950000.0,\n",
       " 964000.0,\n",
       " 967000.0,\n",
       " 968000.0,\n",
       " 983000.0,\n",
       " 996000.0]"
      ]
     },
     "execution_count": 122,
     "metadata": {},
     "output_type": "execute_result"
    }
   ],
   "source": [
    "salaries = sorted(salaries)\n",
    "# salaries.sort()\n",
    "midpoint = int(len(salaries)/2)\n",
    "if int(midpoint) != midpoint:\n",
    "    midpoint = int(midpoint+1) \n",
    "my_median = salaries[midpoint]\n",
    "print(f'My Median = \\t\\t{my_median}')\n",
    "\n",
    "package_median = statistics.median(salaries)\n",
    "print(f'Package median = \\t{package_median}')\n",
    "salaries"
   ]
  },
  {
   "cell_type": "markdown",
   "metadata": {},
   "source": [
    "### mode"
   ]
  },
  {
   "cell_type": "code",
   "execution_count": null,
   "metadata": {},
   "outputs": [],
   "source": []
  },
  {
   "cell_type": "markdown",
   "metadata": {},
   "source": [
    "### sample variance\n",
    "Remember to use Bessel's correction."
   ]
  },
  {
   "cell_type": "code",
   "execution_count": null,
   "metadata": {},
   "outputs": [],
   "source": []
  },
  {
   "cell_type": "markdown",
   "metadata": {},
   "source": [
    "### sample standard deviation\n",
    "Remember to use Bessel's correction."
   ]
  },
  {
   "cell_type": "code",
   "execution_count": null,
   "metadata": {},
   "outputs": [],
   "source": []
  },
  {
   "cell_type": "markdown",
   "metadata": {},
   "source": [
    "## Exercise 6: Calculating more statistics\n",
    "### range"
   ]
  },
  {
   "cell_type": "code",
   "execution_count": null,
   "metadata": {},
   "outputs": [],
   "source": []
  },
  {
   "cell_type": "markdown",
   "metadata": {},
   "source": [
    "### coefficient of variation\n",
    "Make sure to use the sample standard deviation."
   ]
  },
  {
   "cell_type": "code",
   "execution_count": null,
   "metadata": {},
   "outputs": [],
   "source": []
  },
  {
   "cell_type": "markdown",
   "metadata": {},
   "source": [
    "### interquartile range"
   ]
  },
  {
   "cell_type": "code",
   "execution_count": null,
   "metadata": {},
   "outputs": [],
   "source": []
  },
  {
   "cell_type": "markdown",
   "metadata": {},
   "source": [
    "### quartile coefficent of dispersion"
   ]
  },
  {
   "cell_type": "code",
   "execution_count": null,
   "metadata": {},
   "outputs": [],
   "source": []
  },
  {
   "cell_type": "markdown",
   "metadata": {},
   "source": [
    "## Exercise 7: Scaling data\n",
    "### min-max scaling"
   ]
  },
  {
   "cell_type": "code",
   "execution_count": null,
   "metadata": {},
   "outputs": [],
   "source": []
  },
  {
   "cell_type": "markdown",
   "metadata": {},
   "source": [
    "### standardizing"
   ]
  },
  {
   "cell_type": "code",
   "execution_count": null,
   "metadata": {},
   "outputs": [],
   "source": []
  },
  {
   "cell_type": "markdown",
   "metadata": {},
   "source": [
    "## Exercise 8: Calculating covariance and correlation\n",
    "### covariance"
   ]
  },
  {
   "cell_type": "code",
   "execution_count": null,
   "metadata": {},
   "outputs": [],
   "source": []
  },
  {
   "cell_type": "markdown",
   "metadata": {},
   "source": [
    "### Pearson correlation coefficient ($\\rho$)"
   ]
  },
  {
   "cell_type": "code",
   "execution_count": null,
   "metadata": {},
   "outputs": [],
   "source": []
  },
  {
   "cell_type": "markdown",
   "metadata": {},
   "source": [
    "<hr>\n",
    "<div style=\"overflow: hidden; margin-bottom: 10px;\">\n",
    "    <div style=\"float: left;\">\n",
    "        <a href=\"./python_101.ipynb\">\n",
    "            <button>Python 101</button>\n",
    "        </a>\n",
    "    </div>\n",
    "    <div style=\"float: right;\">\n",
    "        <a href=\"../../solutions/ch_01/solutions.ipynb\">\n",
    "            <button>Solutions</button>\n",
    "        </a>\n",
    "        <a href=\"../ch_02/1-pandas_data_structures.ipynb\">\n",
    "            <button>Chapter 2 &#8594;</button>\n",
    "        </a>\n",
    "    </div>\n",
    "</div>\n",
    "<hr>"
   ]
  }
 ],
 "metadata": {
  "interpreter": {
   "hash": "5a70f06b507262f31b89176508e475640d46e68eef615cef5edbec11944d4c91"
  },
  "kernelspec": {
   "display_name": "Python 3.10.4 ('hands')",
   "language": "python",
   "name": "python3"
  },
  "language_info": {
   "codemirror_mode": {
    "name": "ipython",
    "version": 3
   },
   "file_extension": ".py",
   "mimetype": "text/x-python",
   "name": "python",
   "nbconvert_exporter": "python",
   "pygments_lexer": "ipython3",
   "version": "3.7.3"
  }
 },
 "nbformat": 4,
 "nbformat_minor": 4
}
