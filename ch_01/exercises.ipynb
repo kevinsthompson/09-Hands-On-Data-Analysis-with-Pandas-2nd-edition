{
 "cells": [
  {
   "cell_type": "markdown",
   "metadata": {},
   "source": [
    "# Coding exercises\n",
    "Exercises 1-3 are thought exercises that don't require coding. If you need a Python crash-course/refresher, work through the [`python_101.ipynb`](./python_101.ipynb) notebook in chapter 1.\n",
    "\n",
    "## Exercise 4: Generate the data by running this cell\n",
    "This will give you a list of numbers to work with in the remaining exercises."
   ]
  },
  {
   "cell_type": "code",
   "execution_count": 41,
   "metadata": {},
   "outputs": [
    {
     "data": {
      "text/plain": [
       "[844000.0,\n",
       " 758000.0,\n",
       " 421000.0,\n",
       " 259000.0,\n",
       " 511000.0,\n",
       " 405000.0,\n",
       " 784000.0,\n",
       " 303000.0,\n",
       " 477000.0,\n",
       " 583000.0,\n",
       " 908000.0,\n",
       " 505000.0,\n",
       " 282000.0,\n",
       " 756000.0,\n",
       " 618000.0,\n",
       " 251000.0,\n",
       " 910000.0,\n",
       " 983000.0,\n",
       " 810000.0,\n",
       " 902000.0,\n",
       " 310000.0,\n",
       " 730000.0,\n",
       " 899000.0,\n",
       " 684000.0,\n",
       " 472000.0,\n",
       " 101000.0,\n",
       " 434000.0,\n",
       " 611000.0,\n",
       " 913000.0,\n",
       " 967000.0,\n",
       " 477000.0,\n",
       " 865000.0,\n",
       " 260000.0,\n",
       " 805000.0,\n",
       " 549000.0,\n",
       " 14000.0,\n",
       " 720000.0,\n",
       " 399000.0,\n",
       " 825000.0,\n",
       " 668000.0,\n",
       " 1000.0,\n",
       " 494000.0,\n",
       " 868000.0,\n",
       " 244000.0,\n",
       " 325000.0,\n",
       " 870000.0,\n",
       " 191000.0,\n",
       " 568000.0,\n",
       " 239000.0,\n",
       " 968000.0,\n",
       " 803000.0,\n",
       " 448000.0,\n",
       " 80000.0,\n",
       " 320000.0,\n",
       " 508000.0,\n",
       " 933000.0,\n",
       " 109000.0,\n",
       " 551000.0,\n",
       " 707000.0,\n",
       " 547000.0,\n",
       " 814000.0,\n",
       " 540000.0,\n",
       " 964000.0,\n",
       " 603000.0,\n",
       " 588000.0,\n",
       " 445000.0,\n",
       " 596000.0,\n",
       " 385000.0,\n",
       " 576000.0,\n",
       " 290000.0,\n",
       " 189000.0,\n",
       " 187000.0,\n",
       " 613000.0,\n",
       " 657000.0,\n",
       " 477000.0,\n",
       " 90000.0,\n",
       " 758000.0,\n",
       " 877000.0,\n",
       " 923000.0,\n",
       " 842000.0,\n",
       " 898000.0,\n",
       " 923000.0,\n",
       " 541000.0,\n",
       " 391000.0,\n",
       " 705000.0,\n",
       " 276000.0,\n",
       " 812000.0,\n",
       " 849000.0,\n",
       " 895000.0,\n",
       " 590000.0,\n",
       " 950000.0,\n",
       " 580000.0,\n",
       " 451000.0,\n",
       " 660000.0,\n",
       " 996000.0,\n",
       " 917000.0,\n",
       " 793000.0,\n",
       " 82000.0,\n",
       " 613000.0,\n",
       " 486000.0]"
      ]
     },
     "execution_count": 41,
     "metadata": {},
     "output_type": "execute_result"
    }
   ],
   "source": [
    "import random\n",
    "\n",
    "random.seed(0)\n",
    "salaries = [round(random.random()*1000000, -3) for _ in range(100)]\n",
    "salaries"
   ]
  },
  {
   "cell_type": "markdown",
   "metadata": {},
   "source": [
    "## Exercise 5: Calculating statistics and verifying\n",
    "### mean"
   ]
  },
  {
   "cell_type": "code",
   "execution_count": 42,
   "metadata": {},
   "outputs": [
    {
     "name": "stdout",
     "output_type": "stream",
     "text": [
      "My Mean = \t\t585,690.00\n",
      "Package mean = \t\t585,690.00\n"
     ]
    }
   ],
   "source": [
    "# My initial\n",
    "import statistics\n",
    "running_total = 0\n",
    "for count, value in enumerate(salaries):\n",
    "    running_total += value\n",
    "my_mean = running_total / (count+1)\n",
    "print(f'My Mean = \\t\\t{my_mean:,.2f}')\n",
    "\n",
    "package_mean = statistics.mean(salaries)\n",
    "print(f'Package mean = \\t\\t{package_mean:,.2f}')"
   ]
  },
  {
   "cell_type": "code",
   "execution_count": 43,
   "metadata": {},
   "outputs": [
    {
     "name": "stdout",
     "output_type": "stream",
     "text": [
      "My Mean = \t\t585,690.00\n",
      "Package mean = \t\t585,690.00\n"
     ]
    }
   ],
   "source": [
    "# My revised\n",
    "my_mean = sum(salaries) / len(salaries)\n",
    "\n",
    "print(f'My Mean = \\t\\t{my_mean:,.2f}')\n",
    "package_mean = statistics.mean(salaries)\n",
    "print(f'Package mean = \\t\\t{package_mean:,.2f}')"
   ]
  },
  {
   "cell_type": "markdown",
   "metadata": {},
   "source": [
    "### median"
   ]
  },
  {
   "cell_type": "code",
   "execution_count": 44,
   "metadata": {},
   "outputs": [
    {
     "name": "stdout",
     "output_type": "stream",
     "text": [
      "My Median = \t\t589,000.00\n",
      "Package median = \t589,000.00\n"
     ]
    }
   ],
   "source": [
    "salaries_sorted = sorted(salaries)\n",
    "midpoint = ((len(salaries_sorted)+1)/2)\n",
    "\n",
    "if midpoint == int(midpoint):\n",
    "    print('Integer Match')\n",
    "    my_median = salaries_sorted[int(midpoint-1)]\n",
    "else:\n",
    "    my_median = (salaries_sorted[int(midpoint-1)] + salaries_sorted[int(midpoint)])/2\n",
    "\n",
    "print(f'My Median = \\t\\t{my_median:,.2f}')\n",
    "package_median = statistics.median(salaries_sorted)\n",
    "print(f'Package median = \\t{package_median:,.2f}')\n",
    "\n",
    "# salaries_sorted"
   ]
  },
  {
   "cell_type": "markdown",
   "metadata": {},
   "source": [
    "### mode"
   ]
  },
  {
   "cell_type": "code",
   "execution_count": 45,
   "metadata": {},
   "outputs": [
    {
     "name": "stdout",
     "output_type": "stream",
     "text": [
      "My mode is \t\t477,000.00  With a Freq of 3\n",
      "Package mode is \t477,000.00\n"
     ]
    }
   ],
   "source": [
    "from collections import Counter\n",
    "\n",
    "mode_pair = Counter(salaries).most_common(1)\n",
    "mode , freq = mode_pair[0]\n",
    "print(f'My mode is \\t\\t{mode:,.2f}  With a Freq of {freq}')\n",
    "\n",
    "package_mode = statistics.mode(salaries)\n",
    "print(f'Package mode is \\t{package_mode:,.2f}')"
   ]
  },
  {
   "cell_type": "markdown",
   "metadata": {},
   "source": [
    "### sample variance\n",
    "Remember to use Bessel's correction."
   ]
  },
  {
   "cell_type": "code",
   "execution_count": 46,
   "metadata": {},
   "outputs": [
    {
     "name": "stdout",
     "output_type": "stream",
     "text": [
      "My variance is \t\t70,664,054,444.44\n",
      "Package variance is \t70,664,054,444.44\n"
     ]
    }
   ],
   "source": [
    "my_variance = (sum([(x - my_mean)**2 for x in salaries]))/(len(salaries)-1)\n",
    "print(f'My variance is \\t\\t{my_variance:,.2f}')\n",
    "\n",
    "package_variance = statistics.variance(salaries)\n",
    "print(f'Package variance is \\t{package_variance:,.2f}')\n"
   ]
  },
  {
   "cell_type": "markdown",
   "metadata": {},
   "source": [
    "### sample standard deviation\n",
    "Remember to use Bessel's correction."
   ]
  },
  {
   "cell_type": "code",
   "execution_count": 47,
   "metadata": {},
   "outputs": [
    {
     "name": "stdout",
     "output_type": "stream",
     "text": [
      "My sd is \t\t265,827.11\n",
      "Package variance is \t265,827.11\n"
     ]
    }
   ],
   "source": [
    "my_sd = my_variance ** 0.5\n",
    "print(f'My sd is \\t\\t{my_sd:,.2f}')\n",
    "\n",
    "package_sd = statistics.stdev(salaries)\n",
    "\n",
    "print(f'Package variance is \\t{package_sd:,.2f}')\n"
   ]
  },
  {
   "cell_type": "markdown",
   "metadata": {},
   "source": [
    "## Exercise 6: Calculating more statistics\n",
    "### range"
   ]
  },
  {
   "cell_type": "code",
   "execution_count": 48,
   "metadata": {},
   "outputs": [
    {
     "name": "stdout",
     "output_type": "stream",
     "text": [
      "My range = 995,000.00\n"
     ]
    }
   ],
   "source": [
    "my_range = max(salaries) - min(salaries)\n",
    "print(f'My range = {my_range:,.2f}')"
   ]
  },
  {
   "cell_type": "markdown",
   "metadata": {},
   "source": [
    "### coefficient of variation\n",
    "Make sure to use the sample standard deviation."
   ]
  },
  {
   "cell_type": "code",
   "execution_count": 64,
   "metadata": {},
   "outputs": [
    {
     "name": "stdout",
     "output_type": "stream",
     "text": [
      "My Coefficient of Variation 0.45\n"
     ]
    }
   ],
   "source": [
    "my_coef_var = my_sd / my_mean\n",
    "print(f'My Coefficient of Variation {my_coef_var:,.2f}')"
   ]
  },
  {
   "cell_type": "markdown",
   "metadata": {},
   "source": [
    "### interquartile range"
   ]
  },
  {
   "cell_type": "code",
   "execution_count": 68,
   "metadata": {},
   "outputs": [
    {
     "name": "stdout",
     "output_type": "stream",
     "text": [
      "My IQR = 421,000.00\n"
     ]
    }
   ],
   "source": [
    "#Q3 - Q1\n",
    "# my_q1 = salaries_sorted[len(salaries_sorted) / 4]\n",
    "my_q1 = salaries_sorted[int((len(salaries_sorted) * 0.25)+1.5)]\n",
    "my_q3 = salaries_sorted[int((len(salaries_sorted) * 0.75)+1.5)]\n",
    "my_interquartile_range = my_q3 - my_q1\n",
    "print(f'My IQR = {my_interquartile_range:,.2f}')\n",
    "\n",
    "# Doesn't match model answer.  But close enough for now."
   ]
  },
  {
   "cell_type": "markdown",
   "metadata": {},
   "source": [
    "### quartile coefficent of dispersion"
   ]
  },
  {
   "cell_type": "code",
   "execution_count": 71,
   "metadata": {},
   "outputs": [
    {
     "name": "stdout",
     "output_type": "stream",
     "text": [
      "My QCD = 0.33\n"
     ]
    }
   ],
   "source": [
    "my_qcd = my_interquartile_range /(my_q3 + my_q1)\n",
    "print(f'My QCD = {my_qcd:,.2f}')"
   ]
  },
  {
   "cell_type": "markdown",
   "metadata": {},
   "source": [
    "## Exercise 7: Scaling data\n",
    "### min-max scaling"
   ]
  },
  {
   "cell_type": "code",
   "execution_count": 78,
   "metadata": {},
   "outputs": [
    {
     "data": {
      "text/plain": [
       "[0.8472361809045226,\n",
       " 0.7608040201005025,\n",
       " 0.4221105527638191,\n",
       " 0.2592964824120603,\n",
       " 0.5125628140703518,\n",
       " 0.40603015075376886,\n",
       " 0.7869346733668342,\n",
       " 0.3035175879396985,\n",
       " 0.47839195979899496,\n",
       " 0.5849246231155779,\n",
       " 0.9115577889447236,\n",
       " 0.5065326633165829,\n",
       " 0.28241206030150756,\n",
       " 0.7587939698492462,\n",
       " 0.6201005025125628,\n",
       " 0.25125628140703515,\n",
       " 0.91356783919598,\n",
       " 0.9869346733668342,\n",
       " 0.8130653266331658,\n",
       " 0.9055276381909547,\n",
       " 0.31055276381909547,\n",
       " 0.7326633165829146,\n",
       " 0.9025125628140703,\n",
       " 0.6864321608040201,\n",
       " 0.4733668341708543,\n",
       " 0.10050251256281408,\n",
       " 0.43517587939698493,\n",
       " 0.6130653266331658,\n",
       " 0.9165829145728643,\n",
       " 0.9708542713567839,\n",
       " 0.47839195979899496,\n",
       " 0.8683417085427135,\n",
       " 0.26030150753768844,\n",
       " 0.8080402010050252,\n",
       " 0.5507537688442211,\n",
       " 0.01306532663316583,\n",
       " 0.7226130653266332,\n",
       " 0.4,\n",
       " 0.828140703517588,\n",
       " 0.6703517587939698,\n",
       " 0.0,\n",
       " 0.49547738693467336,\n",
       " 0.871356783919598,\n",
       " 0.2442211055276382,\n",
       " 0.3256281407035176,\n",
       " 0.8733668341708543,\n",
       " 0.19095477386934673,\n",
       " 0.5698492462311557,\n",
       " 0.23919597989949748,\n",
       " 0.9718592964824121,\n",
       " 0.8060301507537688,\n",
       " 0.4492462311557789,\n",
       " 0.07939698492462312,\n",
       " 0.32060301507537686,\n",
       " 0.5095477386934674,\n",
       " 0.9366834170854271,\n",
       " 0.10854271356783919,\n",
       " 0.5527638190954773,\n",
       " 0.7095477386934673,\n",
       " 0.5487437185929648,\n",
       " 0.8170854271356784,\n",
       " 0.5417085427135678,\n",
       " 0.9678391959798995,\n",
       " 0.6050251256281407,\n",
       " 0.5899497487437186,\n",
       " 0.4462311557788945,\n",
       " 0.5979899497487438,\n",
       " 0.385929648241206,\n",
       " 0.5778894472361809,\n",
       " 0.2904522613065327,\n",
       " 0.18894472361809045,\n",
       " 0.18693467336683417,\n",
       " 0.6150753768844222,\n",
       " 0.6592964824120603,\n",
       " 0.47839195979899496,\n",
       " 0.08944723618090453,\n",
       " 0.7608040201005025,\n",
       " 0.8804020100502512,\n",
       " 0.9266331658291457,\n",
       " 0.8452261306532663,\n",
       " 0.9015075376884422,\n",
       " 0.9266331658291457,\n",
       " 0.542713567839196,\n",
       " 0.39195979899497485,\n",
       " 0.7075376884422111,\n",
       " 0.27638190954773867,\n",
       " 0.8150753768844221,\n",
       " 0.8522613065326633,\n",
       " 0.8984924623115578,\n",
       " 0.5919597989949749,\n",
       " 0.9537688442211055,\n",
       " 0.5819095477386935,\n",
       " 0.45226130653266333,\n",
       " 0.6623115577889447,\n",
       " 1.0,\n",
       " 0.9206030150753769,\n",
       " 0.7959798994974875,\n",
       " 0.0814070351758794,\n",
       " 0.6150753768844222,\n",
       " 0.48743718592964824]"
      ]
     },
     "execution_count": 78,
     "metadata": {},
     "output_type": "execute_result"
    }
   ],
   "source": [
    "x_min = min(salaries)\n",
    "x_max = max(salaries)\n",
    "salaries_scaled = [ (x - x_min) / (x_max - x_min) for x in salaries]\n",
    "salaries_scaled"
   ]
  },
  {
   "cell_type": "markdown",
   "metadata": {},
   "source": [
    "### standardizing"
   ]
  },
  {
   "cell_type": "code",
   "execution_count": 80,
   "metadata": {},
   "outputs": [
    {
     "data": {
      "text/plain": [
       "[0.9717217942267801,\n",
       " 0.6482032533127501,\n",
       " -0.6195380058503674,\n",
       " -1.228956652688424,\n",
       " -0.28097209094033604,\n",
       " -0.6797275018343729,\n",
       " 0.7460111842867592,\n",
       " -1.0634355387324086,\n",
       " -0.40887476990634786,\n",
       " -0.010119359012310937,\n",
       " 1.2124797781628023,\n",
       " -0.3035431519343381,\n",
       " -1.142434252211416,\n",
       " 0.6406795663147493,\n",
       " 0.12154516345270126,\n",
       " -1.2590514006804265,\n",
       " 1.220003465160803,\n",
       " 1.4946180405878284,\n",
       " 0.8438191152607681,\n",
       " 1.1899087171688003,\n",
       " -1.037102634239406,\n",
       " 0.5428716353407403,\n",
       " 1.178623186671799,\n",
       " 0.36982683438672426,\n",
       " -0.4276839874013496,\n",
       " -1.8233279255304788,\n",
       " -0.5706340403633628,\n",
       " 0.09521225895969881,\n",
       " 1.2312889956578041,\n",
       " 1.434428544603823,\n",
       " -0.40887476990634786,\n",
       " 1.0507205077057873,\n",
       " -1.2251948091894236,\n",
       " 0.8250098977657664,\n",
       " -0.1380220379783228,\n",
       " -2.150608309943509,\n",
       " 0.5052532003507368,\n",
       " -0.7022985628283751,\n",
       " 0.9002467677457734,\n",
       " 0.3096373384027187,\n",
       " -2.199512275430514,\n",
       " -0.34492343042334195,\n",
       " 1.0620060382027885,\n",
       " -1.285384305173429,\n",
       " -0.9806749817544008,\n",
       " 1.0695297252007891,\n",
       " -1.4847620106204475,\n",
       " -0.06654701149731616,\n",
       " -1.304193522668431,\n",
       " 1.4381903881028233,\n",
       " 0.8174862107677657,\n",
       " -0.517968231377358,\n",
       " -1.9023266390094862,\n",
       " -0.9994841992494026,\n",
       " -0.2922576214373371,\n",
       " 1.3065258656378111,\n",
       " -1.7932331775384762,\n",
       " -0.1304983509803221,\n",
       " 0.4563492348637323,\n",
       " -0.14554572497632348,\n",
       " 0.8588664892567696,\n",
       " -0.17187862946932592,\n",
       " 1.4231430141068218,\n",
       " 0.06511751096769604,\n",
       " 0.008689858482690806,\n",
       " -0.529253761874359,\n",
       " 0.038784606474693596,\n",
       " -0.7549643718143799,\n",
       " -0.03645226350531338,\n",
       " -1.112339504219413,\n",
       " -1.4922856976184482,\n",
       " -1.4998093846164489,\n",
       " 0.10273594595769951,\n",
       " 0.26825705991371485,\n",
       " -0.40887476990634786,\n",
       " -1.8647082040194827,\n",
       " 0.6482032533127501,\n",
       " 1.0958626296937914,\n",
       " 1.2689074306478076,\n",
       " 0.9641981072287793,\n",
       " 1.1748613431727988,\n",
       " 1.2689074306478076,\n",
       " -0.16811678597032556,\n",
       " -0.7323933108203778,\n",
       " 0.4488255478657316,\n",
       " -1.165005313205418,\n",
       " 0.8513428022587689,\n",
       " 0.9905310117217818,\n",
       " 1.1635758126757978,\n",
       " 0.016213545480691503,\n",
       " 1.370477205120817,\n",
       " -0.02140488950931198,\n",
       " -0.5066827008803569,\n",
       " 0.2795425904107159,\n",
       " 1.543522006074833,\n",
       " 1.2463363696538055,\n",
       " 0.7798677757777622,\n",
       " -1.8948029520114855,\n",
       " 0.10273594595769951,\n",
       " -0.37501817841534474]"
      ]
     },
     "execution_count": 80,
     "metadata": {},
     "output_type": "execute_result"
    }
   ],
   "source": [
    "my_sd\n",
    "my_mean\n",
    "salaries_standardised = [ ((x - my_mean) / my_sd) for x in salaries]\n",
    "salaries_standardised"
   ]
  },
  {
   "cell_type": "markdown",
   "metadata": {},
   "source": [
    "## Exercise 8: Calculating covariance and correlation\n",
    "### covariance"
   ]
  },
  {
   "cell_type": "code",
   "execution_count": null,
   "metadata": {},
   "outputs": [],
   "source": []
  },
  {
   "cell_type": "markdown",
   "metadata": {},
   "source": [
    "### Pearson correlation coefficient ($\\rho$)"
   ]
  },
  {
   "cell_type": "code",
   "execution_count": null,
   "metadata": {},
   "outputs": [],
   "source": []
  },
  {
   "cell_type": "markdown",
   "metadata": {},
   "source": [
    "<hr>\n",
    "<div style=\"overflow: hidden; margin-bottom: 10px;\">\n",
    "    <div style=\"float: left;\">\n",
    "        <a href=\"./python_101.ipynb\">\n",
    "            <button>Python 101</button>\n",
    "        </a>\n",
    "    </div>\n",
    "    <div style=\"float: right;\">\n",
    "        <a href=\"../../solutions/ch_01/solutions.ipynb\">\n",
    "            <button>Solutions</button>\n",
    "        </a>\n",
    "        <a href=\"../ch_02/1-pandas_data_structures.ipynb\">\n",
    "            <button>Chapter 2 &#8594;</button>\n",
    "        </a>\n",
    "    </div>\n",
    "</div>\n",
    "<hr>"
   ]
  }
 ],
 "metadata": {
  "interpreter": {
   "hash": "3c8fc2cc835af1332d2c9df072a7e877b9e80a5bdc9d11986871d05ab640c283"
  },
  "kernelspec": {
   "display_name": "Python 3.7.3 ('hands')",
   "language": "python",
   "name": "python3"
  },
  "language_info": {
   "codemirror_mode": {
    "name": "ipython",
    "version": 3
   },
   "file_extension": ".py",
   "mimetype": "text/x-python",
   "name": "python",
   "nbconvert_exporter": "python",
   "pygments_lexer": "ipython3",
   "version": "3.7.3"
  }
 },
 "nbformat": 4,
 "nbformat_minor": 4
}
