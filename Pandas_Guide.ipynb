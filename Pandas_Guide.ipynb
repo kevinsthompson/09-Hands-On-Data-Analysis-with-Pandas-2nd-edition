{
  "nbformat": 4,
  "nbformat_minor": 0,
  "metadata": {
    "colab": {
      "name": "Pandas Guide.ipynb",
      "provenance": [],
      "collapsed_sections": [
        "rJjfNnW0K-Ik",
        "7tKA_KBROOPF",
        "T4j-HApoPdqZ",
        "WRZODh9XQPzB",
        "5oyPypbubRg7",
        "rizrQCPPlP1G",
        "zYMwkYSpmdmy"
      ],
      "include_colab_link": true
    },
    "kernelspec": {
      "name": "python3",
      "display_name": "Python 3"
    },
    "language_info": {
      "name": "python"
    }
  },
  "cells": [
    {
      "cell_type": "markdown",
      "metadata": {
        "id": "view-in-github",
        "colab_type": "text"
      },
      "source": [
        "<a href=\"https://colab.research.google.com/github/kevinsthompson/09-Hands-On-Data-Analysis-with-Pandas-2nd-edition/blob/master/Pandas_Guide.ipynb\" target=\"_parent\"><img src=\"https://colab.research.google.com/assets/colab-badge.svg\" alt=\"Open In Colab\"/></a>"
      ]
    },
    {
      "cell_type": "markdown",
      "metadata": {
        "id": "TunuIYQNmH_X"
      },
      "source": [
        "**How to use this guide:** On your first time reading through, expand each of the large numbered sections and read through all the text + supporting code. When using it as a reference while coding, collapse all the large sections and only open them when you need further detail or clarification. The quick reference guide in *Section 8* can also be used while coding (although it has less explanation)."
      ]
    },
    {
      "cell_type": "markdown",
      "metadata": {
        "id": "jy-KjMkqkVVG"
      },
      "source": [
        "# **0. Intro to Colab, pandas, and datetime**\n",
        "Expand this cell to learn more about what what Colab and pandas actually are, as well as an explanation of `datetime`, (arguably) the trickiest data type in Python."
      ]
    },
    {
      "cell_type": "markdown",
      "metadata": {
        "id": "YNTQbLGvkm5j"
      },
      "source": [
        "## Colab\n",
        "Generally, a Python Notebook (.ipynb) is a development environment where you can execute code individually in *cells* without running any of the other code present in the notebook. \n",
        "\n",
        "Python Notebooks can also have *markdown cells*, which are cells that contain text that can be formatted into headings, bold, italics, links, etc. This cell is a markdown cell!\n",
        "\n",
        "Colab is a just a Python Notebook hosted in the cloud that you can access through your browser and share + collaborate with others on. It can be used for many purposes but is especially well suited to machine learning and data science.\n",
        "\n",
        "### Useful Markdown\n",
        "* `* text` : a bullet point\n",
        "\n",
        "* `*text*` : italicized text\n",
        "\n",
        "* `**text**`: bolded text\n",
        "\n",
        "* `[text](link)`: a hyperlink\n",
        "\n",
        "* `# Heading 1`: a large heading\n",
        "\n",
        "* `## Heading 2`: a slightly smaller heading\n",
        "\n",
        "* `### Heading 3`: an even smaller heading (this structure goes on all the way down to Heading 6)\n",
        "\n",
        "* `---`: a horizontal line\n",
        "\n",
        "### Useful Colab Shortcuts\n",
        "*These shortcuts are for windows, but they should be the same as mac, with `CMD` (command) instead of `CTRL` (control).*\n",
        "* `SHIFT` + `ENTER` : run the cell you're currently on\n",
        "* `CTRL` + `M` + `B` : create a new code cell below the cell you're currently on\n",
        "* `CTRL` + `M + `A` : create a new code cell above the cell you're currently on\n",
        "* `CTRL` + `M` + `D` : delete a cell\n",
        "* `CTRL` + `M` + `M` : convert a code cell to a markdown cell\n",
        "* `CTRL` + `M` + `H` : view all keyboard shortcuts\n"
      ]
    },
    {
      "cell_type": "markdown",
      "metadata": {
        "id": "Iw1ykapUnzCN"
      },
      "source": [
        "## pandas\n",
        "https://pandas.pydata.org/docs/\n",
        "\n",
        "pandas is an open-source library for data analysis in Python. It works with tabular data, and is used to store, clean, manipulate, and aggregate data. Tables in pandas are called **DataFrames**:\n",
        "\n"
      ]
    },
    {
      "cell_type": "markdown",
      "metadata": {
        "id": "IZmzodzPo9KD"
      },
      "source": [
        "![image.png](data:image/png;base64,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)"
      ]
    },
    {
      "cell_type": "markdown",
      "metadata": {
        "id": "Afr6kzp0o9iM"
      },
      "source": [
        "And when you look at just a single column of that dataframe, it's called a **Series**:"
      ]
    },
    {
      "cell_type": "markdown",
      "metadata": {
        "id": "c3a5LN_opBil"
      },
      "source": [
        "![image.png](data:image/png;base64,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)"
      ]
    },
    {
      "cell_type": "markdown",
      "metadata": {
        "id": "pT77vq6upGXC"
      },
      "source": [
        "A **series** is different than a normal Python list because it has an **index**. An index is just a way to identify the rows of a dataframe (or the values of a series); by default, it's sequential integers, starting at 0 and ending at the length of the series minus one. \n",
        "\n",
        "However, if the data has been filtered in some way, certain rows or values might not be included, and that's reflected in the index, which may read `0, 4, 5, 7, 10` instead of `0, 1, 2, 3, 4, 5, 6, 7, 8, 9, 10, 11, 12`. \n",
        "\n",
        "Indexes can also be strings or datetime values and they can get very complex, but I personally haven't dealt with that very often and am usually able to get the index back to simple sequential integers."
      ]
    },
    {
      "cell_type": "markdown",
      "metadata": {
        "id": "fEaWuRpoqSsi"
      },
      "source": [
        "### Data Types\n",
        "Below is a list of the most common data types you'll deal with in a pandas dataframe.\n",
        "* **`object`** : object is broad, but it usually means the column contains strings. However, it can also contain tuples or other iterables, although it isn't supported very well in pandas.\n",
        "* **`int64`** : integer\n",
        "* **`float64`** : floating-point numbers (decimals)\n",
        "* **`bool`** : a boolean variable, either `True` or `False`.\n",
        "* **`datetime64`** : an object from the `datetime` package; more detail provided below.\n"
      ]
    },
    {
      "cell_type": "markdown",
      "metadata": {
        "id": "DDGZ_5wJrysj"
      },
      "source": [
        "## Datetime\n",
        "Datetime values can be tricky to deal with in Python, but you'll see them often in real-world data. There are three main `datetime` datatypes you'll be dealing with: `date`, `datetime`, and `timedelta`.\n",
        "\n",
        "* **`date`** : a date including year, month, and day.\n",
        "* **`datetime`** : a datetime that includes date and time--year, month, day, hours, minutes, seconds, and microseconds.\n",
        "* **`timedelta`** : a duration, the difference between two dates or times.\n",
        "\n",
        "Below is a quick tutorial for creating `date`, `datetime`, and `timedelta` objects; note that for both `date` and `datetime`, year, month, and day are required, while no particular time unit is required for `timedelta`. For `datetime`, if you don't specify more precise time units, they will default to `0`."
      ]
    },
    {
      "cell_type": "markdown",
      "metadata": {
        "id": "HFcqa57av-RX"
      },
      "source": [
        "### `date` objects"
      ]
    },
    {
      "cell_type": "code",
      "metadata": {
        "id": "kv1lnFeoskXj"
      },
      "source": [
        "# import the library\n",
        "import datetime"
      ],
      "execution_count": null,
      "outputs": []
    },
    {
      "cell_type": "code",
      "metadata": {
        "colab": {
          "base_uri": "https://localhost:8080/"
        },
        "id": "ASt3m1vgskj9",
        "outputId": "6d1a961b-b5f9-4e02-d829-09a2a09877b0"
      },
      "source": [
        "# create and return a date\n",
        "date1 = datetime.date(2021, 9, 27)\n",
        "date2 = datetime.date(2021, 2, 15)\n",
        "date1"
      ],
      "execution_count": null,
      "outputs": [
        {
          "output_type": "execute_result",
          "data": {
            "text/plain": [
              "datetime.date(2021, 9, 27)"
            ]
          },
          "metadata": {},
          "execution_count": 2
        }
      ]
    },
    {
      "cell_type": "code",
      "metadata": {
        "colab": {
          "base_uri": "https://localhost:8080/"
        },
        "id": "zY0PagN-st48",
        "outputId": "d61007af-29b6-4a90-cd09-30450f4a9a90"
      },
      "source": [
        "# print a date\n",
        "print(date1)\n",
        "print(date2)"
      ],
      "execution_count": null,
      "outputs": [
        {
          "output_type": "stream",
          "name": "stdout",
          "text": [
            "2021-09-27\n",
            "2021-02-15\n"
          ]
        }
      ]
    },
    {
      "cell_type": "markdown",
      "metadata": {
        "id": "zM20Vvuau8M5"
      },
      "source": [
        "### `datetime` objects"
      ]
    },
    {
      "cell_type": "code",
      "metadata": {
        "colab": {
          "base_uri": "https://localhost:8080/"
        },
        "id": "6KuGAwHGpNgx",
        "outputId": "a5b28af9-dd53-423a-c041-80df627a7c10"
      },
      "source": [
        "# creating datetime objects and returning one\n",
        "datetime0 = datetime.datetime(2021, 9, 27)\n",
        "datetime1 = datetime.datetime(2021, 9, 27, 13, 49)\n",
        "datetime2 = datetime.datetime(2021, 9, 27, 13, 49, 50, 500)\n",
        "datetime1"
      ],
      "execution_count": null,
      "outputs": [
        {
          "output_type": "execute_result",
          "data": {
            "text/plain": [
              "datetime.datetime(2021, 9, 27, 13, 49)"
            ]
          },
          "metadata": {},
          "execution_count": 4
        }
      ]
    },
    {
      "cell_type": "code",
      "metadata": {
        "colab": {
          "base_uri": "https://localhost:8080/"
        },
        "id": "86gwPjwas2j7",
        "outputId": "d59ee1b1-51b7-4207-aa23-870a7b2085e2"
      },
      "source": [
        "# printing the datetime objects\n",
        "print(datetime0)\n",
        "print(datetime1)\n",
        "print(datetime2)"
      ],
      "execution_count": null,
      "outputs": [
        {
          "output_type": "stream",
          "name": "stdout",
          "text": [
            "2021-09-27 00:00:00\n",
            "2021-09-27 13:49:00\n",
            "2021-09-27 13:49:50.000500\n"
          ]
        }
      ]
    },
    {
      "cell_type": "markdown",
      "metadata": {
        "id": "GxbvdKwiu-od"
      },
      "source": [
        "### `timedelta` objects"
      ]
    },
    {
      "cell_type": "code",
      "metadata": {
        "colab": {
          "base_uri": "https://localhost:8080/"
        },
        "id": "1YJc1iTktMs8",
        "outputId": "5f5c606c-9901-4e7a-a354-18c8e9dc1098"
      },
      "source": [
        "# creating timedeltas\n",
        "td1 = datetime.timedelta(days=20)\n",
        "td2 = datetime.timedelta(hours=20)\n",
        "td3 = datetime.timedelta(hours=40, minutes=37)\n",
        "td1"
      ],
      "execution_count": null,
      "outputs": [
        {
          "output_type": "execute_result",
          "data": {
            "text/plain": [
              "datetime.timedelta(days=20)"
            ]
          },
          "metadata": {},
          "execution_count": 6
        }
      ]
    },
    {
      "cell_type": "code",
      "metadata": {
        "colab": {
          "base_uri": "https://localhost:8080/"
        },
        "id": "lEd2h5y8vEx-",
        "outputId": "6bb4879c-401d-4f9b-a3fc-d1c19e4d27ac"
      },
      "source": [
        "print(td1)\n",
        "print(td2)"
      ],
      "execution_count": null,
      "outputs": [
        {
          "output_type": "stream",
          "name": "stdout",
          "text": [
            "20 days, 0:00:00\n",
            "20:00:00\n"
          ]
        }
      ]
    },
    {
      "cell_type": "code",
      "metadata": {
        "colab": {
          "base_uri": "https://localhost:8080/"
        },
        "id": "uloEbVsxvOSs",
        "outputId": "627a3d7a-59f8-4df4-d25d-58e67222c543"
      },
      "source": [
        "# example 1: days timedelta to a days object\n",
        "print(date1)\n",
        "print(date1 + td1)\n",
        "print(date1 - td1)"
      ],
      "execution_count": null,
      "outputs": [
        {
          "output_type": "stream",
          "name": "stdout",
          "text": [
            "2021-09-27\n",
            "2021-10-17\n",
            "2021-09-07\n"
          ]
        }
      ]
    },
    {
      "cell_type": "code",
      "metadata": {
        "colab": {
          "base_uri": "https://localhost:8080/"
        },
        "id": "ZWmLD34XvXVx",
        "outputId": "b61eaf28-9517-4585-8271-843b975b796f"
      },
      "source": [
        "# example 2: hours/mins timedelta to a days object\n",
        "print(date1)\n",
        "print(date1 + td2)\n",
        "print(date1 + td3)\n",
        "print(date1 - td3)"
      ],
      "execution_count": null,
      "outputs": [
        {
          "output_type": "stream",
          "name": "stdout",
          "text": [
            "2021-09-27\n",
            "2021-09-27\n",
            "2021-09-28\n",
            "2021-09-26\n"
          ]
        }
      ]
    },
    {
      "cell_type": "code",
      "metadata": {
        "colab": {
          "base_uri": "https://localhost:8080/"
        },
        "id": "lbq0ddqUvrOM",
        "outputId": "c16f35c6-3902-42c9-da59-54347553f24f"
      },
      "source": [
        "# example 3: any timedelta to a datetime object\n",
        "print(datetime1 + td1)\n",
        "print(datetime1 + td2)\n",
        "print(datetime1 - td3)"
      ],
      "execution_count": null,
      "outputs": [
        {
          "output_type": "stream",
          "name": "stdout",
          "text": [
            "2021-10-17 13:49:00\n",
            "2021-09-28 09:49:00\n",
            "2021-09-25 21:12:00\n"
          ]
        }
      ]
    },
    {
      "cell_type": "code",
      "metadata": {
        "colab": {
          "base_uri": "https://localhost:8080/"
        },
        "id": "O8yk4PhFwBQJ",
        "outputId": "204c02e2-d0d0-4821-92db-bb1c35532f06"
      },
      "source": [
        "# example 4: create a timedelta from two date objects\n",
        "print(date1 - date2)"
      ],
      "execution_count": null,
      "outputs": [
        {
          "output_type": "stream",
          "name": "stdout",
          "text": [
            "224 days, 0:00:00\n"
          ]
        }
      ]
    },
    {
      "cell_type": "code",
      "metadata": {
        "colab": {
          "base_uri": "https://localhost:8080/"
        },
        "id": "mGPNcfYQwkdb",
        "outputId": "aae9e642-6350-49f1-cd68-2249e56fb293"
      },
      "source": [
        "# example 5: create a timedelta from two datetime objects\n",
        "print(datetime2 - datetime0)"
      ],
      "execution_count": null,
      "outputs": [
        {
          "output_type": "stream",
          "name": "stdout",
          "text": [
            "13:49:50.000500\n"
          ]
        }
      ]
    },
    {
      "cell_type": "code",
      "metadata": {
        "id": "MjgSxd9swuwe",
        "colab": {
          "base_uri": "https://localhost:8080/",
          "height": 229
        },
        "outputId": "e71da7bb-27e2-4602-c191-95be2506ac8d"
      },
      "source": [
        "# note that datetime and date cannot be subtracted from each other,\n",
        "# and dates/datetimes can't be added to themselves\n",
        "# all three of the following lines will produce errors\n",
        "print(datetime2 - date2)\n",
        "print(date1 + date2)\n",
        "print(datetime1 + datetime2)"
      ],
      "execution_count": null,
      "outputs": [
        {
          "output_type": "error",
          "ename": "TypeError",
          "evalue": "ignored",
          "traceback": [
            "\u001b[0;31m---------------------------------------------------------------------------\u001b[0m",
            "\u001b[0;31mTypeError\u001b[0m                                 Traceback (most recent call last)",
            "\u001b[0;32m<ipython-input-13-844299a5d66f>\u001b[0m in \u001b[0;36m<module>\u001b[0;34m()\u001b[0m\n\u001b[1;32m      2\u001b[0m \u001b[0;31m# and dates/datetimes can't be added to themselves\u001b[0m\u001b[0;34m\u001b[0m\u001b[0;34m\u001b[0m\u001b[0;34m\u001b[0m\u001b[0m\n\u001b[1;32m      3\u001b[0m \u001b[0;31m# all three of the following lines will produce errors\u001b[0m\u001b[0;34m\u001b[0m\u001b[0;34m\u001b[0m\u001b[0;34m\u001b[0m\u001b[0m\n\u001b[0;32m----> 4\u001b[0;31m \u001b[0mprint\u001b[0m\u001b[0;34m(\u001b[0m\u001b[0mdatetime2\u001b[0m \u001b[0;34m-\u001b[0m \u001b[0mdate2\u001b[0m\u001b[0;34m)\u001b[0m\u001b[0;34m\u001b[0m\u001b[0;34m\u001b[0m\u001b[0m\n\u001b[0m\u001b[1;32m      5\u001b[0m \u001b[0mprint\u001b[0m\u001b[0;34m(\u001b[0m\u001b[0mdate1\u001b[0m \u001b[0;34m+\u001b[0m \u001b[0mdate2\u001b[0m\u001b[0;34m)\u001b[0m\u001b[0;34m\u001b[0m\u001b[0;34m\u001b[0m\u001b[0m\n\u001b[1;32m      6\u001b[0m \u001b[0mprint\u001b[0m\u001b[0;34m(\u001b[0m\u001b[0mdatetime1\u001b[0m \u001b[0;34m+\u001b[0m \u001b[0mdatetime2\u001b[0m\u001b[0;34m)\u001b[0m\u001b[0;34m\u001b[0m\u001b[0;34m\u001b[0m\u001b[0m\n",
            "\u001b[0;31mTypeError\u001b[0m: unsupported operand type(s) for -: 'datetime.datetime' and 'datetime.date'"
          ]
        }
      ]
    },
    {
      "cell_type": "markdown",
      "metadata": {
        "id": "46JaEXllxFVn"
      },
      "source": [
        "### `strftime` / `strptime`\n",
        "Stands for \"string format time\" and \"string parse time\", respectively. Cheatsheet linked [here](https://strftime.org/).\n",
        "\n",
        "* `strptime` : used to convert a string to a datetime object (parse the string), assuming the string follows a consistent and specific format\n",
        "    * very useful!\n",
        "* `strftime` : used to print a datetime object using a certain string format (other than the default MM-DD-YYYY)\n",
        "\n",
        "\n",
        "In the `strptime` example below, I see that the code from the cheatsheet for a month's full name is `%B`, then there's a space in the string, then the code for a two-digit day is `%d`, then there's a comma and a space, then the code for a century year is `%Y`.\n",
        "\n",
        "The same principles apply to the `strftime` example.\n",
        "\n",
        "Note that none of the non zero-padded code examples are relevant here; we would use `%d` for both `09` and `9`."
      ]
    },
    {
      "cell_type": "code",
      "metadata": {
        "id": "kiXfAeLmxFZ0"
      },
      "source": [
        "date_string = 'September 9, 2020'\n",
        "\n",
        "datetime.datetime.strptime(date_string, '%B %d, %Y')"
      ],
      "execution_count": null,
      "outputs": []
    },
    {
      "cell_type": "code",
      "metadata": {
        "id": "WnehwZRnxFk4"
      },
      "source": [
        "date_to_print = datetime.datetime(2020, 9, 4, 15, 45)\n",
        "\n",
        "date_to_print.strftime('%d %b %y, %I:%M %p')"
      ],
      "execution_count": null,
      "outputs": []
    },
    {
      "cell_type": "markdown",
      "metadata": {
        "id": "rJjfNnW0K-Ik"
      },
      "source": [
        "# **1. Setting up your Colab environment**\n",
        "Expand these cells to view instructions for how to set up your Google Colab environment. Imports and pandas options are in this section."
      ]
    },
    {
      "cell_type": "markdown",
      "metadata": {
        "id": "13ltf2da3A9I"
      },
      "source": [
        "First, mount your notebook with Google Drive so that you can access files you've uploaded to drive (you may have to authorize it and enter an authorization code)."
      ]
    },
    {
      "cell_type": "code",
      "metadata": {
        "id": "hWzPm8rdLUvP"
      },
      "source": [
        "from google.colab import drive\n",
        "drive.mount('/content/drive')"
      ],
      "execution_count": null,
      "outputs": []
    },
    {
      "cell_type": "markdown",
      "metadata": {
        "id": "erGlXv142OCy"
      },
      "source": [
        "Next, create a folder called \"Data\" in the same directory as your notebook(s). This is where you'll store CSV files that will then be read in to the notebook. Once you're done, use the gif below as a reference to copy the filepath of your Data folder and set it equal to a variable `path` in your notebook."
      ]
    },
    {
      "cell_type": "markdown",
      "metadata": {
        "id": "zaVYq_lxK1cb"
      },
      "source": [
        "![data filepath.gif](data:image/gif;base64,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)"
      ]
    },
    {
      "cell_type": "code",
      "metadata": {
        "id": "BVHWgofbLRA3"
      },
      "source": [
        "path = '/content/drive/MyDrive/Build Teams F21/Tech Curriculum/Data Analysis/Data/'"
      ],
      "execution_count": null,
      "outputs": []
    },
    {
      "cell_type": "markdown",
      "metadata": {
        "id": "-XRS1-vZ212b"
      },
      "source": [
        "As an alternative to mounting your Google Drive, you can store all data files in a GitHub repo and then read them in using a link. For example, I have a repo called `data`, linked [here](https://github.com/ryanbbrown/data). I prefer to use this method.\n",
        "\n",
        "Finally, import the necessary libraries and you'll be all set."
      ]
    },
    {
      "cell_type": "code",
      "metadata": {
        "id": "cICfCLSC15LV"
      },
      "source": [
        "import pandas as pd\n",
        "import numpy as np\n",
        "import datetime\n",
        "import re"
      ],
      "execution_count": null,
      "outputs": []
    },
    {
      "cell_type": "markdown",
      "metadata": {
        "id": "YaZ-QZp6LJwa"
      },
      "source": [
        "The following settings are optional, but can be useful depending on the situation.\n",
        "\n",
        "`max_columns`, `max_rows`, and `max_colwidth` all do what their name implies; `precision` indicates the number of signficiant digits after the decimal that numbers will be displayed to."
      ]
    },
    {
      "cell_type": "code",
      "metadata": {
        "id": "yP1PcaWS9eQL"
      },
      "source": [
        "pd.options.display.max_columns = 50  # None -> No Restrictions\n",
        "pd.options.display.max_rows = 200    # None -> Be careful with this \n",
        "pd.options.display.max_colwidth = 100\n",
        "pd.options.display.precision = 3"
      ],
      "execution_count": null,
      "outputs": []
    },
    {
      "cell_type": "markdown",
      "metadata": {
        "id": "7tKA_KBROOPF"
      },
      "source": [
        "# **2. Loading your first DataFrame**\n",
        "This section covers loading and saving DataFrames.\n",
        "\n"
      ]
    },
    {
      "cell_type": "markdown",
      "metadata": {
        "id": "sqA51QPeKz2_"
      },
      "source": [
        "Upload a .csv file to the Data folder in your drive (or to your GitHub repo) to get started. Use the code below to read in the file as a dataframe:\n",
        "\n",
        "`df = pd.read_csv(path + 'filename.csv')`\n",
        "\n",
        "if you're working with a csv file that has a separator other than a comma (such as tab `'\\t'` or semicolon `';'`, for example):\n",
        "\n",
        "`df = pd.read_csv(path + 'filename.csv', sep='\\t')`\n",
        "\n",
        "or to read in from url:\n",
        "\n",
        "`df = pd.read_csv('url')`\n",
        "\n",
        "get the proper URL by going to the dataset, clicking \"Raw\", and then copying the URL that shows up in your browser."
      ]
    },
    {
      "cell_type": "markdown",
      "metadata": {
        "id": "N2S15Ii5vUU-"
      },
      "source": [
        "![image.png](data:image/png;base64,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)"
      ]
    },
    {
      "cell_type": "code",
      "metadata": {
        "id": "M6xPPlzMf0mL"
      },
      "source": [
        "# # the location of this notebook has changed and there is no longer a data folder\n",
        "# # so this method of reading in data doesn't work and is commented out\n",
        "# df = pd.read_csv(path + 'tips.csv')"
      ],
      "execution_count": null,
      "outputs": []
    },
    {
      "cell_type": "code",
      "metadata": {
        "id": "P5_G12R4thl6"
      },
      "source": [
        "df = pd.read_csv('https://raw.githubusercontent.com/ryanbbrown/data/main/convergent/modified_tips.csv', delimiter=',')"
      ],
      "execution_count": null,
      "outputs": []
    },
    {
      "cell_type": "code",
      "metadata": {
        "id": "D3TMbamH3suA"
      },
      "source": [
        "# ignore this code, it sets the data up for demonstration purposes later\n",
        "df['size'] = df['size'].astype(str)"
      ],
      "execution_count": null,
      "outputs": []
    },
    {
      "cell_type": "markdown",
      "metadata": {
        "id": "YSC9jg8oJwht"
      },
      "source": [
        "### Saving a dataframe\n",
        "Once you've cleaned or processed a dataframe, you can save it as one of two main formats: CSV or pickle. CSV is what you would expect, and a pickle file is a binary file that can save the datatypes of the CSV (e.g. if you have a datetime column, or a column whose elements are tuples).\n",
        "\n",
        "Note that the dataframe will get saved to the temporary \"content\" section of Colab that empties with each new runtime, so you'll either need to download it from there to save somewhere else or save it initially somewhere else (like you drive) by specifying a filepath."
      ]
    },
    {
      "cell_type": "code",
      "metadata": {
        "id": "uys1Bgn09cfC"
      },
      "source": [
        "# save as a .csv file\n",
        "df.to_csv('df.csv')"
      ],
      "execution_count": null,
      "outputs": []
    },
    {
      "cell_type": "code",
      "metadata": {
        "id": "HKxJ_SCqKebq"
      },
      "source": [
        "# save as a binary pickle file\n",
        "df.to_pickle('df.pickle')"
      ],
      "execution_count": null,
      "outputs": []
    },
    {
      "cell_type": "code",
      "metadata": {
        "id": "ajYQ9pqVJt1I"
      },
      "source": [
        "# read in a pickle file\n",
        "df_pkl = pd.read_pickle('df.pickle')"
      ],
      "execution_count": null,
      "outputs": []
    },
    {
      "cell_type": "markdown",
      "metadata": {
        "id": "T4j-HApoPdqZ"
      },
      "source": [
        "# **3. General Commands**\n",
        "These are the basic commands you'll use to get an overview of what your data looks like. Expand to view examples.\n",
        "\n",
        "<br>\n",
        "\n",
        "**`df.head()`** : show the first five rows of the dataset\n",
        "\n",
        "**`df.head(10)`** : show the first ten rows of the dataset\n",
        "\n",
        "**`df.tail()`** : show the last five rows of the dataset\n",
        "\n",
        "**`df.sample(10)`** : show a random sample of 10 rows from the dataset\n",
        "\n",
        "**`df.info()`**: shows the index type, column, datatype, number of non-null values in each column, and memory usage of the dataframe.\n",
        "\n",
        "**`df.shape`** : dimensions of the dataframe in form (rows, columns)\n",
        "\n",
        "**`df.columns`** : returns a list of column names of the dataframe\n",
        "\n",
        "**`df.dtypes`** : view all the columns and their corresponding data types\n",
        "\n",
        "**`df2 = df.copy()`** : creates a copy of the dataframe that can be modified without affecting the original data\n",
        "\n",
        "**`df['col'].value_counts()`** : view values present in a column + number of occurrences"
      ]
    },
    {
      "cell_type": "code",
      "metadata": {
        "colab": {
          "base_uri": "https://localhost:8080/"
        },
        "id": "POF5PnPeOB-A",
        "outputId": "d59ff76e-ec12-48b8-9ce7-e97a27f53e59"
      },
      "source": [
        "# commonly used to take a quick look at your data\n",
        "df.head()"
      ],
      "execution_count": null,
      "outputs": [
        {
          "output_type": "execute_result",
          "data": {
            "text/html": [
              "<div>\n",
              "<style scoped>\n",
              "    .dataframe tbody tr th:only-of-type {\n",
              "        vertical-align: middle;\n",
              "    }\n",
              "\n",
              "    .dataframe tbody tr th {\n",
              "        vertical-align: top;\n",
              "    }\n",
              "\n",
              "    .dataframe thead th {\n",
              "        text-align: right;\n",
              "    }\n",
              "</style>\n",
              "<table border=\"1\" class=\"dataframe\">\n",
              "  <thead>\n",
              "    <tr style=\"text-align: right;\">\n",
              "      <th></th>\n",
              "      <th>total_bill</th>\n",
              "      <th>tip</th>\n",
              "      <th>sex</th>\n",
              "      <th>smoker</th>\n",
              "      <th>day</th>\n",
              "      <th>time</th>\n",
              "      <th>size</th>\n",
              "      <th>date</th>\n",
              "    </tr>\n",
              "  </thead>\n",
              "  <tbody>\n",
              "    <tr>\n",
              "      <th>0</th>\n",
              "      <td>16.99</td>\n",
              "      <td>1.01</td>\n",
              "      <td>Female</td>\n",
              "      <td>No</td>\n",
              "      <td>sun</td>\n",
              "      <td>Dinner</td>\n",
              "      <td>2</td>\n",
              "      <td>2021-03-01</td>\n",
              "    </tr>\n",
              "    <tr>\n",
              "      <th>1</th>\n",
              "      <td>10.34</td>\n",
              "      <td>1.66</td>\n",
              "      <td>Male</td>\n",
              "      <td>No</td>\n",
              "      <td>sun</td>\n",
              "      <td>Dinner</td>\n",
              "      <td>3</td>\n",
              "      <td>2021-03-21</td>\n",
              "    </tr>\n",
              "    <tr>\n",
              "      <th>2</th>\n",
              "      <td>21.01</td>\n",
              "      <td>3.50</td>\n",
              "      <td>Male</td>\n",
              "      <td>No</td>\n",
              "      <td>sun</td>\n",
              "      <td>Dinner</td>\n",
              "      <td>3</td>\n",
              "      <td>2021-03-23</td>\n",
              "    </tr>\n",
              "    <tr>\n",
              "      <th>3</th>\n",
              "      <td>23.68</td>\n",
              "      <td>3.31</td>\n",
              "      <td>Male</td>\n",
              "      <td>No</td>\n",
              "      <td>sun</td>\n",
              "      <td>Dinner</td>\n",
              "      <td>2</td>\n",
              "      <td>2021-03-05</td>\n",
              "    </tr>\n",
              "    <tr>\n",
              "      <th>4</th>\n",
              "      <td>24.59</td>\n",
              "      <td>3.61</td>\n",
              "      <td>Female</td>\n",
              "      <td>No</td>\n",
              "      <td>sun</td>\n",
              "      <td>Dinner</td>\n",
              "      <td>4</td>\n",
              "      <td>2021-03-15</td>\n",
              "    </tr>\n",
              "  </tbody>\n",
              "</table>\n",
              "</div>"
            ],
            "text/plain": [
              "   total_bill   tip     sex smoker  day    time size        date\n",
              "0       16.99  1.01  Female     No  sun  Dinner    2  2021-03-01\n",
              "1       10.34  1.66    Male     No  sun  Dinner    3  2021-03-21\n",
              "2       21.01  3.50    Male     No  sun  Dinner    3  2021-03-23\n",
              "3       23.68  3.31    Male     No  sun  Dinner    2  2021-03-05\n",
              "4       24.59  3.61  Female     No  sun  Dinner    4  2021-03-15"
            ]
          },
          "metadata": {},
          "execution_count": 60
        }
      ]
    },
    {
      "cell_type": "code",
      "metadata": {
        "colab": {
          "base_uri": "https://localhost:8080/"
        },
        "id": "e7wQN7itLq1X",
        "outputId": "e092cbde-e6e6-4645-b0cc-ac3fd3bd11f2"
      },
      "source": [
        "df.info()"
      ],
      "execution_count": null,
      "outputs": [
        {
          "output_type": "stream",
          "name": "stdout",
          "text": [
            "<class 'pandas.core.frame.DataFrame'>\n",
            "RangeIndex: 244 entries, 0 to 243\n",
            "Data columns (total 8 columns):\n",
            " #   Column      Non-Null Count  Dtype  \n",
            "---  ------      --------------  -----  \n",
            " 0   total_bill  195 non-null    float64\n",
            " 1   tip         195 non-null    float64\n",
            " 2   sex         244 non-null    object \n",
            " 3   smoker      191 non-null    object \n",
            " 4   day         244 non-null    object \n",
            " 5   time        244 non-null    object \n",
            " 6   size        244 non-null    int64  \n",
            " 7   date        244 non-null    object \n",
            "dtypes: float64(2), int64(1), object(5)\n",
            "memory usage: 15.4+ KB\n"
          ]
        }
      ]
    },
    {
      "cell_type": "code",
      "metadata": {
        "colab": {
          "base_uri": "https://localhost:8080/"
        },
        "id": "wa-EwsOSNUEI",
        "outputId": "1c522d8a-2369-4e72-edbc-49753c670d27"
      },
      "source": [
        "# dimensions of the dataframe\n",
        "df.shape"
      ],
      "execution_count": null,
      "outputs": [
        {
          "output_type": "execute_result",
          "data": {
            "text/plain": [
              "(244, 8)"
            ]
          },
          "metadata": {},
          "execution_count": 61
        }
      ]
    },
    {
      "cell_type": "code",
      "metadata": {
        "colab": {
          "base_uri": "https://localhost:8080/"
        },
        "id": "Ld-_YCBZB8-w",
        "outputId": "8d1afefe-ca06-412f-efec-1c58762fad19"
      },
      "source": [
        "# list of columns in the dataframe\n",
        "list(df.columns)"
      ],
      "execution_count": null,
      "outputs": [
        {
          "output_type": "execute_result",
          "data": {
            "text/plain": [
              "['total_bill', 'tip', 'sex', 'smoker', 'day', 'time', 'size', 'date']"
            ]
          },
          "metadata": {},
          "execution_count": 62
        }
      ]
    },
    {
      "cell_type": "code",
      "metadata": {
        "colab": {
          "base_uri": "https://localhost:8080/"
        },
        "id": "FjwBBYhe07wF",
        "outputId": "e0e718a8-0862-49b0-ae61-d5f0dac70034"
      },
      "source": [
        "df.dtypes"
      ],
      "execution_count": null,
      "outputs": [
        {
          "output_type": "execute_result",
          "data": {
            "text/plain": [
              "total_bill    float64\n",
              "tip           float64\n",
              "sex            object\n",
              "smoker         object\n",
              "day            object\n",
              "time           object\n",
              "size           object\n",
              "date           object\n",
              "dtype: object"
            ]
          },
          "metadata": {},
          "execution_count": 63
        }
      ]
    },
    {
      "cell_type": "code",
      "metadata": {
        "colab": {
          "base_uri": "https://localhost:8080/"
        },
        "id": "zwctR5ZZl0gw",
        "outputId": "69321517-99a7-4b12-b8e9-9026375411f7"
      },
      "source": [
        "df.value_counts('day')"
      ],
      "execution_count": null,
      "outputs": [
        {
          "output_type": "execute_result",
          "data": {
            "text/plain": [
              "day\n",
              "Sat     87\n",
              "sun     76\n",
              "Thur    62\n",
              "Fri     19\n",
              "dtype: int64"
            ]
          },
          "metadata": {},
          "execution_count": 64
        }
      ]
    },
    {
      "cell_type": "code",
      "metadata": {
        "colab": {
          "base_uri": "https://localhost:8080/"
        },
        "id": "p4tjd0m71b5l",
        "outputId": "9ba5ca97-5a64-45ed-97e1-8b93906ef7d9"
      },
      "source": [
        "# making a copy, showing that the original df remains unaffected\n",
        "df2 = df.copy()\n",
        "df2.drop('date', axis=1, inplace=True)\n",
        "df.head()"
      ],
      "execution_count": null,
      "outputs": [
        {
          "output_type": "execute_result",
          "data": {
            "text/html": [
              "<div>\n",
              "<style scoped>\n",
              "    .dataframe tbody tr th:only-of-type {\n",
              "        vertical-align: middle;\n",
              "    }\n",
              "\n",
              "    .dataframe tbody tr th {\n",
              "        vertical-align: top;\n",
              "    }\n",
              "\n",
              "    .dataframe thead th {\n",
              "        text-align: right;\n",
              "    }\n",
              "</style>\n",
              "<table border=\"1\" class=\"dataframe\">\n",
              "  <thead>\n",
              "    <tr style=\"text-align: right;\">\n",
              "      <th></th>\n",
              "      <th>total_bill</th>\n",
              "      <th>tip</th>\n",
              "      <th>sex</th>\n",
              "      <th>smoker</th>\n",
              "      <th>day</th>\n",
              "      <th>time</th>\n",
              "      <th>size</th>\n",
              "      <th>date</th>\n",
              "    </tr>\n",
              "  </thead>\n",
              "  <tbody>\n",
              "    <tr>\n",
              "      <th>0</th>\n",
              "      <td>16.99</td>\n",
              "      <td>1.01</td>\n",
              "      <td>Female</td>\n",
              "      <td>No</td>\n",
              "      <td>sun</td>\n",
              "      <td>Dinner</td>\n",
              "      <td>2</td>\n",
              "      <td>2021-03-01</td>\n",
              "    </tr>\n",
              "    <tr>\n",
              "      <th>1</th>\n",
              "      <td>10.34</td>\n",
              "      <td>1.66</td>\n",
              "      <td>Male</td>\n",
              "      <td>No</td>\n",
              "      <td>sun</td>\n",
              "      <td>Dinner</td>\n",
              "      <td>3</td>\n",
              "      <td>2021-03-21</td>\n",
              "    </tr>\n",
              "    <tr>\n",
              "      <th>2</th>\n",
              "      <td>21.01</td>\n",
              "      <td>3.50</td>\n",
              "      <td>Male</td>\n",
              "      <td>No</td>\n",
              "      <td>sun</td>\n",
              "      <td>Dinner</td>\n",
              "      <td>3</td>\n",
              "      <td>2021-03-23</td>\n",
              "    </tr>\n",
              "    <tr>\n",
              "      <th>3</th>\n",
              "      <td>23.68</td>\n",
              "      <td>3.31</td>\n",
              "      <td>Male</td>\n",
              "      <td>No</td>\n",
              "      <td>sun</td>\n",
              "      <td>Dinner</td>\n",
              "      <td>2</td>\n",
              "      <td>2021-03-05</td>\n",
              "    </tr>\n",
              "    <tr>\n",
              "      <th>4</th>\n",
              "      <td>24.59</td>\n",
              "      <td>3.61</td>\n",
              "      <td>Female</td>\n",
              "      <td>No</td>\n",
              "      <td>sun</td>\n",
              "      <td>Dinner</td>\n",
              "      <td>4</td>\n",
              "      <td>2021-03-15</td>\n",
              "    </tr>\n",
              "  </tbody>\n",
              "</table>\n",
              "</div>"
            ],
            "text/plain": [
              "   total_bill   tip     sex smoker  day    time size        date\n",
              "0       16.99  1.01  Female     No  sun  Dinner    2  2021-03-01\n",
              "1       10.34  1.66    Male     No  sun  Dinner    3  2021-03-21\n",
              "2       21.01  3.50    Male     No  sun  Dinner    3  2021-03-23\n",
              "3       23.68  3.31    Male     No  sun  Dinner    2  2021-03-05\n",
              "4       24.59  3.61  Female     No  sun  Dinner    4  2021-03-15"
            ]
          },
          "metadata": {},
          "execution_count": 65
        }
      ]
    },
    {
      "cell_type": "code",
      "metadata": {
        "id": "c7A6TUs31p_p"
      },
      "source": [
        ""
      ],
      "execution_count": null,
      "outputs": []
    },
    {
      "cell_type": "markdown",
      "metadata": {
        "id": "WRZODh9XQPzB"
      },
      "source": [
        "# **4. Indexing a DataFrame**\n",
        "\n",
        "When you index a DataFrame, you're selecting a subset of it in some form or fashion. Note that none of these actions actually modify the dataframe itself by default. If you want to keep the results, you must assign them a new variable, e.g. `new_df = df.iloc[:, 0:3]`. For certain functions, you can add the argument `inplace=True` to modify the dataframe object directly. This same logic applies to most of the functions in this guide, including data cleaning and engineering code. Expand to view examples.\n",
        "\n",
        "<br>\n",
        "\n",
        "---\n",
        "#### **`df.iloc[m:n, i:j]`**\n",
        "* select a subset of rows and columns of the dataframe based on numerical index (rows 0-100, columns 3-6, for example). `m:n` denotes the row indxes and `i:j` denotes the column indexes.\n",
        "---\n",
        "#### **`df[df['column']=='value']`** \n",
        "* filter the dataframe based on a single condition; only rows where the value of 'column' is equal to 'value'\n",
        "---\n",
        "#### **`df[(df['col1']=='value') & (df['col2']>20)]`** \n",
        "* filter the dataframe based on multiple conditions; only rows where the value of 'col1' is equal to 'value' and the value of 'col2' is greater than 20. Operator options are AND (`&`), OR (`|`).\n",
        "---\n",
        "#### **`df['col1']`**, **`df['col1'].tolist()`**, **`df['col1'].values()`**\n",
        "* Select a single column from a dataframe in series, list, or numpy array form.\n",
        "---\n",
        "#### **`df[['col1', 'col2']]`**\n",
        "* select a subset of columns by name\n",
        "---\n",
        "#### **`df.drop(['col1', 'col2'], axis=1)`**\n",
        "* drops certain columns from the dataframe\n",
        "---\n",
        "#### **`for index, row in df.iterrows():`**\n",
        "* iterates through the rows of a dataframe like a normal `for` loop; this is relatively slow + inefficient though, and generally isn't recommended as best practice. \n",
        "\n",
        "<br>\n",
        "\n",
        "### Common Filter Expressions\n",
        "* `df['string_col'].str.contains('substring')`\n",
        "* `df['col'].isin(['option1', 'option2'])`\n",
        "\n",
        "<br>\n"
      ]
    },
    {
      "cell_type": "code",
      "metadata": {
        "colab": {
          "base_uri": "https://localhost:8080/",
          "height": 423
        },
        "id": "WeV8lYB2POYK",
        "outputId": "064dd996-68f2-4373-d765-6ad625e97d13"
      },
      "source": [
        "# select all rows and only the first three columns (indexes of 0, 1, 2)\n",
        "df.iloc[:, 0:3]"
      ],
      "execution_count": null,
      "outputs": [
        {
          "output_type": "execute_result",
          "data": {
            "text/html": [
              "<div>\n",
              "<style scoped>\n",
              "    .dataframe tbody tr th:only-of-type {\n",
              "        vertical-align: middle;\n",
              "    }\n",
              "\n",
              "    .dataframe tbody tr th {\n",
              "        vertical-align: top;\n",
              "    }\n",
              "\n",
              "    .dataframe thead th {\n",
              "        text-align: right;\n",
              "    }\n",
              "</style>\n",
              "<table border=\"1\" class=\"dataframe\">\n",
              "  <thead>\n",
              "    <tr style=\"text-align: right;\">\n",
              "      <th></th>\n",
              "      <th>total_bill</th>\n",
              "      <th>tip</th>\n",
              "      <th>sex</th>\n",
              "    </tr>\n",
              "  </thead>\n",
              "  <tbody>\n",
              "    <tr>\n",
              "      <th>0</th>\n",
              "      <td>16.99</td>\n",
              "      <td>1.01</td>\n",
              "      <td>Female</td>\n",
              "    </tr>\n",
              "    <tr>\n",
              "      <th>1</th>\n",
              "      <td>10.34</td>\n",
              "      <td>1.66</td>\n",
              "      <td>Male</td>\n",
              "    </tr>\n",
              "    <tr>\n",
              "      <th>2</th>\n",
              "      <td>21.01</td>\n",
              "      <td>3.50</td>\n",
              "      <td>Male</td>\n",
              "    </tr>\n",
              "    <tr>\n",
              "      <th>3</th>\n",
              "      <td>23.68</td>\n",
              "      <td>3.31</td>\n",
              "      <td>Male</td>\n",
              "    </tr>\n",
              "    <tr>\n",
              "      <th>4</th>\n",
              "      <td>24.59</td>\n",
              "      <td>3.61</td>\n",
              "      <td>Female</td>\n",
              "    </tr>\n",
              "    <tr>\n",
              "      <th>...</th>\n",
              "      <td>...</td>\n",
              "      <td>...</td>\n",
              "      <td>...</td>\n",
              "    </tr>\n",
              "    <tr>\n",
              "      <th>239</th>\n",
              "      <td>29.03</td>\n",
              "      <td>5.92</td>\n",
              "      <td>Male</td>\n",
              "    </tr>\n",
              "    <tr>\n",
              "      <th>240</th>\n",
              "      <td>NaN</td>\n",
              "      <td>NaN</td>\n",
              "      <td>Female</td>\n",
              "    </tr>\n",
              "    <tr>\n",
              "      <th>241</th>\n",
              "      <td>NaN</td>\n",
              "      <td>NaN</td>\n",
              "      <td>Male</td>\n",
              "    </tr>\n",
              "    <tr>\n",
              "      <th>242</th>\n",
              "      <td>17.82</td>\n",
              "      <td>1.75</td>\n",
              "      <td>Male</td>\n",
              "    </tr>\n",
              "    <tr>\n",
              "      <th>243</th>\n",
              "      <td>18.78</td>\n",
              "      <td>3.00</td>\n",
              "      <td>Female</td>\n",
              "    </tr>\n",
              "  </tbody>\n",
              "</table>\n",
              "<p>244 rows × 3 columns</p>\n",
              "</div>"
            ],
            "text/plain": [
              "     total_bill   tip     sex\n",
              "0         16.99  1.01  Female\n",
              "1         10.34  1.66    Male\n",
              "2         21.01  3.50    Male\n",
              "3         23.68  3.31    Male\n",
              "4         24.59  3.61  Female\n",
              "..          ...   ...     ...\n",
              "239       29.03  5.92    Male\n",
              "240         NaN   NaN  Female\n",
              "241         NaN   NaN    Male\n",
              "242       17.82  1.75    Male\n",
              "243       18.78  3.00  Female\n",
              "\n",
              "[244 rows x 3 columns]"
            ]
          },
          "metadata": {},
          "execution_count": 66
        }
      ]
    },
    {
      "cell_type": "code",
      "metadata": {
        "colab": {
          "base_uri": "https://localhost:8080/",
          "height": 423
        },
        "id": "z8dcfV6gS_q2",
        "outputId": "fd0fc857-8b29-4dd7-b3f1-dcf5c7425d73"
      },
      "source": [
        "# select all rows, columns 1 and 3-5 (6 not included)\n",
        "df.iloc[:, np.r_[1, 3:6]]"
      ],
      "execution_count": null,
      "outputs": [
        {
          "output_type": "execute_result",
          "data": {
            "text/html": [
              "<div>\n",
              "<style scoped>\n",
              "    .dataframe tbody tr th:only-of-type {\n",
              "        vertical-align: middle;\n",
              "    }\n",
              "\n",
              "    .dataframe tbody tr th {\n",
              "        vertical-align: top;\n",
              "    }\n",
              "\n",
              "    .dataframe thead th {\n",
              "        text-align: right;\n",
              "    }\n",
              "</style>\n",
              "<table border=\"1\" class=\"dataframe\">\n",
              "  <thead>\n",
              "    <tr style=\"text-align: right;\">\n",
              "      <th></th>\n",
              "      <th>tip</th>\n",
              "      <th>smoker</th>\n",
              "      <th>day</th>\n",
              "      <th>time</th>\n",
              "    </tr>\n",
              "  </thead>\n",
              "  <tbody>\n",
              "    <tr>\n",
              "      <th>0</th>\n",
              "      <td>1.01</td>\n",
              "      <td>No</td>\n",
              "      <td>sun</td>\n",
              "      <td>Dinner</td>\n",
              "    </tr>\n",
              "    <tr>\n",
              "      <th>1</th>\n",
              "      <td>1.66</td>\n",
              "      <td>No</td>\n",
              "      <td>sun</td>\n",
              "      <td>Dinner</td>\n",
              "    </tr>\n",
              "    <tr>\n",
              "      <th>2</th>\n",
              "      <td>3.50</td>\n",
              "      <td>No</td>\n",
              "      <td>sun</td>\n",
              "      <td>Dinner</td>\n",
              "    </tr>\n",
              "    <tr>\n",
              "      <th>3</th>\n",
              "      <td>3.31</td>\n",
              "      <td>No</td>\n",
              "      <td>sun</td>\n",
              "      <td>Dinner</td>\n",
              "    </tr>\n",
              "    <tr>\n",
              "      <th>4</th>\n",
              "      <td>3.61</td>\n",
              "      <td>No</td>\n",
              "      <td>sun</td>\n",
              "      <td>Dinner</td>\n",
              "    </tr>\n",
              "    <tr>\n",
              "      <th>...</th>\n",
              "      <td>...</td>\n",
              "      <td>...</td>\n",
              "      <td>...</td>\n",
              "      <td>...</td>\n",
              "    </tr>\n",
              "    <tr>\n",
              "      <th>239</th>\n",
              "      <td>5.92</td>\n",
              "      <td>No</td>\n",
              "      <td>Sat</td>\n",
              "      <td>Dinner</td>\n",
              "    </tr>\n",
              "    <tr>\n",
              "      <th>240</th>\n",
              "      <td>NaN</td>\n",
              "      <td>Yes</td>\n",
              "      <td>Sat</td>\n",
              "      <td>Dinner</td>\n",
              "    </tr>\n",
              "    <tr>\n",
              "      <th>241</th>\n",
              "      <td>NaN</td>\n",
              "      <td>Yes</td>\n",
              "      <td>Sat</td>\n",
              "      <td>Dinner</td>\n",
              "    </tr>\n",
              "    <tr>\n",
              "      <th>242</th>\n",
              "      <td>1.75</td>\n",
              "      <td>No</td>\n",
              "      <td>Sat</td>\n",
              "      <td>Dinner</td>\n",
              "    </tr>\n",
              "    <tr>\n",
              "      <th>243</th>\n",
              "      <td>3.00</td>\n",
              "      <td>No</td>\n",
              "      <td>Thur</td>\n",
              "      <td>Dinner</td>\n",
              "    </tr>\n",
              "  </tbody>\n",
              "</table>\n",
              "<p>244 rows × 4 columns</p>\n",
              "</div>"
            ],
            "text/plain": [
              "      tip smoker   day    time\n",
              "0    1.01     No   sun  Dinner\n",
              "1    1.66     No   sun  Dinner\n",
              "2    3.50     No   sun  Dinner\n",
              "3    3.31     No   sun  Dinner\n",
              "4    3.61     No   sun  Dinner\n",
              "..    ...    ...   ...     ...\n",
              "239  5.92     No   Sat  Dinner\n",
              "240   NaN    Yes   Sat  Dinner\n",
              "241   NaN    Yes   Sat  Dinner\n",
              "242  1.75     No   Sat  Dinner\n",
              "243  3.00     No  Thur  Dinner\n",
              "\n",
              "[244 rows x 4 columns]"
            ]
          },
          "metadata": {},
          "execution_count": 67
        }
      ]
    },
    {
      "cell_type": "code",
      "metadata": {
        "colab": {
          "base_uri": "https://localhost:8080/",
          "height": 206
        },
        "id": "Ubyg8vxOQO-d",
        "outputId": "51a262e6-55da-4e80-9cac-de7bc489ab8c"
      },
      "source": [
        "# select all columns and only rows with indexes 20 through 24 (25 not included)\n",
        "df.iloc[20:25, :]"
      ],
      "execution_count": null,
      "outputs": [
        {
          "output_type": "execute_result",
          "data": {
            "text/html": [
              "<div>\n",
              "<style scoped>\n",
              "    .dataframe tbody tr th:only-of-type {\n",
              "        vertical-align: middle;\n",
              "    }\n",
              "\n",
              "    .dataframe tbody tr th {\n",
              "        vertical-align: top;\n",
              "    }\n",
              "\n",
              "    .dataframe thead th {\n",
              "        text-align: right;\n",
              "    }\n",
              "</style>\n",
              "<table border=\"1\" class=\"dataframe\">\n",
              "  <thead>\n",
              "    <tr style=\"text-align: right;\">\n",
              "      <th></th>\n",
              "      <th>total_bill</th>\n",
              "      <th>tip</th>\n",
              "      <th>sex</th>\n",
              "      <th>smoker</th>\n",
              "      <th>day</th>\n",
              "      <th>time</th>\n",
              "      <th>size</th>\n",
              "      <th>date</th>\n",
              "    </tr>\n",
              "  </thead>\n",
              "  <tbody>\n",
              "    <tr>\n",
              "      <th>20</th>\n",
              "      <td>17.92</td>\n",
              "      <td>4.08</td>\n",
              "      <td>Male</td>\n",
              "      <td>No</td>\n",
              "      <td>Sat</td>\n",
              "      <td>Dinner</td>\n",
              "      <td>2</td>\n",
              "      <td>2021-03-23</td>\n",
              "    </tr>\n",
              "    <tr>\n",
              "      <th>21</th>\n",
              "      <td>20.29</td>\n",
              "      <td>2.75</td>\n",
              "      <td>Female</td>\n",
              "      <td>No</td>\n",
              "      <td>Sat</td>\n",
              "      <td>Dinner</td>\n",
              "      <td>2</td>\n",
              "      <td>2021-03-22</td>\n",
              "    </tr>\n",
              "    <tr>\n",
              "      <th>22</th>\n",
              "      <td>NaN</td>\n",
              "      <td>NaN</td>\n",
              "      <td>Female</td>\n",
              "      <td>No</td>\n",
              "      <td>Sat</td>\n",
              "      <td>Dinner</td>\n",
              "      <td>2</td>\n",
              "      <td>2021-03-18</td>\n",
              "    </tr>\n",
              "    <tr>\n",
              "      <th>23</th>\n",
              "      <td>NaN</td>\n",
              "      <td>NaN</td>\n",
              "      <td>Male</td>\n",
              "      <td>NaN</td>\n",
              "      <td>Sat</td>\n",
              "      <td>Dinner</td>\n",
              "      <td>4</td>\n",
              "      <td>2021-03-17</td>\n",
              "    </tr>\n",
              "    <tr>\n",
              "      <th>24</th>\n",
              "      <td>19.82</td>\n",
              "      <td>3.18</td>\n",
              "      <td>Male</td>\n",
              "      <td>No</td>\n",
              "      <td>Sat</td>\n",
              "      <td>Dinner</td>\n",
              "      <td>2</td>\n",
              "      <td>2021-03-12</td>\n",
              "    </tr>\n",
              "  </tbody>\n",
              "</table>\n",
              "</div>"
            ],
            "text/plain": [
              "    total_bill   tip     sex smoker  day    time size        date\n",
              "20       17.92  4.08    Male     No  Sat  Dinner    2  2021-03-23\n",
              "21       20.29  2.75  Female     No  Sat  Dinner    2  2021-03-22\n",
              "22         NaN   NaN  Female     No  Sat  Dinner    2  2021-03-18\n",
              "23         NaN   NaN    Male    NaN  Sat  Dinner    4  2021-03-17\n",
              "24       19.82  3.18    Male     No  Sat  Dinner    2  2021-03-12"
            ]
          },
          "metadata": {},
          "execution_count": 68
        }
      ]
    },
    {
      "cell_type": "code",
      "metadata": {
        "colab": {
          "base_uri": "https://localhost:8080/",
          "height": 423
        },
        "id": "nCUy5-8XQPGJ",
        "outputId": "9234abf9-f3a1-4e16-aadf-f3d3793c15ca"
      },
      "source": [
        "# filter based on a single condition: sex = Male\n",
        "df[df['sex']=='Male']"
      ],
      "execution_count": null,
      "outputs": [
        {
          "output_type": "execute_result",
          "data": {
            "text/html": [
              "<div>\n",
              "<style scoped>\n",
              "    .dataframe tbody tr th:only-of-type {\n",
              "        vertical-align: middle;\n",
              "    }\n",
              "\n",
              "    .dataframe tbody tr th {\n",
              "        vertical-align: top;\n",
              "    }\n",
              "\n",
              "    .dataframe thead th {\n",
              "        text-align: right;\n",
              "    }\n",
              "</style>\n",
              "<table border=\"1\" class=\"dataframe\">\n",
              "  <thead>\n",
              "    <tr style=\"text-align: right;\">\n",
              "      <th></th>\n",
              "      <th>total_bill</th>\n",
              "      <th>tip</th>\n",
              "      <th>sex</th>\n",
              "      <th>smoker</th>\n",
              "      <th>day</th>\n",
              "      <th>time</th>\n",
              "      <th>size</th>\n",
              "      <th>date</th>\n",
              "    </tr>\n",
              "  </thead>\n",
              "  <tbody>\n",
              "    <tr>\n",
              "      <th>1</th>\n",
              "      <td>10.34</td>\n",
              "      <td>1.66</td>\n",
              "      <td>Male</td>\n",
              "      <td>No</td>\n",
              "      <td>sun</td>\n",
              "      <td>Dinner</td>\n",
              "      <td>3</td>\n",
              "      <td>2021-03-21</td>\n",
              "    </tr>\n",
              "    <tr>\n",
              "      <th>2</th>\n",
              "      <td>21.01</td>\n",
              "      <td>3.50</td>\n",
              "      <td>Male</td>\n",
              "      <td>No</td>\n",
              "      <td>sun</td>\n",
              "      <td>Dinner</td>\n",
              "      <td>3</td>\n",
              "      <td>2021-03-23</td>\n",
              "    </tr>\n",
              "    <tr>\n",
              "      <th>3</th>\n",
              "      <td>23.68</td>\n",
              "      <td>3.31</td>\n",
              "      <td>Male</td>\n",
              "      <td>No</td>\n",
              "      <td>sun</td>\n",
              "      <td>Dinner</td>\n",
              "      <td>2</td>\n",
              "      <td>2021-03-05</td>\n",
              "    </tr>\n",
              "    <tr>\n",
              "      <th>5</th>\n",
              "      <td>NaN</td>\n",
              "      <td>NaN</td>\n",
              "      <td>Male</td>\n",
              "      <td>NaN</td>\n",
              "      <td>sun</td>\n",
              "      <td>Dinner</td>\n",
              "      <td>4</td>\n",
              "      <td>2021-03-18</td>\n",
              "    </tr>\n",
              "    <tr>\n",
              "      <th>6</th>\n",
              "      <td>NaN</td>\n",
              "      <td>NaN</td>\n",
              "      <td>Male</td>\n",
              "      <td>No</td>\n",
              "      <td>sun</td>\n",
              "      <td>Dinner</td>\n",
              "      <td>2</td>\n",
              "      <td>2021-03-02</td>\n",
              "    </tr>\n",
              "    <tr>\n",
              "      <th>...</th>\n",
              "      <td>...</td>\n",
              "      <td>...</td>\n",
              "      <td>...</td>\n",
              "      <td>...</td>\n",
              "      <td>...</td>\n",
              "      <td>...</td>\n",
              "      <td>...</td>\n",
              "      <td>...</td>\n",
              "    </tr>\n",
              "    <tr>\n",
              "      <th>236</th>\n",
              "      <td>12.60</td>\n",
              "      <td>1.00</td>\n",
              "      <td>Male</td>\n",
              "      <td>Yes</td>\n",
              "      <td>Sat</td>\n",
              "      <td>Dinner</td>\n",
              "      <td>2</td>\n",
              "      <td>2021-03-20</td>\n",
              "    </tr>\n",
              "    <tr>\n",
              "      <th>237</th>\n",
              "      <td>NaN</td>\n",
              "      <td>NaN</td>\n",
              "      <td>Male</td>\n",
              "      <td>Yes</td>\n",
              "      <td>Sat</td>\n",
              "      <td>Dinner</td>\n",
              "      <td>2</td>\n",
              "      <td>2021-03-08</td>\n",
              "    </tr>\n",
              "    <tr>\n",
              "      <th>239</th>\n",
              "      <td>29.03</td>\n",
              "      <td>5.92</td>\n",
              "      <td>Male</td>\n",
              "      <td>No</td>\n",
              "      <td>Sat</td>\n",
              "      <td>Dinner</td>\n",
              "      <td>3</td>\n",
              "      <td>2021-03-23</td>\n",
              "    </tr>\n",
              "    <tr>\n",
              "      <th>241</th>\n",
              "      <td>NaN</td>\n",
              "      <td>NaN</td>\n",
              "      <td>Male</td>\n",
              "      <td>Yes</td>\n",
              "      <td>Sat</td>\n",
              "      <td>Dinner</td>\n",
              "      <td>2</td>\n",
              "      <td>2021-03-12</td>\n",
              "    </tr>\n",
              "    <tr>\n",
              "      <th>242</th>\n",
              "      <td>17.82</td>\n",
              "      <td>1.75</td>\n",
              "      <td>Male</td>\n",
              "      <td>No</td>\n",
              "      <td>Sat</td>\n",
              "      <td>Dinner</td>\n",
              "      <td>2</td>\n",
              "      <td>2021-03-11</td>\n",
              "    </tr>\n",
              "  </tbody>\n",
              "</table>\n",
              "<p>157 rows × 8 columns</p>\n",
              "</div>"
            ],
            "text/plain": [
              "     total_bill   tip   sex smoker  day    time size        date\n",
              "1         10.34  1.66  Male     No  sun  Dinner    3  2021-03-21\n",
              "2         21.01  3.50  Male     No  sun  Dinner    3  2021-03-23\n",
              "3         23.68  3.31  Male     No  sun  Dinner    2  2021-03-05\n",
              "5           NaN   NaN  Male    NaN  sun  Dinner    4  2021-03-18\n",
              "6           NaN   NaN  Male     No  sun  Dinner    2  2021-03-02\n",
              "..          ...   ...   ...    ...  ...     ...  ...         ...\n",
              "236       12.60  1.00  Male    Yes  Sat  Dinner    2  2021-03-20\n",
              "237         NaN   NaN  Male    Yes  Sat  Dinner    2  2021-03-08\n",
              "239       29.03  5.92  Male     No  Sat  Dinner    3  2021-03-23\n",
              "241         NaN   NaN  Male    Yes  Sat  Dinner    2  2021-03-12\n",
              "242       17.82  1.75  Male     No  Sat  Dinner    2  2021-03-11\n",
              "\n",
              "[157 rows x 8 columns]"
            ]
          },
          "metadata": {},
          "execution_count": 69
        }
      ]
    },
    {
      "cell_type": "code",
      "metadata": {
        "colab": {
          "base_uri": "https://localhost:8080/",
          "height": 363
        },
        "id": "qNBgegBARNrH",
        "outputId": "8280efc4-03b8-4555-91e3-133ba2a3d407"
      },
      "source": [
        "# filter based on multiple conditons: \n",
        "# sex = Male, total_bill > $25, smoker = 'Yes'\n",
        "df[(df['sex']=='Male') & (df['total_bill']>25) & (df['smoker']=='Yes')]"
      ],
      "execution_count": null,
      "outputs": [
        {
          "output_type": "execute_result",
          "data": {
            "text/html": [
              "<div>\n",
              "<style scoped>\n",
              "    .dataframe tbody tr th:only-of-type {\n",
              "        vertical-align: middle;\n",
              "    }\n",
              "\n",
              "    .dataframe tbody tr th {\n",
              "        vertical-align: top;\n",
              "    }\n",
              "\n",
              "    .dataframe thead th {\n",
              "        text-align: right;\n",
              "    }\n",
              "</style>\n",
              "<table border=\"1\" class=\"dataframe\">\n",
              "  <thead>\n",
              "    <tr style=\"text-align: right;\">\n",
              "      <th></th>\n",
              "      <th>total_bill</th>\n",
              "      <th>tip</th>\n",
              "      <th>sex</th>\n",
              "      <th>smoker</th>\n",
              "      <th>day</th>\n",
              "      <th>time</th>\n",
              "      <th>size</th>\n",
              "      <th>date</th>\n",
              "    </tr>\n",
              "  </thead>\n",
              "  <tbody>\n",
              "    <tr>\n",
              "      <th>56</th>\n",
              "      <td>38.01</td>\n",
              "      <td>3.00</td>\n",
              "      <td>Male</td>\n",
              "      <td>Yes</td>\n",
              "      <td>Sat</td>\n",
              "      <td>Dinner</td>\n",
              "      <td>4</td>\n",
              "      <td>2021-03-01</td>\n",
              "    </tr>\n",
              "    <tr>\n",
              "      <th>83</th>\n",
              "      <td>32.68</td>\n",
              "      <td>5.00</td>\n",
              "      <td>Male</td>\n",
              "      <td>Yes</td>\n",
              "      <td>Thur</td>\n",
              "      <td>Lunch</td>\n",
              "      <td>2</td>\n",
              "      <td>2021-03-10</td>\n",
              "    </tr>\n",
              "    <tr>\n",
              "      <th>90</th>\n",
              "      <td>28.97</td>\n",
              "      <td>3.00</td>\n",
              "      <td>Male</td>\n",
              "      <td>Yes</td>\n",
              "      <td>Fri</td>\n",
              "      <td>Dinner</td>\n",
              "      <td>2</td>\n",
              "      <td>2021-03-25</td>\n",
              "    </tr>\n",
              "    <tr>\n",
              "      <th>175</th>\n",
              "      <td>32.90</td>\n",
              "      <td>3.11</td>\n",
              "      <td>Male</td>\n",
              "      <td>Yes</td>\n",
              "      <td>sun</td>\n",
              "      <td>Dinner</td>\n",
              "      <td>2</td>\n",
              "      <td>2021-03-07</td>\n",
              "    </tr>\n",
              "    <tr>\n",
              "      <th>179</th>\n",
              "      <td>34.63</td>\n",
              "      <td>3.55</td>\n",
              "      <td>Male</td>\n",
              "      <td>Yes</td>\n",
              "      <td>sun</td>\n",
              "      <td>Dinner</td>\n",
              "      <td>2</td>\n",
              "      <td>2021-03-12</td>\n",
              "    </tr>\n",
              "    <tr>\n",
              "      <th>180</th>\n",
              "      <td>34.65</td>\n",
              "      <td>3.68</td>\n",
              "      <td>Male</td>\n",
              "      <td>Yes</td>\n",
              "      <td>sun</td>\n",
              "      <td>Dinner</td>\n",
              "      <td>4</td>\n",
              "      <td>2021-03-18</td>\n",
              "    </tr>\n",
              "    <tr>\n",
              "      <th>182</th>\n",
              "      <td>45.35</td>\n",
              "      <td>3.50</td>\n",
              "      <td>Male</td>\n",
              "      <td>Yes</td>\n",
              "      <td>sun</td>\n",
              "      <td>Dinner</td>\n",
              "      <td>3</td>\n",
              "      <td>2021-03-05</td>\n",
              "    </tr>\n",
              "    <tr>\n",
              "      <th>187</th>\n",
              "      <td>30.46</td>\n",
              "      <td>2.00</td>\n",
              "      <td>Male</td>\n",
              "      <td>Yes</td>\n",
              "      <td>sun</td>\n",
              "      <td>Dinner</td>\n",
              "      <td>5</td>\n",
              "      <td>2021-03-05</td>\n",
              "    </tr>\n",
              "    <tr>\n",
              "      <th>192</th>\n",
              "      <td>28.44</td>\n",
              "      <td>2.56</td>\n",
              "      <td>Male</td>\n",
              "      <td>Yes</td>\n",
              "      <td>Thur</td>\n",
              "      <td>Lunch</td>\n",
              "      <td>2</td>\n",
              "      <td>2021-03-03</td>\n",
              "    </tr>\n",
              "    <tr>\n",
              "      <th>206</th>\n",
              "      <td>26.59</td>\n",
              "      <td>3.41</td>\n",
              "      <td>Male</td>\n",
              "      <td>Yes</td>\n",
              "      <td>Sat</td>\n",
              "      <td>Dinner</td>\n",
              "      <td>3</td>\n",
              "      <td>2021-03-09</td>\n",
              "    </tr>\n",
              "  </tbody>\n",
              "</table>\n",
              "</div>"
            ],
            "text/plain": [
              "     total_bill   tip   sex smoker   day    time size        date\n",
              "56        38.01  3.00  Male    Yes   Sat  Dinner    4  2021-03-01\n",
              "83        32.68  5.00  Male    Yes  Thur   Lunch    2  2021-03-10\n",
              "90        28.97  3.00  Male    Yes   Fri  Dinner    2  2021-03-25\n",
              "175       32.90  3.11  Male    Yes   sun  Dinner    2  2021-03-07\n",
              "179       34.63  3.55  Male    Yes   sun  Dinner    2  2021-03-12\n",
              "180       34.65  3.68  Male    Yes   sun  Dinner    4  2021-03-18\n",
              "182       45.35  3.50  Male    Yes   sun  Dinner    3  2021-03-05\n",
              "187       30.46  2.00  Male    Yes   sun  Dinner    5  2021-03-05\n",
              "192       28.44  2.56  Male    Yes  Thur   Lunch    2  2021-03-03\n",
              "206       26.59  3.41  Male    Yes   Sat  Dinner    3  2021-03-09"
            ]
          },
          "metadata": {},
          "execution_count": 70
        }
      ]
    },
    {
      "cell_type": "code",
      "metadata": {
        "colab": {
          "base_uri": "https://localhost:8080/",
          "height": 423
        },
        "id": "7hCiN-RmXZ87",
        "outputId": "5b0ef48e-b06e-4ddc-b8d3-ca16b703285a"
      },
      "source": [
        "# filter based on multiple conditons with an OR clause: \n",
        "# sex = Male OR total_bill > $25\n",
        "df[(df['sex']=='Male') | (df['total_bill']>25)]"
      ],
      "execution_count": null,
      "outputs": [
        {
          "output_type": "execute_result",
          "data": {
            "text/html": [
              "<div>\n",
              "<style scoped>\n",
              "    .dataframe tbody tr th:only-of-type {\n",
              "        vertical-align: middle;\n",
              "    }\n",
              "\n",
              "    .dataframe tbody tr th {\n",
              "        vertical-align: top;\n",
              "    }\n",
              "\n",
              "    .dataframe thead th {\n",
              "        text-align: right;\n",
              "    }\n",
              "</style>\n",
              "<table border=\"1\" class=\"dataframe\">\n",
              "  <thead>\n",
              "    <tr style=\"text-align: right;\">\n",
              "      <th></th>\n",
              "      <th>total_bill</th>\n",
              "      <th>tip</th>\n",
              "      <th>sex</th>\n",
              "      <th>smoker</th>\n",
              "      <th>day</th>\n",
              "      <th>time</th>\n",
              "      <th>size</th>\n",
              "      <th>date</th>\n",
              "    </tr>\n",
              "  </thead>\n",
              "  <tbody>\n",
              "    <tr>\n",
              "      <th>1</th>\n",
              "      <td>10.34</td>\n",
              "      <td>1.66</td>\n",
              "      <td>Male</td>\n",
              "      <td>No</td>\n",
              "      <td>sun</td>\n",
              "      <td>Dinner</td>\n",
              "      <td>3</td>\n",
              "      <td>2021-03-21</td>\n",
              "    </tr>\n",
              "    <tr>\n",
              "      <th>2</th>\n",
              "      <td>21.01</td>\n",
              "      <td>3.50</td>\n",
              "      <td>Male</td>\n",
              "      <td>No</td>\n",
              "      <td>sun</td>\n",
              "      <td>Dinner</td>\n",
              "      <td>3</td>\n",
              "      <td>2021-03-23</td>\n",
              "    </tr>\n",
              "    <tr>\n",
              "      <th>3</th>\n",
              "      <td>23.68</td>\n",
              "      <td>3.31</td>\n",
              "      <td>Male</td>\n",
              "      <td>No</td>\n",
              "      <td>sun</td>\n",
              "      <td>Dinner</td>\n",
              "      <td>2</td>\n",
              "      <td>2021-03-05</td>\n",
              "    </tr>\n",
              "    <tr>\n",
              "      <th>5</th>\n",
              "      <td>NaN</td>\n",
              "      <td>NaN</td>\n",
              "      <td>Male</td>\n",
              "      <td>NaN</td>\n",
              "      <td>sun</td>\n",
              "      <td>Dinner</td>\n",
              "      <td>4</td>\n",
              "      <td>2021-03-18</td>\n",
              "    </tr>\n",
              "    <tr>\n",
              "      <th>6</th>\n",
              "      <td>NaN</td>\n",
              "      <td>NaN</td>\n",
              "      <td>Male</td>\n",
              "      <td>No</td>\n",
              "      <td>sun</td>\n",
              "      <td>Dinner</td>\n",
              "      <td>2</td>\n",
              "      <td>2021-03-02</td>\n",
              "    </tr>\n",
              "    <tr>\n",
              "      <th>...</th>\n",
              "      <td>...</td>\n",
              "      <td>...</td>\n",
              "      <td>...</td>\n",
              "      <td>...</td>\n",
              "      <td>...</td>\n",
              "      <td>...</td>\n",
              "      <td>...</td>\n",
              "      <td>...</td>\n",
              "    </tr>\n",
              "    <tr>\n",
              "      <th>237</th>\n",
              "      <td>NaN</td>\n",
              "      <td>NaN</td>\n",
              "      <td>Male</td>\n",
              "      <td>Yes</td>\n",
              "      <td>Sat</td>\n",
              "      <td>Dinner</td>\n",
              "      <td>2</td>\n",
              "      <td>2021-03-08</td>\n",
              "    </tr>\n",
              "    <tr>\n",
              "      <th>238</th>\n",
              "      <td>35.83</td>\n",
              "      <td>4.67</td>\n",
              "      <td>Female</td>\n",
              "      <td>NaN</td>\n",
              "      <td>Sat</td>\n",
              "      <td>Dinner</td>\n",
              "      <td>3</td>\n",
              "      <td>2021-03-02</td>\n",
              "    </tr>\n",
              "    <tr>\n",
              "      <th>239</th>\n",
              "      <td>29.03</td>\n",
              "      <td>5.92</td>\n",
              "      <td>Male</td>\n",
              "      <td>No</td>\n",
              "      <td>Sat</td>\n",
              "      <td>Dinner</td>\n",
              "      <td>3</td>\n",
              "      <td>2021-03-23</td>\n",
              "    </tr>\n",
              "    <tr>\n",
              "      <th>241</th>\n",
              "      <td>NaN</td>\n",
              "      <td>NaN</td>\n",
              "      <td>Male</td>\n",
              "      <td>Yes</td>\n",
              "      <td>Sat</td>\n",
              "      <td>Dinner</td>\n",
              "      <td>2</td>\n",
              "      <td>2021-03-12</td>\n",
              "    </tr>\n",
              "    <tr>\n",
              "      <th>242</th>\n",
              "      <td>17.82</td>\n",
              "      <td>1.75</td>\n",
              "      <td>Male</td>\n",
              "      <td>No</td>\n",
              "      <td>Sat</td>\n",
              "      <td>Dinner</td>\n",
              "      <td>2</td>\n",
              "      <td>2021-03-11</td>\n",
              "    </tr>\n",
              "  </tbody>\n",
              "</table>\n",
              "<p>169 rows × 8 columns</p>\n",
              "</div>"
            ],
            "text/plain": [
              "     total_bill   tip     sex smoker  day    time size        date\n",
              "1         10.34  1.66    Male     No  sun  Dinner    3  2021-03-21\n",
              "2         21.01  3.50    Male     No  sun  Dinner    3  2021-03-23\n",
              "3         23.68  3.31    Male     No  sun  Dinner    2  2021-03-05\n",
              "5           NaN   NaN    Male    NaN  sun  Dinner    4  2021-03-18\n",
              "6           NaN   NaN    Male     No  sun  Dinner    2  2021-03-02\n",
              "..          ...   ...     ...    ...  ...     ...  ...         ...\n",
              "237         NaN   NaN    Male    Yes  Sat  Dinner    2  2021-03-08\n",
              "238       35.83  4.67  Female    NaN  Sat  Dinner    3  2021-03-02\n",
              "239       29.03  5.92    Male     No  Sat  Dinner    3  2021-03-23\n",
              "241         NaN   NaN    Male    Yes  Sat  Dinner    2  2021-03-12\n",
              "242       17.82  1.75    Male     No  Sat  Dinner    2  2021-03-11\n",
              "\n",
              "[169 rows x 8 columns]"
            ]
          },
          "metadata": {},
          "execution_count": 71
        }
      ]
    },
    {
      "cell_type": "code",
      "metadata": {
        "colab": {
          "base_uri": "https://localhost:8080/",
          "height": 423
        },
        "id": "L7zG_6isrjk9",
        "outputId": "1620991d-f97e-49e3-d1c9-86c108429080"
      },
      "source": [
        "# filter based on a column containing a substring\n",
        "df[(df['time'].str.contains('inne'))]"
      ],
      "execution_count": null,
      "outputs": [
        {
          "output_type": "execute_result",
          "data": {
            "text/html": [
              "<div>\n",
              "<style scoped>\n",
              "    .dataframe tbody tr th:only-of-type {\n",
              "        vertical-align: middle;\n",
              "    }\n",
              "\n",
              "    .dataframe tbody tr th {\n",
              "        vertical-align: top;\n",
              "    }\n",
              "\n",
              "    .dataframe thead th {\n",
              "        text-align: right;\n",
              "    }\n",
              "</style>\n",
              "<table border=\"1\" class=\"dataframe\">\n",
              "  <thead>\n",
              "    <tr style=\"text-align: right;\">\n",
              "      <th></th>\n",
              "      <th>total_bill</th>\n",
              "      <th>tip</th>\n",
              "      <th>sex</th>\n",
              "      <th>smoker</th>\n",
              "      <th>day</th>\n",
              "      <th>time</th>\n",
              "      <th>size</th>\n",
              "      <th>date</th>\n",
              "    </tr>\n",
              "  </thead>\n",
              "  <tbody>\n",
              "    <tr>\n",
              "      <th>0</th>\n",
              "      <td>16.99</td>\n",
              "      <td>1.01</td>\n",
              "      <td>Female</td>\n",
              "      <td>No</td>\n",
              "      <td>sun</td>\n",
              "      <td>Dinner</td>\n",
              "      <td>2</td>\n",
              "      <td>2021-03-01</td>\n",
              "    </tr>\n",
              "    <tr>\n",
              "      <th>1</th>\n",
              "      <td>10.34</td>\n",
              "      <td>1.66</td>\n",
              "      <td>Male</td>\n",
              "      <td>No</td>\n",
              "      <td>sun</td>\n",
              "      <td>Dinner</td>\n",
              "      <td>3</td>\n",
              "      <td>2021-03-21</td>\n",
              "    </tr>\n",
              "    <tr>\n",
              "      <th>2</th>\n",
              "      <td>21.01</td>\n",
              "      <td>3.50</td>\n",
              "      <td>Male</td>\n",
              "      <td>No</td>\n",
              "      <td>sun</td>\n",
              "      <td>Dinner</td>\n",
              "      <td>3</td>\n",
              "      <td>2021-03-23</td>\n",
              "    </tr>\n",
              "    <tr>\n",
              "      <th>3</th>\n",
              "      <td>23.68</td>\n",
              "      <td>3.31</td>\n",
              "      <td>Male</td>\n",
              "      <td>No</td>\n",
              "      <td>sun</td>\n",
              "      <td>Dinner</td>\n",
              "      <td>2</td>\n",
              "      <td>2021-03-05</td>\n",
              "    </tr>\n",
              "    <tr>\n",
              "      <th>4</th>\n",
              "      <td>24.59</td>\n",
              "      <td>3.61</td>\n",
              "      <td>Female</td>\n",
              "      <td>No</td>\n",
              "      <td>sun</td>\n",
              "      <td>Dinner</td>\n",
              "      <td>4</td>\n",
              "      <td>2021-03-15</td>\n",
              "    </tr>\n",
              "    <tr>\n",
              "      <th>...</th>\n",
              "      <td>...</td>\n",
              "      <td>...</td>\n",
              "      <td>...</td>\n",
              "      <td>...</td>\n",
              "      <td>...</td>\n",
              "      <td>...</td>\n",
              "      <td>...</td>\n",
              "      <td>...</td>\n",
              "    </tr>\n",
              "    <tr>\n",
              "      <th>239</th>\n",
              "      <td>29.03</td>\n",
              "      <td>5.92</td>\n",
              "      <td>Male</td>\n",
              "      <td>No</td>\n",
              "      <td>Sat</td>\n",
              "      <td>Dinner</td>\n",
              "      <td>3</td>\n",
              "      <td>2021-03-23</td>\n",
              "    </tr>\n",
              "    <tr>\n",
              "      <th>240</th>\n",
              "      <td>NaN</td>\n",
              "      <td>NaN</td>\n",
              "      <td>Female</td>\n",
              "      <td>Yes</td>\n",
              "      <td>Sat</td>\n",
              "      <td>Dinner</td>\n",
              "      <td>2</td>\n",
              "      <td>2021-03-20</td>\n",
              "    </tr>\n",
              "    <tr>\n",
              "      <th>241</th>\n",
              "      <td>NaN</td>\n",
              "      <td>NaN</td>\n",
              "      <td>Male</td>\n",
              "      <td>Yes</td>\n",
              "      <td>Sat</td>\n",
              "      <td>Dinner</td>\n",
              "      <td>2</td>\n",
              "      <td>2021-03-12</td>\n",
              "    </tr>\n",
              "    <tr>\n",
              "      <th>242</th>\n",
              "      <td>17.82</td>\n",
              "      <td>1.75</td>\n",
              "      <td>Male</td>\n",
              "      <td>No</td>\n",
              "      <td>Sat</td>\n",
              "      <td>Dinner</td>\n",
              "      <td>2</td>\n",
              "      <td>2021-03-11</td>\n",
              "    </tr>\n",
              "    <tr>\n",
              "      <th>243</th>\n",
              "      <td>18.78</td>\n",
              "      <td>3.00</td>\n",
              "      <td>Female</td>\n",
              "      <td>No</td>\n",
              "      <td>Thur</td>\n",
              "      <td>Dinner</td>\n",
              "      <td>2</td>\n",
              "      <td>2021-03-03</td>\n",
              "    </tr>\n",
              "  </tbody>\n",
              "</table>\n",
              "<p>176 rows × 8 columns</p>\n",
              "</div>"
            ],
            "text/plain": [
              "     total_bill   tip     sex smoker   day    time size        date\n",
              "0         16.99  1.01  Female     No   sun  Dinner    2  2021-03-01\n",
              "1         10.34  1.66    Male     No   sun  Dinner    3  2021-03-21\n",
              "2         21.01  3.50    Male     No   sun  Dinner    3  2021-03-23\n",
              "3         23.68  3.31    Male     No   sun  Dinner    2  2021-03-05\n",
              "4         24.59  3.61  Female     No   sun  Dinner    4  2021-03-15\n",
              "..          ...   ...     ...    ...   ...     ...  ...         ...\n",
              "239       29.03  5.92    Male     No   Sat  Dinner    3  2021-03-23\n",
              "240         NaN   NaN  Female    Yes   Sat  Dinner    2  2021-03-20\n",
              "241         NaN   NaN    Male    Yes   Sat  Dinner    2  2021-03-12\n",
              "242       17.82  1.75    Male     No   Sat  Dinner    2  2021-03-11\n",
              "243       18.78  3.00  Female     No  Thur  Dinner    2  2021-03-03\n",
              "\n",
              "[176 rows x 8 columns]"
            ]
          },
          "metadata": {},
          "execution_count": 72
        }
      ]
    },
    {
      "cell_type": "code",
      "metadata": {
        "colab": {
          "base_uri": "https://localhost:8080/",
          "height": 423
        },
        "id": "hdsWl2NoCAOR",
        "outputId": "f9181ed4-2d67-450a-e3c4-b448e1693c1a"
      },
      "source": [
        "# select a smaller subset of columns\n",
        "df[['date', 'total_bill']]"
      ],
      "execution_count": null,
      "outputs": [
        {
          "output_type": "execute_result",
          "data": {
            "text/html": [
              "<div>\n",
              "<style scoped>\n",
              "    .dataframe tbody tr th:only-of-type {\n",
              "        vertical-align: middle;\n",
              "    }\n",
              "\n",
              "    .dataframe tbody tr th {\n",
              "        vertical-align: top;\n",
              "    }\n",
              "\n",
              "    .dataframe thead th {\n",
              "        text-align: right;\n",
              "    }\n",
              "</style>\n",
              "<table border=\"1\" class=\"dataframe\">\n",
              "  <thead>\n",
              "    <tr style=\"text-align: right;\">\n",
              "      <th></th>\n",
              "      <th>date</th>\n",
              "      <th>total_bill</th>\n",
              "    </tr>\n",
              "  </thead>\n",
              "  <tbody>\n",
              "    <tr>\n",
              "      <th>0</th>\n",
              "      <td>2021-03-01</td>\n",
              "      <td>16.99</td>\n",
              "    </tr>\n",
              "    <tr>\n",
              "      <th>1</th>\n",
              "      <td>2021-03-21</td>\n",
              "      <td>10.34</td>\n",
              "    </tr>\n",
              "    <tr>\n",
              "      <th>2</th>\n",
              "      <td>2021-03-23</td>\n",
              "      <td>21.01</td>\n",
              "    </tr>\n",
              "    <tr>\n",
              "      <th>3</th>\n",
              "      <td>2021-03-05</td>\n",
              "      <td>23.68</td>\n",
              "    </tr>\n",
              "    <tr>\n",
              "      <th>4</th>\n",
              "      <td>2021-03-15</td>\n",
              "      <td>24.59</td>\n",
              "    </tr>\n",
              "    <tr>\n",
              "      <th>...</th>\n",
              "      <td>...</td>\n",
              "      <td>...</td>\n",
              "    </tr>\n",
              "    <tr>\n",
              "      <th>239</th>\n",
              "      <td>2021-03-23</td>\n",
              "      <td>29.03</td>\n",
              "    </tr>\n",
              "    <tr>\n",
              "      <th>240</th>\n",
              "      <td>2021-03-20</td>\n",
              "      <td>NaN</td>\n",
              "    </tr>\n",
              "    <tr>\n",
              "      <th>241</th>\n",
              "      <td>2021-03-12</td>\n",
              "      <td>NaN</td>\n",
              "    </tr>\n",
              "    <tr>\n",
              "      <th>242</th>\n",
              "      <td>2021-03-11</td>\n",
              "      <td>17.82</td>\n",
              "    </tr>\n",
              "    <tr>\n",
              "      <th>243</th>\n",
              "      <td>2021-03-03</td>\n",
              "      <td>18.78</td>\n",
              "    </tr>\n",
              "  </tbody>\n",
              "</table>\n",
              "<p>244 rows × 2 columns</p>\n",
              "</div>"
            ],
            "text/plain": [
              "           date  total_bill\n",
              "0    2021-03-01       16.99\n",
              "1    2021-03-21       10.34\n",
              "2    2021-03-23       21.01\n",
              "3    2021-03-05       23.68\n",
              "4    2021-03-15       24.59\n",
              "..          ...         ...\n",
              "239  2021-03-23       29.03\n",
              "240  2021-03-20         NaN\n",
              "241  2021-03-12         NaN\n",
              "242  2021-03-11       17.82\n",
              "243  2021-03-03       18.78\n",
              "\n",
              "[244 rows x 2 columns]"
            ]
          },
          "metadata": {},
          "execution_count": 73
        }
      ]
    },
    {
      "cell_type": "code",
      "metadata": {
        "colab": {
          "base_uri": "https://localhost:8080/",
          "height": 423
        },
        "id": "NVjPN8wETwI8",
        "outputId": "bfeed1ac-6c6a-4089-cb9d-9a0884237978"
      },
      "source": [
        "# can also be done using the df.columns list so that it's stored in a varable\n",
        "cols = list(df.columns)\n",
        "cols.remove('date')\n",
        "df[cols]"
      ],
      "execution_count": null,
      "outputs": [
        {
          "output_type": "execute_result",
          "data": {
            "text/html": [
              "<div>\n",
              "<style scoped>\n",
              "    .dataframe tbody tr th:only-of-type {\n",
              "        vertical-align: middle;\n",
              "    }\n",
              "\n",
              "    .dataframe tbody tr th {\n",
              "        vertical-align: top;\n",
              "    }\n",
              "\n",
              "    .dataframe thead th {\n",
              "        text-align: right;\n",
              "    }\n",
              "</style>\n",
              "<table border=\"1\" class=\"dataframe\">\n",
              "  <thead>\n",
              "    <tr style=\"text-align: right;\">\n",
              "      <th></th>\n",
              "      <th>total_bill</th>\n",
              "      <th>tip</th>\n",
              "      <th>sex</th>\n",
              "      <th>smoker</th>\n",
              "      <th>day</th>\n",
              "      <th>time</th>\n",
              "      <th>size</th>\n",
              "    </tr>\n",
              "  </thead>\n",
              "  <tbody>\n",
              "    <tr>\n",
              "      <th>0</th>\n",
              "      <td>16.99</td>\n",
              "      <td>1.01</td>\n",
              "      <td>Female</td>\n",
              "      <td>No</td>\n",
              "      <td>sun</td>\n",
              "      <td>Dinner</td>\n",
              "      <td>2</td>\n",
              "    </tr>\n",
              "    <tr>\n",
              "      <th>1</th>\n",
              "      <td>10.34</td>\n",
              "      <td>1.66</td>\n",
              "      <td>Male</td>\n",
              "      <td>No</td>\n",
              "      <td>sun</td>\n",
              "      <td>Dinner</td>\n",
              "      <td>3</td>\n",
              "    </tr>\n",
              "    <tr>\n",
              "      <th>2</th>\n",
              "      <td>21.01</td>\n",
              "      <td>3.50</td>\n",
              "      <td>Male</td>\n",
              "      <td>No</td>\n",
              "      <td>sun</td>\n",
              "      <td>Dinner</td>\n",
              "      <td>3</td>\n",
              "    </tr>\n",
              "    <tr>\n",
              "      <th>3</th>\n",
              "      <td>23.68</td>\n",
              "      <td>3.31</td>\n",
              "      <td>Male</td>\n",
              "      <td>No</td>\n",
              "      <td>sun</td>\n",
              "      <td>Dinner</td>\n",
              "      <td>2</td>\n",
              "    </tr>\n",
              "    <tr>\n",
              "      <th>4</th>\n",
              "      <td>24.59</td>\n",
              "      <td>3.61</td>\n",
              "      <td>Female</td>\n",
              "      <td>No</td>\n",
              "      <td>sun</td>\n",
              "      <td>Dinner</td>\n",
              "      <td>4</td>\n",
              "    </tr>\n",
              "    <tr>\n",
              "      <th>...</th>\n",
              "      <td>...</td>\n",
              "      <td>...</td>\n",
              "      <td>...</td>\n",
              "      <td>...</td>\n",
              "      <td>...</td>\n",
              "      <td>...</td>\n",
              "      <td>...</td>\n",
              "    </tr>\n",
              "    <tr>\n",
              "      <th>239</th>\n",
              "      <td>29.03</td>\n",
              "      <td>5.92</td>\n",
              "      <td>Male</td>\n",
              "      <td>No</td>\n",
              "      <td>Sat</td>\n",
              "      <td>Dinner</td>\n",
              "      <td>3</td>\n",
              "    </tr>\n",
              "    <tr>\n",
              "      <th>240</th>\n",
              "      <td>NaN</td>\n",
              "      <td>NaN</td>\n",
              "      <td>Female</td>\n",
              "      <td>Yes</td>\n",
              "      <td>Sat</td>\n",
              "      <td>Dinner</td>\n",
              "      <td>2</td>\n",
              "    </tr>\n",
              "    <tr>\n",
              "      <th>241</th>\n",
              "      <td>NaN</td>\n",
              "      <td>NaN</td>\n",
              "      <td>Male</td>\n",
              "      <td>Yes</td>\n",
              "      <td>Sat</td>\n",
              "      <td>Dinner</td>\n",
              "      <td>2</td>\n",
              "    </tr>\n",
              "    <tr>\n",
              "      <th>242</th>\n",
              "      <td>17.82</td>\n",
              "      <td>1.75</td>\n",
              "      <td>Male</td>\n",
              "      <td>No</td>\n",
              "      <td>Sat</td>\n",
              "      <td>Dinner</td>\n",
              "      <td>2</td>\n",
              "    </tr>\n",
              "    <tr>\n",
              "      <th>243</th>\n",
              "      <td>18.78</td>\n",
              "      <td>3.00</td>\n",
              "      <td>Female</td>\n",
              "      <td>No</td>\n",
              "      <td>Thur</td>\n",
              "      <td>Dinner</td>\n",
              "      <td>2</td>\n",
              "    </tr>\n",
              "  </tbody>\n",
              "</table>\n",
              "<p>244 rows × 7 columns</p>\n",
              "</div>"
            ],
            "text/plain": [
              "     total_bill   tip     sex smoker   day    time size\n",
              "0         16.99  1.01  Female     No   sun  Dinner    2\n",
              "1         10.34  1.66    Male     No   sun  Dinner    3\n",
              "2         21.01  3.50    Male     No   sun  Dinner    3\n",
              "3         23.68  3.31    Male     No   sun  Dinner    2\n",
              "4         24.59  3.61  Female     No   sun  Dinner    4\n",
              "..          ...   ...     ...    ...   ...     ...  ...\n",
              "239       29.03  5.92    Male     No   Sat  Dinner    3\n",
              "240         NaN   NaN  Female    Yes   Sat  Dinner    2\n",
              "241         NaN   NaN    Male    Yes   Sat  Dinner    2\n",
              "242       17.82  1.75    Male     No   Sat  Dinner    2\n",
              "243       18.78  3.00  Female     No  Thur  Dinner    2\n",
              "\n",
              "[244 rows x 7 columns]"
            ]
          },
          "metadata": {},
          "execution_count": 74
        }
      ]
    },
    {
      "cell_type": "code",
      "metadata": {
        "colab": {
          "base_uri": "https://localhost:8080/",
          "height": 423
        },
        "id": "FwTi2HNuCDmG",
        "outputId": "556c2d8d-c758-472f-aa62-91d0cc192947"
      },
      "source": [
        "# drop columns that you don't want\n",
        "df.drop('sex', axis=1)"
      ],
      "execution_count": null,
      "outputs": [
        {
          "output_type": "execute_result",
          "data": {
            "text/html": [
              "<div>\n",
              "<style scoped>\n",
              "    .dataframe tbody tr th:only-of-type {\n",
              "        vertical-align: middle;\n",
              "    }\n",
              "\n",
              "    .dataframe tbody tr th {\n",
              "        vertical-align: top;\n",
              "    }\n",
              "\n",
              "    .dataframe thead th {\n",
              "        text-align: right;\n",
              "    }\n",
              "</style>\n",
              "<table border=\"1\" class=\"dataframe\">\n",
              "  <thead>\n",
              "    <tr style=\"text-align: right;\">\n",
              "      <th></th>\n",
              "      <th>total_bill</th>\n",
              "      <th>tip</th>\n",
              "      <th>smoker</th>\n",
              "      <th>day</th>\n",
              "      <th>time</th>\n",
              "      <th>size</th>\n",
              "      <th>date</th>\n",
              "    </tr>\n",
              "  </thead>\n",
              "  <tbody>\n",
              "    <tr>\n",
              "      <th>0</th>\n",
              "      <td>16.99</td>\n",
              "      <td>1.01</td>\n",
              "      <td>No</td>\n",
              "      <td>sun</td>\n",
              "      <td>Dinner</td>\n",
              "      <td>2</td>\n",
              "      <td>2021-03-01</td>\n",
              "    </tr>\n",
              "    <tr>\n",
              "      <th>1</th>\n",
              "      <td>10.34</td>\n",
              "      <td>1.66</td>\n",
              "      <td>No</td>\n",
              "      <td>sun</td>\n",
              "      <td>Dinner</td>\n",
              "      <td>3</td>\n",
              "      <td>2021-03-21</td>\n",
              "    </tr>\n",
              "    <tr>\n",
              "      <th>2</th>\n",
              "      <td>21.01</td>\n",
              "      <td>3.50</td>\n",
              "      <td>No</td>\n",
              "      <td>sun</td>\n",
              "      <td>Dinner</td>\n",
              "      <td>3</td>\n",
              "      <td>2021-03-23</td>\n",
              "    </tr>\n",
              "    <tr>\n",
              "      <th>3</th>\n",
              "      <td>23.68</td>\n",
              "      <td>3.31</td>\n",
              "      <td>No</td>\n",
              "      <td>sun</td>\n",
              "      <td>Dinner</td>\n",
              "      <td>2</td>\n",
              "      <td>2021-03-05</td>\n",
              "    </tr>\n",
              "    <tr>\n",
              "      <th>4</th>\n",
              "      <td>24.59</td>\n",
              "      <td>3.61</td>\n",
              "      <td>No</td>\n",
              "      <td>sun</td>\n",
              "      <td>Dinner</td>\n",
              "      <td>4</td>\n",
              "      <td>2021-03-15</td>\n",
              "    </tr>\n",
              "    <tr>\n",
              "      <th>...</th>\n",
              "      <td>...</td>\n",
              "      <td>...</td>\n",
              "      <td>...</td>\n",
              "      <td>...</td>\n",
              "      <td>...</td>\n",
              "      <td>...</td>\n",
              "      <td>...</td>\n",
              "    </tr>\n",
              "    <tr>\n",
              "      <th>239</th>\n",
              "      <td>29.03</td>\n",
              "      <td>5.92</td>\n",
              "      <td>No</td>\n",
              "      <td>Sat</td>\n",
              "      <td>Dinner</td>\n",
              "      <td>3</td>\n",
              "      <td>2021-03-23</td>\n",
              "    </tr>\n",
              "    <tr>\n",
              "      <th>240</th>\n",
              "      <td>NaN</td>\n",
              "      <td>NaN</td>\n",
              "      <td>Yes</td>\n",
              "      <td>Sat</td>\n",
              "      <td>Dinner</td>\n",
              "      <td>2</td>\n",
              "      <td>2021-03-20</td>\n",
              "    </tr>\n",
              "    <tr>\n",
              "      <th>241</th>\n",
              "      <td>NaN</td>\n",
              "      <td>NaN</td>\n",
              "      <td>Yes</td>\n",
              "      <td>Sat</td>\n",
              "      <td>Dinner</td>\n",
              "      <td>2</td>\n",
              "      <td>2021-03-12</td>\n",
              "    </tr>\n",
              "    <tr>\n",
              "      <th>242</th>\n",
              "      <td>17.82</td>\n",
              "      <td>1.75</td>\n",
              "      <td>No</td>\n",
              "      <td>Sat</td>\n",
              "      <td>Dinner</td>\n",
              "      <td>2</td>\n",
              "      <td>2021-03-11</td>\n",
              "    </tr>\n",
              "    <tr>\n",
              "      <th>243</th>\n",
              "      <td>18.78</td>\n",
              "      <td>3.00</td>\n",
              "      <td>No</td>\n",
              "      <td>Thur</td>\n",
              "      <td>Dinner</td>\n",
              "      <td>2</td>\n",
              "      <td>2021-03-03</td>\n",
              "    </tr>\n",
              "  </tbody>\n",
              "</table>\n",
              "<p>244 rows × 7 columns</p>\n",
              "</div>"
            ],
            "text/plain": [
              "     total_bill   tip smoker   day    time size        date\n",
              "0         16.99  1.01     No   sun  Dinner    2  2021-03-01\n",
              "1         10.34  1.66     No   sun  Dinner    3  2021-03-21\n",
              "2         21.01  3.50     No   sun  Dinner    3  2021-03-23\n",
              "3         23.68  3.31     No   sun  Dinner    2  2021-03-05\n",
              "4         24.59  3.61     No   sun  Dinner    4  2021-03-15\n",
              "..          ...   ...    ...   ...     ...  ...         ...\n",
              "239       29.03  5.92     No   Sat  Dinner    3  2021-03-23\n",
              "240         NaN   NaN    Yes   Sat  Dinner    2  2021-03-20\n",
              "241         NaN   NaN    Yes   Sat  Dinner    2  2021-03-12\n",
              "242       17.82  1.75     No   Sat  Dinner    2  2021-03-11\n",
              "243       18.78  3.00     No  Thur  Dinner    2  2021-03-03\n",
              "\n",
              "[244 rows x 7 columns]"
            ]
          },
          "metadata": {},
          "execution_count": 75
        }
      ]
    },
    {
      "cell_type": "code",
      "metadata": {
        "id": "NZLhuJOeEwkG",
        "colab": {
          "base_uri": "https://localhost:8080/",
          "height": 206
        },
        "outputId": "2d20c5a8-d9a7-486c-f678-3fdba59b1860"
      },
      "source": [
        "# dropping columns inplace on a copy of the dataframe\n",
        "df_copy = df.copy()\n",
        "df_copy.drop(['sex', 'time'], axis=1, inplace=True)\n",
        "df_copy.head()"
      ],
      "execution_count": null,
      "outputs": [
        {
          "output_type": "execute_result",
          "data": {
            "text/html": [
              "<div>\n",
              "<style scoped>\n",
              "    .dataframe tbody tr th:only-of-type {\n",
              "        vertical-align: middle;\n",
              "    }\n",
              "\n",
              "    .dataframe tbody tr th {\n",
              "        vertical-align: top;\n",
              "    }\n",
              "\n",
              "    .dataframe thead th {\n",
              "        text-align: right;\n",
              "    }\n",
              "</style>\n",
              "<table border=\"1\" class=\"dataframe\">\n",
              "  <thead>\n",
              "    <tr style=\"text-align: right;\">\n",
              "      <th></th>\n",
              "      <th>total_bill</th>\n",
              "      <th>tip</th>\n",
              "      <th>smoker</th>\n",
              "      <th>day</th>\n",
              "      <th>size</th>\n",
              "      <th>date</th>\n",
              "    </tr>\n",
              "  </thead>\n",
              "  <tbody>\n",
              "    <tr>\n",
              "      <th>0</th>\n",
              "      <td>16.99</td>\n",
              "      <td>1.01</td>\n",
              "      <td>No</td>\n",
              "      <td>sun</td>\n",
              "      <td>2</td>\n",
              "      <td>2021-03-01</td>\n",
              "    </tr>\n",
              "    <tr>\n",
              "      <th>1</th>\n",
              "      <td>10.34</td>\n",
              "      <td>1.66</td>\n",
              "      <td>No</td>\n",
              "      <td>sun</td>\n",
              "      <td>3</td>\n",
              "      <td>2021-03-21</td>\n",
              "    </tr>\n",
              "    <tr>\n",
              "      <th>2</th>\n",
              "      <td>21.01</td>\n",
              "      <td>3.50</td>\n",
              "      <td>No</td>\n",
              "      <td>sun</td>\n",
              "      <td>3</td>\n",
              "      <td>2021-03-23</td>\n",
              "    </tr>\n",
              "    <tr>\n",
              "      <th>3</th>\n",
              "      <td>23.68</td>\n",
              "      <td>3.31</td>\n",
              "      <td>No</td>\n",
              "      <td>sun</td>\n",
              "      <td>2</td>\n",
              "      <td>2021-03-05</td>\n",
              "    </tr>\n",
              "    <tr>\n",
              "      <th>4</th>\n",
              "      <td>24.59</td>\n",
              "      <td>3.61</td>\n",
              "      <td>No</td>\n",
              "      <td>sun</td>\n",
              "      <td>4</td>\n",
              "      <td>2021-03-15</td>\n",
              "    </tr>\n",
              "  </tbody>\n",
              "</table>\n",
              "</div>"
            ],
            "text/plain": [
              "   total_bill   tip smoker  day size        date\n",
              "0       16.99  1.01     No  sun    2  2021-03-01\n",
              "1       10.34  1.66     No  sun    3  2021-03-21\n",
              "2       21.01  3.50     No  sun    3  2021-03-23\n",
              "3       23.68  3.31     No  sun    2  2021-03-05\n",
              "4       24.59  3.61     No  sun    4  2021-03-15"
            ]
          },
          "metadata": {},
          "execution_count": 76
        }
      ]
    },
    {
      "cell_type": "code",
      "metadata": {
        "id": "_Oy3Li6W9Wp4",
        "colab": {
          "base_uri": "https://localhost:8080/"
        },
        "outputId": "6861248b-d861-4078-fbae-54f02ac817d3"
      },
      "source": [
        "for index, row in df.head().iterrows():\n",
        "    print('{}: total_bill={}, tip={}'.format(index, row['total_bill'], row['tip']))"
      ],
      "execution_count": null,
      "outputs": [
        {
          "output_type": "stream",
          "name": "stdout",
          "text": [
            "0: total_bill=16.99, tip=1.01\n",
            "1: total_bill=10.34, tip=1.66\n",
            "2: total_bill=21.01, tip=3.5\n",
            "3: total_bill=23.68, tip=3.31\n",
            "4: total_bill=24.59, tip=3.61\n"
          ]
        }
      ]
    },
    {
      "cell_type": "code",
      "metadata": {
        "id": "7qD-gOwrPPsw"
      },
      "source": [
        ""
      ],
      "execution_count": null,
      "outputs": []
    },
    {
      "cell_type": "markdown",
      "metadata": {
        "id": "5oyPypbubRg7"
      },
      "source": [
        "# **5. Data Cleaning**\n",
        "The main tasks you'll encounter while cleaning the data are fixing data types (e.g. converting a column from `string` type to its proper type, such as `int` or `datetime`) and null values, which usually need to be dealt with somehow. \n",
        "\n",
        "You may also encounter string columns with values that need to be modified, such as when there are duplicate values with different representations or cases ('SUN' vs 'Sunday' vs 'sunday'). Expand to view examples.\n",
        "\n",
        "<br>\n",
        "\n",
        "---\n",
        "#### **`df['col'].astype(int)`** \n",
        "* cast a column as a different data type\n",
        "---\n",
        "#### **`pd.to_datetime(df['col'])`**\n",
        "* convert a string column to datetime format\n",
        "---\n",
        "#### **`df.isna().sum()`**\n",
        "* view how many null values each column has\n",
        "---\n",
        "#### **`df.dropna()`**\n",
        "* drop any rows in the dataframe that have null values in any columns\n",
        "---\n",
        "#### **`df.dropna(subset=['col'])`**\n",
        "* drop any rows in the dataframe that have a null value in the column 'col'\n",
        "---\n",
        "#### **`df['col'].fillna(value)`**\n",
        "* fill nulls in a column with `value`. This can be 0 or '' (empty string), the mean, median, or mode of the column, etc.\n",
        "* to fill with the mean, you would do: `df['col'].fillna(df['col'].mean())`\n",
        "* `df.apply(lambda x: x.fillna(x.mean()), axis=0)` fills all columns with their mean (axis=0 for .apply means it's applying to each column instead of each row)\n",
        "---\n",
        "#### **`df.drop_duplicates(subset=['col1', 'col2'])`**\n",
        "* drop duplicate rows from the dataset, with an optional `subset` parameter to determine duplicates based on certain columns instead of all of them.\n",
        "---\n",
        "\n",
        "<br>\n",
        "\n",
        "### String Cleaning Functions\n",
        "* `df['string_col'].str.replace('Soviet Union', 'Russia')`\n",
        "  * replaces a substring within the string\n",
        "* `df['string_col'].str.upper()`\n",
        "    * makes the string uppercase\n",
        "* `df['string_col'].str.lower()`\n",
        "    * makes the string lowercase\n",
        "* `df['string_col'].replace({'Texas': 'TX'})`\n",
        "    * replaces the whole element; doesn't have to be a string. Any element that is `'Texas'` will become `'TX'`; all other elements will remain unchanged.\n",
        "\n",
        "<br>\n",
        "\n",
        "### Datetime\n",
        "* Datetime data is seen a lot in the real world and it isn't super easy to work with\n",
        "\n"
      ]
    },
    {
      "cell_type": "code",
      "metadata": {
        "colab": {
          "base_uri": "https://localhost:8080/",
          "height": 206
        },
        "id": "zce3ep0PjCpH",
        "outputId": "4d3b673c-4d3d-44e1-d68f-623bb2c20e8c"
      },
      "source": [
        "df.head()"
      ],
      "execution_count": null,
      "outputs": [
        {
          "output_type": "execute_result",
          "data": {
            "text/html": [
              "<div>\n",
              "<style scoped>\n",
              "    .dataframe tbody tr th:only-of-type {\n",
              "        vertical-align: middle;\n",
              "    }\n",
              "\n",
              "    .dataframe tbody tr th {\n",
              "        vertical-align: top;\n",
              "    }\n",
              "\n",
              "    .dataframe thead th {\n",
              "        text-align: right;\n",
              "    }\n",
              "</style>\n",
              "<table border=\"1\" class=\"dataframe\">\n",
              "  <thead>\n",
              "    <tr style=\"text-align: right;\">\n",
              "      <th></th>\n",
              "      <th>total_bill</th>\n",
              "      <th>tip</th>\n",
              "      <th>sex</th>\n",
              "      <th>smoker</th>\n",
              "      <th>day</th>\n",
              "      <th>time</th>\n",
              "      <th>size</th>\n",
              "      <th>date</th>\n",
              "    </tr>\n",
              "  </thead>\n",
              "  <tbody>\n",
              "    <tr>\n",
              "      <th>0</th>\n",
              "      <td>16.99</td>\n",
              "      <td>1.01</td>\n",
              "      <td>Female</td>\n",
              "      <td>No</td>\n",
              "      <td>sun</td>\n",
              "      <td>Dinner</td>\n",
              "      <td>2</td>\n",
              "      <td>2021-03-01</td>\n",
              "    </tr>\n",
              "    <tr>\n",
              "      <th>1</th>\n",
              "      <td>10.34</td>\n",
              "      <td>1.66</td>\n",
              "      <td>Male</td>\n",
              "      <td>No</td>\n",
              "      <td>sun</td>\n",
              "      <td>Dinner</td>\n",
              "      <td>3</td>\n",
              "      <td>2021-03-21</td>\n",
              "    </tr>\n",
              "    <tr>\n",
              "      <th>2</th>\n",
              "      <td>21.01</td>\n",
              "      <td>3.50</td>\n",
              "      <td>Male</td>\n",
              "      <td>No</td>\n",
              "      <td>sun</td>\n",
              "      <td>Dinner</td>\n",
              "      <td>3</td>\n",
              "      <td>2021-03-23</td>\n",
              "    </tr>\n",
              "    <tr>\n",
              "      <th>3</th>\n",
              "      <td>23.68</td>\n",
              "      <td>3.31</td>\n",
              "      <td>Male</td>\n",
              "      <td>No</td>\n",
              "      <td>sun</td>\n",
              "      <td>Dinner</td>\n",
              "      <td>2</td>\n",
              "      <td>2021-03-05</td>\n",
              "    </tr>\n",
              "    <tr>\n",
              "      <th>4</th>\n",
              "      <td>24.59</td>\n",
              "      <td>3.61</td>\n",
              "      <td>Female</td>\n",
              "      <td>No</td>\n",
              "      <td>sun</td>\n",
              "      <td>Dinner</td>\n",
              "      <td>4</td>\n",
              "      <td>2021-03-15</td>\n",
              "    </tr>\n",
              "  </tbody>\n",
              "</table>\n",
              "</div>"
            ],
            "text/plain": [
              "   total_bill   tip     sex smoker  day    time size        date\n",
              "0       16.99  1.01  Female     No  sun  Dinner    2  2021-03-01\n",
              "1       10.34  1.66    Male     No  sun  Dinner    3  2021-03-21\n",
              "2       21.01  3.50    Male     No  sun  Dinner    3  2021-03-23\n",
              "3       23.68  3.31    Male     No  sun  Dinner    2  2021-03-05\n",
              "4       24.59  3.61  Female     No  sun  Dinner    4  2021-03-15"
            ]
          },
          "metadata": {},
          "execution_count": 77
        }
      ]
    },
    {
      "cell_type": "code",
      "metadata": {
        "colab": {
          "base_uri": "https://localhost:8080/"
        },
        "id": "i2FcwpnFbSSE",
        "outputId": "5c416c45-ae59-43f1-9931-3686f26628bb"
      },
      "source": [
        "# view data types to see if they're correct\n",
        "df.dtypes"
      ],
      "execution_count": null,
      "outputs": [
        {
          "output_type": "execute_result",
          "data": {
            "text/plain": [
              "total_bill    float64\n",
              "tip           float64\n",
              "sex            object\n",
              "smoker         object\n",
              "day            object\n",
              "time           object\n",
              "size           object\n",
              "date           object\n",
              "dtype: object"
            ]
          },
          "metadata": {},
          "execution_count": 78
        }
      ]
    },
    {
      "cell_type": "code",
      "metadata": {
        "id": "3rvo9Ga2bUiU"
      },
      "source": [
        "# correcting the datatypes of certain columns\n",
        "df['size'] = df['size'].astype(int)     # size should be an int\n",
        "df['date'] = pd.to_datetime(df['date']) # date should be a datetime"
      ],
      "execution_count": null,
      "outputs": []
    },
    {
      "cell_type": "code",
      "metadata": {
        "colab": {
          "base_uri": "https://localhost:8080/"
        },
        "id": "KV5FE5Y8bVEh",
        "outputId": "e88e5bef-f522-47a4-9fcb-7bb59b8399c8"
      },
      "source": [
        "# check for null values\n",
        "df.isna().sum()"
      ],
      "execution_count": null,
      "outputs": [
        {
          "output_type": "execute_result",
          "data": {
            "text/plain": [
              "total_bill    49\n",
              "tip           49\n",
              "sex            0\n",
              "smoker        53\n",
              "day            0\n",
              "time           0\n",
              "size           0\n",
              "date           0\n",
              "dtype: int64"
            ]
          },
          "metadata": {},
          "execution_count": 80
        }
      ]
    },
    {
      "cell_type": "code",
      "metadata": {
        "colab": {
          "base_uri": "https://localhost:8080/",
          "height": 423
        },
        "id": "j-URYsZHbXR2",
        "outputId": "7406764e-5557-4e65-bd23-b24d016b4dfe"
      },
      "source": [
        "# drop any rows that have any null values\n",
        "df.dropna()"
      ],
      "execution_count": null,
      "outputs": [
        {
          "output_type": "execute_result",
          "data": {
            "text/html": [
              "<div>\n",
              "<style scoped>\n",
              "    .dataframe tbody tr th:only-of-type {\n",
              "        vertical-align: middle;\n",
              "    }\n",
              "\n",
              "    .dataframe tbody tr th {\n",
              "        vertical-align: top;\n",
              "    }\n",
              "\n",
              "    .dataframe thead th {\n",
              "        text-align: right;\n",
              "    }\n",
              "</style>\n",
              "<table border=\"1\" class=\"dataframe\">\n",
              "  <thead>\n",
              "    <tr style=\"text-align: right;\">\n",
              "      <th></th>\n",
              "      <th>total_bill</th>\n",
              "      <th>tip</th>\n",
              "      <th>sex</th>\n",
              "      <th>smoker</th>\n",
              "      <th>day</th>\n",
              "      <th>time</th>\n",
              "      <th>size</th>\n",
              "      <th>date</th>\n",
              "    </tr>\n",
              "  </thead>\n",
              "  <tbody>\n",
              "    <tr>\n",
              "      <th>0</th>\n",
              "      <td>16.99</td>\n",
              "      <td>1.01</td>\n",
              "      <td>Female</td>\n",
              "      <td>No</td>\n",
              "      <td>sun</td>\n",
              "      <td>Dinner</td>\n",
              "      <td>2</td>\n",
              "      <td>2021-03-01</td>\n",
              "    </tr>\n",
              "    <tr>\n",
              "      <th>1</th>\n",
              "      <td>10.34</td>\n",
              "      <td>1.66</td>\n",
              "      <td>Male</td>\n",
              "      <td>No</td>\n",
              "      <td>sun</td>\n",
              "      <td>Dinner</td>\n",
              "      <td>3</td>\n",
              "      <td>2021-03-21</td>\n",
              "    </tr>\n",
              "    <tr>\n",
              "      <th>2</th>\n",
              "      <td>21.01</td>\n",
              "      <td>3.50</td>\n",
              "      <td>Male</td>\n",
              "      <td>No</td>\n",
              "      <td>sun</td>\n",
              "      <td>Dinner</td>\n",
              "      <td>3</td>\n",
              "      <td>2021-03-23</td>\n",
              "    </tr>\n",
              "    <tr>\n",
              "      <th>3</th>\n",
              "      <td>23.68</td>\n",
              "      <td>3.31</td>\n",
              "      <td>Male</td>\n",
              "      <td>No</td>\n",
              "      <td>sun</td>\n",
              "      <td>Dinner</td>\n",
              "      <td>2</td>\n",
              "      <td>2021-03-05</td>\n",
              "    </tr>\n",
              "    <tr>\n",
              "      <th>4</th>\n",
              "      <td>24.59</td>\n",
              "      <td>3.61</td>\n",
              "      <td>Female</td>\n",
              "      <td>No</td>\n",
              "      <td>sun</td>\n",
              "      <td>Dinner</td>\n",
              "      <td>4</td>\n",
              "      <td>2021-03-15</td>\n",
              "    </tr>\n",
              "    <tr>\n",
              "      <th>...</th>\n",
              "      <td>...</td>\n",
              "      <td>...</td>\n",
              "      <td>...</td>\n",
              "      <td>...</td>\n",
              "      <td>...</td>\n",
              "      <td>...</td>\n",
              "      <td>...</td>\n",
              "      <td>...</td>\n",
              "    </tr>\n",
              "    <tr>\n",
              "      <th>235</th>\n",
              "      <td>10.07</td>\n",
              "      <td>1.25</td>\n",
              "      <td>Male</td>\n",
              "      <td>No</td>\n",
              "      <td>Sat</td>\n",
              "      <td>Dinner</td>\n",
              "      <td>2</td>\n",
              "      <td>2021-03-01</td>\n",
              "    </tr>\n",
              "    <tr>\n",
              "      <th>236</th>\n",
              "      <td>12.60</td>\n",
              "      <td>1.00</td>\n",
              "      <td>Male</td>\n",
              "      <td>Yes</td>\n",
              "      <td>Sat</td>\n",
              "      <td>Dinner</td>\n",
              "      <td>2</td>\n",
              "      <td>2021-03-20</td>\n",
              "    </tr>\n",
              "    <tr>\n",
              "      <th>239</th>\n",
              "      <td>29.03</td>\n",
              "      <td>5.92</td>\n",
              "      <td>Male</td>\n",
              "      <td>No</td>\n",
              "      <td>Sat</td>\n",
              "      <td>Dinner</td>\n",
              "      <td>3</td>\n",
              "      <td>2021-03-23</td>\n",
              "    </tr>\n",
              "    <tr>\n",
              "      <th>242</th>\n",
              "      <td>17.82</td>\n",
              "      <td>1.75</td>\n",
              "      <td>Male</td>\n",
              "      <td>No</td>\n",
              "      <td>Sat</td>\n",
              "      <td>Dinner</td>\n",
              "      <td>2</td>\n",
              "      <td>2021-03-11</td>\n",
              "    </tr>\n",
              "    <tr>\n",
              "      <th>243</th>\n",
              "      <td>18.78</td>\n",
              "      <td>3.00</td>\n",
              "      <td>Female</td>\n",
              "      <td>No</td>\n",
              "      <td>Thur</td>\n",
              "      <td>Dinner</td>\n",
              "      <td>2</td>\n",
              "      <td>2021-03-03</td>\n",
              "    </tr>\n",
              "  </tbody>\n",
              "</table>\n",
              "<p>152 rows × 8 columns</p>\n",
              "</div>"
            ],
            "text/plain": [
              "     total_bill   tip     sex smoker   day    time  size       date\n",
              "0         16.99  1.01  Female     No   sun  Dinner     2 2021-03-01\n",
              "1         10.34  1.66    Male     No   sun  Dinner     3 2021-03-21\n",
              "2         21.01  3.50    Male     No   sun  Dinner     3 2021-03-23\n",
              "3         23.68  3.31    Male     No   sun  Dinner     2 2021-03-05\n",
              "4         24.59  3.61  Female     No   sun  Dinner     4 2021-03-15\n",
              "..          ...   ...     ...    ...   ...     ...   ...        ...\n",
              "235       10.07  1.25    Male     No   Sat  Dinner     2 2021-03-01\n",
              "236       12.60  1.00    Male    Yes   Sat  Dinner     2 2021-03-20\n",
              "239       29.03  5.92    Male     No   Sat  Dinner     3 2021-03-23\n",
              "242       17.82  1.75    Male     No   Sat  Dinner     2 2021-03-11\n",
              "243       18.78  3.00  Female     No  Thur  Dinner     2 2021-03-03\n",
              "\n",
              "[152 rows x 8 columns]"
            ]
          },
          "metadata": {},
          "execution_count": 81
        }
      ]
    },
    {
      "cell_type": "code",
      "metadata": {
        "colab": {
          "base_uri": "https://localhost:8080/",
          "height": 423
        },
        "id": "6i2syZNGjOXD",
        "outputId": "9d41f6bb-3f87-4a25-fa8a-3b8e5ac3cb12"
      },
      "source": [
        "# drop any rows where the value for the \"tip\" column is null\n",
        "df.dropna(subset=['tip'])"
      ],
      "execution_count": null,
      "outputs": [
        {
          "output_type": "execute_result",
          "data": {
            "text/html": [
              "<div>\n",
              "<style scoped>\n",
              "    .dataframe tbody tr th:only-of-type {\n",
              "        vertical-align: middle;\n",
              "    }\n",
              "\n",
              "    .dataframe tbody tr th {\n",
              "        vertical-align: top;\n",
              "    }\n",
              "\n",
              "    .dataframe thead th {\n",
              "        text-align: right;\n",
              "    }\n",
              "</style>\n",
              "<table border=\"1\" class=\"dataframe\">\n",
              "  <thead>\n",
              "    <tr style=\"text-align: right;\">\n",
              "      <th></th>\n",
              "      <th>total_bill</th>\n",
              "      <th>tip</th>\n",
              "      <th>sex</th>\n",
              "      <th>smoker</th>\n",
              "      <th>day</th>\n",
              "      <th>time</th>\n",
              "      <th>size</th>\n",
              "      <th>date</th>\n",
              "    </tr>\n",
              "  </thead>\n",
              "  <tbody>\n",
              "    <tr>\n",
              "      <th>0</th>\n",
              "      <td>16.99</td>\n",
              "      <td>1.01</td>\n",
              "      <td>Female</td>\n",
              "      <td>No</td>\n",
              "      <td>sun</td>\n",
              "      <td>Dinner</td>\n",
              "      <td>2</td>\n",
              "      <td>2021-03-01</td>\n",
              "    </tr>\n",
              "    <tr>\n",
              "      <th>1</th>\n",
              "      <td>10.34</td>\n",
              "      <td>1.66</td>\n",
              "      <td>Male</td>\n",
              "      <td>No</td>\n",
              "      <td>sun</td>\n",
              "      <td>Dinner</td>\n",
              "      <td>3</td>\n",
              "      <td>2021-03-21</td>\n",
              "    </tr>\n",
              "    <tr>\n",
              "      <th>2</th>\n",
              "      <td>21.01</td>\n",
              "      <td>3.50</td>\n",
              "      <td>Male</td>\n",
              "      <td>No</td>\n",
              "      <td>sun</td>\n",
              "      <td>Dinner</td>\n",
              "      <td>3</td>\n",
              "      <td>2021-03-23</td>\n",
              "    </tr>\n",
              "    <tr>\n",
              "      <th>3</th>\n",
              "      <td>23.68</td>\n",
              "      <td>3.31</td>\n",
              "      <td>Male</td>\n",
              "      <td>No</td>\n",
              "      <td>sun</td>\n",
              "      <td>Dinner</td>\n",
              "      <td>2</td>\n",
              "      <td>2021-03-05</td>\n",
              "    </tr>\n",
              "    <tr>\n",
              "      <th>4</th>\n",
              "      <td>24.59</td>\n",
              "      <td>3.61</td>\n",
              "      <td>Female</td>\n",
              "      <td>No</td>\n",
              "      <td>sun</td>\n",
              "      <td>Dinner</td>\n",
              "      <td>4</td>\n",
              "      <td>2021-03-15</td>\n",
              "    </tr>\n",
              "    <tr>\n",
              "      <th>...</th>\n",
              "      <td>...</td>\n",
              "      <td>...</td>\n",
              "      <td>...</td>\n",
              "      <td>...</td>\n",
              "      <td>...</td>\n",
              "      <td>...</td>\n",
              "      <td>...</td>\n",
              "      <td>...</td>\n",
              "    </tr>\n",
              "    <tr>\n",
              "      <th>236</th>\n",
              "      <td>12.60</td>\n",
              "      <td>1.00</td>\n",
              "      <td>Male</td>\n",
              "      <td>Yes</td>\n",
              "      <td>Sat</td>\n",
              "      <td>Dinner</td>\n",
              "      <td>2</td>\n",
              "      <td>2021-03-20</td>\n",
              "    </tr>\n",
              "    <tr>\n",
              "      <th>238</th>\n",
              "      <td>35.83</td>\n",
              "      <td>4.67</td>\n",
              "      <td>Female</td>\n",
              "      <td>NaN</td>\n",
              "      <td>Sat</td>\n",
              "      <td>Dinner</td>\n",
              "      <td>3</td>\n",
              "      <td>2021-03-02</td>\n",
              "    </tr>\n",
              "    <tr>\n",
              "      <th>239</th>\n",
              "      <td>29.03</td>\n",
              "      <td>5.92</td>\n",
              "      <td>Male</td>\n",
              "      <td>No</td>\n",
              "      <td>Sat</td>\n",
              "      <td>Dinner</td>\n",
              "      <td>3</td>\n",
              "      <td>2021-03-23</td>\n",
              "    </tr>\n",
              "    <tr>\n",
              "      <th>242</th>\n",
              "      <td>17.82</td>\n",
              "      <td>1.75</td>\n",
              "      <td>Male</td>\n",
              "      <td>No</td>\n",
              "      <td>Sat</td>\n",
              "      <td>Dinner</td>\n",
              "      <td>2</td>\n",
              "      <td>2021-03-11</td>\n",
              "    </tr>\n",
              "    <tr>\n",
              "      <th>243</th>\n",
              "      <td>18.78</td>\n",
              "      <td>3.00</td>\n",
              "      <td>Female</td>\n",
              "      <td>No</td>\n",
              "      <td>Thur</td>\n",
              "      <td>Dinner</td>\n",
              "      <td>2</td>\n",
              "      <td>2021-03-03</td>\n",
              "    </tr>\n",
              "  </tbody>\n",
              "</table>\n",
              "<p>195 rows × 8 columns</p>\n",
              "</div>"
            ],
            "text/plain": [
              "     total_bill   tip     sex smoker   day    time  size       date\n",
              "0         16.99  1.01  Female     No   sun  Dinner     2 2021-03-01\n",
              "1         10.34  1.66    Male     No   sun  Dinner     3 2021-03-21\n",
              "2         21.01  3.50    Male     No   sun  Dinner     3 2021-03-23\n",
              "3         23.68  3.31    Male     No   sun  Dinner     2 2021-03-05\n",
              "4         24.59  3.61  Female     No   sun  Dinner     4 2021-03-15\n",
              "..          ...   ...     ...    ...   ...     ...   ...        ...\n",
              "236       12.60  1.00    Male    Yes   Sat  Dinner     2 2021-03-20\n",
              "238       35.83  4.67  Female    NaN   Sat  Dinner     3 2021-03-02\n",
              "239       29.03  5.92    Male     No   Sat  Dinner     3 2021-03-23\n",
              "242       17.82  1.75    Male     No   Sat  Dinner     2 2021-03-11\n",
              "243       18.78  3.00  Female     No  Thur  Dinner     2 2021-03-03\n",
              "\n",
              "[195 rows x 8 columns]"
            ]
          },
          "metadata": {},
          "execution_count": 82
        }
      ]
    },
    {
      "cell_type": "code",
      "metadata": {
        "id": "bNnZexo_jZQV"
      },
      "source": [
        "# different ways of filling the null values for a numeric column\n",
        "df['tip'].fillna(0)\n",
        "df['tip'].fillna(df['tip'].mean())\n",
        "df['tip'].fillna(df['tip'].median())\n",
        "\n",
        "\n",
        "# we'll go with the mean for total_bill and 0 for tip\n",
        "df['total_bill'].fillna(df['total_bill'].mean(), inplace=True)      # inplace\n",
        "df['total_bill'] = df['total_bill'].fillna(df['total_bill'].mean()) # assign\n",
        "\n",
        "df['tip'].fillna(0, inplace=True)"
      ],
      "execution_count": null,
      "outputs": []
    },
    {
      "cell_type": "code",
      "metadata": {
        "id": "3lKGx6xDnsTR"
      },
      "source": [
        "# filling categorical column with the most common value\n",
        "df['smoker'].fillna(df['smoker'].mode(), inplace=True)"
      ],
      "execution_count": null,
      "outputs": []
    },
    {
      "cell_type": "code",
      "metadata": {
        "colab": {
          "base_uri": "https://localhost:8080/"
        },
        "id": "uiO3VpTLyx0e",
        "outputId": "68ac869d-1d08-4875-a86e-e25174523db1"
      },
      "source": [
        "# check values for day\n",
        "df.value_counts('day')"
      ],
      "execution_count": null,
      "outputs": [
        {
          "output_type": "execute_result",
          "data": {
            "text/plain": [
              "day\n",
              "Sat     87\n",
              "sun     76\n",
              "Thur    62\n",
              "Fri     19\n",
              "dtype: int64"
            ]
          },
          "metadata": {},
          "execution_count": 85
        }
      ]
    },
    {
      "cell_type": "code",
      "metadata": {
        "id": "GvQkL3xa0D0e"
      },
      "source": [
        "# converting to uppercase\n",
        "df['day'] = df['day'].str.upper()"
      ],
      "execution_count": null,
      "outputs": []
    },
    {
      "cell_type": "code",
      "metadata": {
        "id": "LR4J4d8dzApL"
      },
      "source": [
        "# expanding day abbreviations to the full day\n",
        "day_mapping = {'SAT':'Saturday', 'SUN':'Sunday', 'THUR':'Thursday', 'FRI':'Friday'}\n",
        "df['day_expanded'] = df['day'].map(day_mapping)"
      ],
      "execution_count": null,
      "outputs": []
    },
    {
      "cell_type": "code",
      "metadata": {
        "id": "6QYXNz809SgX"
      },
      "source": [
        ""
      ],
      "execution_count": null,
      "outputs": []
    },
    {
      "cell_type": "markdown",
      "metadata": {
        "id": "rizrQCPPlP1G"
      },
      "source": [
        "# **6. Data Engineering**\n",
        "Basic data engineering typically consists of modifying existing columns or creating new ones that present the data in a different way that is useful. These new columns are usually created based on the content of old columns. Expand to view examples.\n",
        "\n",
        "<br>\n",
        "\n",
        "---\n",
        "#### **`df['col'].apply(lambda x: func(x))`**\n",
        "* Transform a column by applying a custom function to it. The function can be defined elsewhere, or can be a simple operation within the lambda expression. You can replace the old column with the transformed version, or set it equal to a new column.\n",
        "* **IMPORTANT!!** I've found `.apply(lambda x: __)` to be one of the most useful and commonly used functions when working with data in pandas.\n",
        "---\n",
        "#### **`df.apply(lambda row: row['col1'] + row['col2'], axis=1)`**\n",
        "* You can also apply a function to the entire row and refer to multiple columns within that row.\n",
        "---\n",
        "#### **`df['col3'] = df['col1'] + df['col1']`**\n",
        "* Multiple columns can be manipulated or combined.\n",
        "---\n",
        "#### **`df['string_col'].str.replace('Soviet Union', 'Russia')`**\n",
        "* Replace a substring with a different substring; remove it by replacing it with `''`.\n",
        "---\n",
        "#### **`df['new_col'] = 0`, `df['new_col'] = 'hello'`**\n",
        "* Create a new column with only one value present throughout the column.\n",
        "---\n",
        "#### **`df['new_col'] = [1, 2, 3, 4]`**\n",
        "* Create a new column using a list. The list must be the same length as the number of rows present in the dataframe.\n",
        "---"
      ]
    },
    {
      "cell_type": "code",
      "metadata": {
        "colab": {
          "base_uri": "https://localhost:8080/"
        },
        "id": "QezExleQjwkl",
        "outputId": "abebe034-4e42-4e4a-ace9-5c752983aee2"
      },
      "source": [
        "# create a new column with just an initial for gender, \"M\" or \"F\"\n",
        "df['sex_initial'] = df['sex'].apply(lambda x: x[0])\n",
        "  # x refers to each value you'll see in the column, e.g. \"Male\" or \"Female\"\n",
        "\n",
        "'Male'[0] # showing why it works"
      ],
      "execution_count": null,
      "outputs": [
        {
          "output_type": "execute_result",
          "data": {
            "application/vnd.google.colaboratory.intrinsic+json": {
              "type": "string"
            },
            "text/plain": [
              "'M'"
            ]
          },
          "metadata": {},
          "execution_count": 88
        }
      ]
    },
    {
      "cell_type": "code",
      "metadata": {
        "colab": {
          "base_uri": "https://localhost:8080/"
        },
        "id": "w9LjiP5il6It",
        "outputId": "14772f90-02df-4a1f-a3ff-a901d7dab65a"
      },
      "source": [
        "# day expansion can also be done through lambda instead of .map\n",
        "day_mapping = {'SAT':'Saturday', 'SUN':'Sunday', 'THUR':'Thursday', 'FRI':'Friday'}\n",
        "df['day'] = df['day'].apply(lambda x: day_mapping[x]) # replaces original column\n",
        "\n",
        "day_mapping['SAT'] # showing why it works"
      ],
      "execution_count": null,
      "outputs": [
        {
          "output_type": "execute_result",
          "data": {
            "application/vnd.google.colaboratory.intrinsic+json": {
              "type": "string"
            },
            "text/plain": [
              "'Saturday'"
            ]
          },
          "metadata": {},
          "execution_count": 89
        }
      ]
    },
    {
      "cell_type": "code",
      "metadata": {
        "id": "fyRzbAGYmSpH"
      },
      "source": [
        "# define a longer function to categorize days as weekend\n",
        "# could also be done using dict\n",
        "def is_weekend(day):\n",
        "  if day in ['Saturday', 'Sunday']:\n",
        "    return True\n",
        "  else:\n",
        "    return False\n",
        "\n",
        "df['is_weekend'] = df['day'].apply(lambda x: is_weekend(x))"
      ],
      "execution_count": null,
      "outputs": []
    },
    {
      "cell_type": "code",
      "metadata": {
        "id": "g0lHNjJ_mvJB"
      },
      "source": [
        "# apply function to entire row instead of values within a column\n",
        "df['avg_cost_per_person'] = df.apply(lambda row: row['total_bill'] / row['size'], axis=1)\n",
        "\n",
        "# can also be done using the columns directly\n",
        "df['avg_cost_per_person'] = df['total_bill'] / df['size']"
      ],
      "execution_count": null,
      "outputs": []
    },
    {
      "cell_type": "markdown",
      "metadata": {
        "id": "TNQDmXXPvCkV"
      },
      "source": [
        "# **7. Other Functionality**\n",
        "pandas is a very robust library, and the things covered in this guide only scratch the surface of what it can do. Below are some useful functions in pandas that don't fall cleanly into any of the above categories.\n",
        "\n",
        "## Misc Functions\n",
        "* **`df.sort_values([], ascending=False)`** : sort values in a df by 1 or more columns, with an optional `ascending` parameter.\n",
        "* **`df.reset_index(drop=True)`** : reset the numerical index of a df after it's been modified by indexing or sorting\n",
        "* **`df1.merge(df2, on='colname', how='left')`** : SQL-style table join. Tables must have same column name.\n",
        "* **`df_appended = df1.append(df2)`** : append one dataframe to the end of another; similar to SQL union.\n",
        "\n",
        "## SQL-like Functionality\n",
        "As the representation of data in pandas is a table with rows and columns, it can perform very similar aggregation, pivoting, and window operations on data as SQL does.\n",
        "\n",
        "**SQL**\n",
        "```\n",
        "SELECT region, SUM(sales) as total_sales\n",
        "FROM table1\n",
        "GROUP BY region\n",
        "ORDER BY SUM(sales) DESC\n",
        "```\n",
        "\n",
        "**pandas**\n",
        "```\n",
        "(\n",
        "    df\n",
        "    .groupby('region')\n",
        "    .agg(total_sales=('sales', 'sum'))\n",
        "    .reset_index()\n",
        "    .sort_values('total_sales', ascending=False)\n",
        ")\n",
        "# sort_values is optional if you want ascending; pandas automatically sorts by grouping columns ascending\n",
        "```"
      ]
    },
    {
      "cell_type": "code",
      "metadata": {
        "colab": {
          "base_uri": "https://localhost:8080/",
          "height": 174
        },
        "id": "GcDtYdxKnNNi",
        "outputId": "5d30ecb1-b251-429a-a349-8f577d060424"
      },
      "source": [
        "# grouping by a single column, aggregating a single column\n",
        "(\n",
        "    df\n",
        "    .groupby('day')\n",
        "    .agg(total_sales=('total_bill', 'sum'))\n",
        "    .reset_index()\n",
        "    .sort_values(['total_sales'], ascending=False)\n",
        ")"
      ],
      "execution_count": null,
      "outputs": [
        {
          "output_type": "execute_result",
          "data": {
            "text/html": [
              "<div>\n",
              "<style scoped>\n",
              "    .dataframe tbody tr th:only-of-type {\n",
              "        vertical-align: middle;\n",
              "    }\n",
              "\n",
              "    .dataframe tbody tr th {\n",
              "        vertical-align: top;\n",
              "    }\n",
              "\n",
              "    .dataframe thead th {\n",
              "        text-align: right;\n",
              "    }\n",
              "</style>\n",
              "<table border=\"1\" class=\"dataframe\">\n",
              "  <thead>\n",
              "    <tr style=\"text-align: right;\">\n",
              "      <th></th>\n",
              "      <th>day</th>\n",
              "      <th>total_sales</th>\n",
              "    </tr>\n",
              "  </thead>\n",
              "  <tbody>\n",
              "    <tr>\n",
              "      <th>1</th>\n",
              "      <td>Saturday</td>\n",
              "      <td>1758.802308</td>\n",
              "    </tr>\n",
              "    <tr>\n",
              "      <th>2</th>\n",
              "      <td>Sunday</td>\n",
              "      <td>1592.074615</td>\n",
              "    </tr>\n",
              "    <tr>\n",
              "      <th>3</th>\n",
              "      <td>Thursday</td>\n",
              "      <td>1120.115385</td>\n",
              "    </tr>\n",
              "    <tr>\n",
              "      <th>0</th>\n",
              "      <td>Friday</td>\n",
              "      <td>330.176923</td>\n",
              "    </tr>\n",
              "  </tbody>\n",
              "</table>\n",
              "</div>"
            ],
            "text/plain": [
              "        day  total_sales\n",
              "1  Saturday  1758.802308\n",
              "2    Sunday  1592.074615\n",
              "3  Thursday  1120.115385\n",
              "0    Friday   330.176923"
            ]
          },
          "metadata": {},
          "execution_count": 92
        }
      ]
    },
    {
      "cell_type": "code",
      "metadata": {
        "colab": {
          "base_uri": "https://localhost:8080/",
          "height": 300
        },
        "id": "cHX_ErTV7GCw",
        "outputId": "b9f8a21f-ddae-436b-f5f2-f1558f789025"
      },
      "source": [
        "# grouping by multiple columns, aggregating a single column\n",
        "(\n",
        "    df\n",
        "    .groupby(['day', 'sex'])\n",
        "    .agg(total_sales=('total_bill','sum'))\n",
        "    .reset_index()\n",
        "    .sort_values(['total_sales'], ascending=False)\n",
        ")"
      ],
      "execution_count": null,
      "outputs": [
        {
          "output_type": "execute_result",
          "data": {
            "text/html": [
              "<div>\n",
              "<style scoped>\n",
              "    .dataframe tbody tr th:only-of-type {\n",
              "        vertical-align: middle;\n",
              "    }\n",
              "\n",
              "    .dataframe tbody tr th {\n",
              "        vertical-align: top;\n",
              "    }\n",
              "\n",
              "    .dataframe thead th {\n",
              "        text-align: right;\n",
              "    }\n",
              "</style>\n",
              "<table border=\"1\" class=\"dataframe\">\n",
              "  <thead>\n",
              "    <tr style=\"text-align: right;\">\n",
              "      <th></th>\n",
              "      <th>day</th>\n",
              "      <th>sex</th>\n",
              "      <th>total_sales</th>\n",
              "    </tr>\n",
              "  </thead>\n",
              "  <tbody>\n",
              "    <tr>\n",
              "      <th>5</th>\n",
              "      <td>Sunday</td>\n",
              "      <td>Male</td>\n",
              "      <td>1251.916923</td>\n",
              "    </tr>\n",
              "    <tr>\n",
              "      <th>3</th>\n",
              "      <td>Saturday</td>\n",
              "      <td>Male</td>\n",
              "      <td>1211.584615</td>\n",
              "    </tr>\n",
              "    <tr>\n",
              "      <th>7</th>\n",
              "      <td>Thursday</td>\n",
              "      <td>Male</td>\n",
              "      <td>562.940769</td>\n",
              "    </tr>\n",
              "    <tr>\n",
              "      <th>6</th>\n",
              "      <td>Thursday</td>\n",
              "      <td>Female</td>\n",
              "      <td>557.174615</td>\n",
              "    </tr>\n",
              "    <tr>\n",
              "      <th>2</th>\n",
              "      <td>Saturday</td>\n",
              "      <td>Female</td>\n",
              "      <td>547.217692</td>\n",
              "    </tr>\n",
              "    <tr>\n",
              "      <th>4</th>\n",
              "      <td>Sunday</td>\n",
              "      <td>Female</td>\n",
              "      <td>340.157692</td>\n",
              "    </tr>\n",
              "    <tr>\n",
              "      <th>1</th>\n",
              "      <td>Friday</td>\n",
              "      <td>Male</td>\n",
              "      <td>198.570000</td>\n",
              "    </tr>\n",
              "    <tr>\n",
              "      <th>0</th>\n",
              "      <td>Friday</td>\n",
              "      <td>Female</td>\n",
              "      <td>131.606923</td>\n",
              "    </tr>\n",
              "  </tbody>\n",
              "</table>\n",
              "</div>"
            ],
            "text/plain": [
              "        day     sex  total_sales\n",
              "5    Sunday    Male  1251.916923\n",
              "3  Saturday    Male  1211.584615\n",
              "7  Thursday    Male   562.940769\n",
              "6  Thursday  Female   557.174615\n",
              "2  Saturday  Female   547.217692\n",
              "4    Sunday  Female   340.157692\n",
              "1    Friday    Male   198.570000\n",
              "0    Friday  Female   131.606923"
            ]
          },
          "metadata": {},
          "execution_count": 93
        }
      ]
    },
    {
      "cell_type": "code",
      "metadata": {
        "colab": {
          "base_uri": "https://localhost:8080/",
          "height": 300
        },
        "id": "_Shu18Ta7Si5",
        "outputId": "47649f53-05b1-42f8-e733-7c4d945ced46"
      },
      "source": [
        "# grouping by multiple columns, aggregating multiple columns\n",
        "(\n",
        "    df\n",
        "    .groupby(['day', 'sex'])\n",
        "    .agg(\n",
        "        total_sales=('total_bill','sum'),\n",
        "        total_tips=('tip','sum'),\n",
        "        count=('smoker','count')    \n",
        "    )\n",
        "    .reset_index()\n",
        ")\n",
        "  # note that when you use the 'count' operation, it doesn't matter what column"
      ],
      "execution_count": null,
      "outputs": [
        {
          "output_type": "execute_result",
          "data": {
            "text/html": [
              "<div>\n",
              "<style scoped>\n",
              "    .dataframe tbody tr th:only-of-type {\n",
              "        vertical-align: middle;\n",
              "    }\n",
              "\n",
              "    .dataframe tbody tr th {\n",
              "        vertical-align: top;\n",
              "    }\n",
              "\n",
              "    .dataframe thead th {\n",
              "        text-align: right;\n",
              "    }\n",
              "</style>\n",
              "<table border=\"1\" class=\"dataframe\">\n",
              "  <thead>\n",
              "    <tr style=\"text-align: right;\">\n",
              "      <th></th>\n",
              "      <th>day</th>\n",
              "      <th>sex</th>\n",
              "      <th>total_sales</th>\n",
              "      <th>total_tips</th>\n",
              "      <th>count</th>\n",
              "    </tr>\n",
              "  </thead>\n",
              "  <tbody>\n",
              "    <tr>\n",
              "      <th>0</th>\n",
              "      <td>Friday</td>\n",
              "      <td>Female</td>\n",
              "      <td>131.606923</td>\n",
              "      <td>22.03</td>\n",
              "      <td>8</td>\n",
              "    </tr>\n",
              "    <tr>\n",
              "      <th>1</th>\n",
              "      <td>Friday</td>\n",
              "      <td>Male</td>\n",
              "      <td>198.570000</td>\n",
              "      <td>26.93</td>\n",
              "      <td>5</td>\n",
              "    </tr>\n",
              "    <tr>\n",
              "      <th>2</th>\n",
              "      <td>Saturday</td>\n",
              "      <td>Female</td>\n",
              "      <td>547.217692</td>\n",
              "      <td>65.22</td>\n",
              "      <td>24</td>\n",
              "    </tr>\n",
              "    <tr>\n",
              "      <th>3</th>\n",
              "      <td>Saturday</td>\n",
              "      <td>Male</td>\n",
              "      <td>1211.584615</td>\n",
              "      <td>131.92</td>\n",
              "      <td>44</td>\n",
              "    </tr>\n",
              "    <tr>\n",
              "      <th>4</th>\n",
              "      <td>Sunday</td>\n",
              "      <td>Female</td>\n",
              "      <td>340.157692</td>\n",
              "      <td>44.89</td>\n",
              "      <td>15</td>\n",
              "    </tr>\n",
              "    <tr>\n",
              "      <th>5</th>\n",
              "      <td>Sunday</td>\n",
              "      <td>Male</td>\n",
              "      <td>1251.916923</td>\n",
              "      <td>135.76</td>\n",
              "      <td>47</td>\n",
              "    </tr>\n",
              "    <tr>\n",
              "      <th>6</th>\n",
              "      <td>Thursday</td>\n",
              "      <td>Female</td>\n",
              "      <td>557.174615</td>\n",
              "      <td>71.67</td>\n",
              "      <td>27</td>\n",
              "    </tr>\n",
              "    <tr>\n",
              "      <th>7</th>\n",
              "      <td>Thursday</td>\n",
              "      <td>Male</td>\n",
              "      <td>562.940769</td>\n",
              "      <td>82.20</td>\n",
              "      <td>21</td>\n",
              "    </tr>\n",
              "  </tbody>\n",
              "</table>\n",
              "</div>"
            ],
            "text/plain": [
              "        day     sex  total_sales  total_tips  count\n",
              "0    Friday  Female   131.606923       22.03      8\n",
              "1    Friday    Male   198.570000       26.93      5\n",
              "2  Saturday  Female   547.217692       65.22     24\n",
              "3  Saturday    Male  1211.584615      131.92     44\n",
              "4    Sunday  Female   340.157692       44.89     15\n",
              "5    Sunday    Male  1251.916923      135.76     47\n",
              "6  Thursday  Female   557.174615       71.67     27\n",
              "7  Thursday    Male   562.940769       82.20     21"
            ]
          },
          "metadata": {},
          "execution_count": 94
        }
      ]
    },
    {
      "cell_type": "code",
      "metadata": {
        "colab": {
          "base_uri": "https://localhost:8080/",
          "height": 143
        },
        "id": "1xgYZ1Bq-qvC",
        "outputId": "44c0b775-9264-4d09-f2b4-239c86e662e7"
      },
      "source": [
        "# pivot table: first groupby item is the rows, second is the columns\n",
        "(\n",
        "    df\n",
        "    .groupby(['sex', 'day'])\n",
        "    .agg(total_sales=('total_bill','sum'))\n",
        "    .unstack()\n",
        "    .reset_index() \n",
        ")"
      ],
      "execution_count": null,
      "outputs": [
        {
          "output_type": "execute_result",
          "data": {
            "text/html": [
              "<div>\n",
              "<style scoped>\n",
              "    .dataframe tbody tr th:only-of-type {\n",
              "        vertical-align: middle;\n",
              "    }\n",
              "\n",
              "    .dataframe tbody tr th {\n",
              "        vertical-align: top;\n",
              "    }\n",
              "\n",
              "    .dataframe thead tr th {\n",
              "        text-align: left;\n",
              "    }\n",
              "</style>\n",
              "<table border=\"1\" class=\"dataframe\">\n",
              "  <thead>\n",
              "    <tr>\n",
              "      <th></th>\n",
              "      <th>sex</th>\n",
              "      <th colspan=\"4\" halign=\"left\">total_sales</th>\n",
              "    </tr>\n",
              "    <tr>\n",
              "      <th>day</th>\n",
              "      <th></th>\n",
              "      <th>Friday</th>\n",
              "      <th>Saturday</th>\n",
              "      <th>Sunday</th>\n",
              "      <th>Thursday</th>\n",
              "    </tr>\n",
              "  </thead>\n",
              "  <tbody>\n",
              "    <tr>\n",
              "      <th>0</th>\n",
              "      <td>Female</td>\n",
              "      <td>131.606923</td>\n",
              "      <td>547.217692</td>\n",
              "      <td>340.157692</td>\n",
              "      <td>557.174615</td>\n",
              "    </tr>\n",
              "    <tr>\n",
              "      <th>1</th>\n",
              "      <td>Male</td>\n",
              "      <td>198.570000</td>\n",
              "      <td>1211.584615</td>\n",
              "      <td>1251.916923</td>\n",
              "      <td>562.940769</td>\n",
              "    </tr>\n",
              "  </tbody>\n",
              "</table>\n",
              "</div>"
            ],
            "text/plain": [
              "        sex total_sales                                      \n",
              "day              Friday     Saturday       Sunday    Thursday\n",
              "0    Female  131.606923   547.217692   340.157692  557.174615\n",
              "1      Male  198.570000  1211.584615  1251.916923  562.940769"
            ]
          },
          "metadata": {},
          "execution_count": 95
        }
      ]
    },
    {
      "cell_type": "code",
      "metadata": {
        "colab": {
          "base_uri": "https://localhost:8080/",
          "height": 206
        },
        "id": "-Qgz6pOs-0Gx",
        "outputId": "fb8aebf3-0dba-4d8e-c9ff-c06dc3bfe3df"
      },
      "source": [
        "# basic cumulative sum: especially useful when looking at things over time\n",
        "# you can use operations other than sum such as count\n",
        "df_sorted = df.sort_values('date').reset_index(drop=True)\n",
        "\n",
        "df_grouped = (\n",
        "    df_sorted\n",
        "    .groupby('date')\n",
        "    .agg(total_sales=('total_bill','sum'))\n",
        "    .reset_index()\n",
        ")\n",
        "df_grouped['cumulative_sum'] = df_grouped['total_sales'].expanding().sum()\n",
        "  # .rolling() can be used to get a rolling instead of cumulative sum/mean/etc\n",
        "\n",
        "df_grouped.head()"
      ],
      "execution_count": null,
      "outputs": [
        {
          "output_type": "execute_result",
          "data": {
            "text/html": [
              "<div>\n",
              "<style scoped>\n",
              "    .dataframe tbody tr th:only-of-type {\n",
              "        vertical-align: middle;\n",
              "    }\n",
              "\n",
              "    .dataframe tbody tr th {\n",
              "        vertical-align: top;\n",
              "    }\n",
              "\n",
              "    .dataframe thead th {\n",
              "        text-align: right;\n",
              "    }\n",
              "</style>\n",
              "<table border=\"1\" class=\"dataframe\">\n",
              "  <thead>\n",
              "    <tr style=\"text-align: right;\">\n",
              "      <th></th>\n",
              "      <th>date</th>\n",
              "      <th>total_sales</th>\n",
              "      <th>cumulative_sum</th>\n",
              "    </tr>\n",
              "  </thead>\n",
              "  <tbody>\n",
              "    <tr>\n",
              "      <th>0</th>\n",
              "      <td>2021-03-01</td>\n",
              "      <td>318.693846</td>\n",
              "      <td>318.693846</td>\n",
              "    </tr>\n",
              "    <tr>\n",
              "      <th>1</th>\n",
              "      <td>2021-03-02</td>\n",
              "      <td>228.767692</td>\n",
              "      <td>547.461538</td>\n",
              "    </tr>\n",
              "    <tr>\n",
              "      <th>2</th>\n",
              "      <td>2021-03-03</td>\n",
              "      <td>156.333846</td>\n",
              "      <td>703.795385</td>\n",
              "    </tr>\n",
              "    <tr>\n",
              "      <th>3</th>\n",
              "      <td>2021-03-04</td>\n",
              "      <td>116.573846</td>\n",
              "      <td>820.369231</td>\n",
              "    </tr>\n",
              "    <tr>\n",
              "      <th>4</th>\n",
              "      <td>2021-03-05</td>\n",
              "      <td>378.527692</td>\n",
              "      <td>1198.896923</td>\n",
              "    </tr>\n",
              "  </tbody>\n",
              "</table>\n",
              "</div>"
            ],
            "text/plain": [
              "        date  total_sales  cumulative_sum\n",
              "0 2021-03-01   318.693846      318.693846\n",
              "1 2021-03-02   228.767692      547.461538\n",
              "2 2021-03-03   156.333846      703.795385\n",
              "3 2021-03-04   116.573846      820.369231\n",
              "4 2021-03-05   378.527692     1198.896923"
            ]
          },
          "metadata": {},
          "execution_count": 96
        }
      ]
    },
    {
      "cell_type": "code",
      "metadata": {
        "id": "CKy4obN1-3Yi"
      },
      "source": [
        "# grouped cumulative sum: does a cumulative sum per group\n",
        "# can have multiple groups, just add them after sex\n",
        "df_sorted = df.sort_values('date').reset_index(drop=True)\n",
        "\n",
        "df_grouped = (\n",
        "    df_sorted\n",
        "    .groupby(['date', 'sex'])\n",
        "    .agg(total_sales=('total_bill','sum'))\n",
        "    .reset_index()\n",
        ")\n",
        "\n",
        "df_grouped['cumulative_sum'] = (\n",
        "    df_grouped.groupby(['sex'])['total_sales']\n",
        "    .transform(lambda x: x.expanding().sum())\n",
        ")"
      ],
      "execution_count": null,
      "outputs": []
    },
    {
      "cell_type": "code",
      "metadata": {
        "colab": {
          "base_uri": "https://localhost:8080/",
          "height": 542
        },
        "id": "aJm2gQUwAGPJ",
        "outputId": "c3db2094-13c1-41da-bc8b-ae16bd5284ea"
      },
      "source": [
        "import plotly.express as px\n",
        "px.line(df_grouped, x='date', y='cumulative_sum', color='sex')"
      ],
      "execution_count": null,
      "outputs": [
        {
          "output_type": "display_data",
          "data": {
            "text/html": [
              "<html>\n",
              "<head><meta charset=\"utf-8\" /></head>\n",
              "<body>\n",
              "    <div>\n",
              "            <script src=\"https://cdnjs.cloudflare.com/ajax/libs/mathjax/2.7.5/MathJax.js?config=TeX-AMS-MML_SVG\"></script><script type=\"text/javascript\">if (window.MathJax) {MathJax.Hub.Config({SVG: {font: \"STIX-Web\"}});}</script>\n",
              "                <script type=\"text/javascript\">window.PlotlyConfig = {MathJaxConfig: 'local'};</script>\n",
              "        <script src=\"https://cdn.plot.ly/plotly-latest.min.js\"></script>    \n",
              "            <div id=\"9d1ffe39-fe84-40ac-ab17-bf62bbd0e710\" class=\"plotly-graph-div\" style=\"height:525px; width:100%;\"></div>\n",
              "            <script type=\"text/javascript\">\n",
              "                \n",
              "                    window.PLOTLYENV=window.PLOTLYENV || {};\n",
              "                    \n",
              "                if (document.getElementById(\"9d1ffe39-fe84-40ac-ab17-bf62bbd0e710\")) {\n",
              "                    Plotly.newPlot(\n",
              "                        '9d1ffe39-fe84-40ac-ab17-bf62bbd0e710',\n",
              "                        [{\"hoverlabel\": {\"namelength\": 0}, \"hovertemplate\": \"sex=Female<br>date=%{x}<br>cumulative_sum=%{y}\", \"legendgroup\": \"sex=Female\", \"line\": {\"color\": \"#636efa\", \"dash\": \"solid\"}, \"mode\": \"lines\", \"name\": \"sex=Female\", \"showlegend\": true, \"type\": \"scatter\", \"x\": [\"2021-03-01T00:00:00\", \"2021-03-02T00:00:00\", \"2021-03-03T00:00:00\", \"2021-03-04T00:00:00\", \"2021-03-05T00:00:00\", \"2021-03-06T00:00:00\", \"2021-03-07T00:00:00\", \"2021-03-08T00:00:00\", \"2021-03-09T00:00:00\", \"2021-03-10T00:00:00\", \"2021-03-11T00:00:00\", \"2021-03-12T00:00:00\", \"2021-03-13T00:00:00\", \"2021-03-14T00:00:00\", \"2021-03-15T00:00:00\", \"2021-03-16T00:00:00\", \"2021-03-17T00:00:00\", \"2021-03-18T00:00:00\", \"2021-03-19T00:00:00\", \"2021-03-20T00:00:00\", \"2021-03-21T00:00:00\", \"2021-03-22T00:00:00\", \"2021-03-23T00:00:00\", \"2021-03-25T00:00:00\"], \"xaxis\": \"x\", \"y\": [149.38, 250.1169230769231, 288.57384615384615, 306.7238461538461, 392.8976923076923, 411.8376923076923, 434.5846153846154, 502.1346153846154, 590.7953846153847, 658.3653846153848, 715.6253846153847, 797.7853846153847, 812.3053846153847, 935.8453846153847, 1077.2023076923078, 1185.976153846154, 1211.896153846154, 1313.0100000000002, 1328.7700000000002, 1363.1769230769232, 1396.2469230769232, 1462.0169230769231, 1523.7569230769232, 1576.1569230769232], \"yaxis\": \"y\"}, {\"hoverlabel\": {\"namelength\": 0}, \"hovertemplate\": \"sex=Male<br>date=%{x}<br>cumulative_sum=%{y}\", \"legendgroup\": \"sex=Male\", \"line\": {\"color\": \"#EF553B\", \"dash\": \"solid\"}, \"mode\": \"lines\", \"name\": \"sex=Male\", \"showlegend\": true, \"type\": \"scatter\", \"x\": [\"2021-03-01T00:00:00\", \"2021-03-02T00:00:00\", \"2021-03-03T00:00:00\", \"2021-03-04T00:00:00\", \"2021-03-05T00:00:00\", \"2021-03-06T00:00:00\", \"2021-03-07T00:00:00\", \"2021-03-08T00:00:00\", \"2021-03-09T00:00:00\", \"2021-03-10T00:00:00\", \"2021-03-11T00:00:00\", \"2021-03-12T00:00:00\", \"2021-03-13T00:00:00\", \"2021-03-14T00:00:00\", \"2021-03-15T00:00:00\", \"2021-03-16T00:00:00\", \"2021-03-17T00:00:00\", \"2021-03-18T00:00:00\", \"2021-03-19T00:00:00\", \"2021-03-20T00:00:00\", \"2021-03-21T00:00:00\", \"2021-03-22T00:00:00\", \"2021-03-23T00:00:00\", \"2021-03-24T00:00:00\", \"2021-03-25T00:00:00\"], \"xaxis\": \"x\", \"y\": [169.31384615384616, 297.34461538461545, 415.22153846153856, 513.6453846153847, 805.999230769231, 864.269230769231, 1092.833076923077, 1265.95, 1394.3200000000002, 1566.7538461538463, 1704.5176923076924, 1845.2046153846154, 1935.2184615384615, 1994.7753846153846, 2141.1323076923077, 2195.242307692308, 2292.5092307692307, 2389.013076923077, 2481.396923076923, 2547.163846153846, 2645.880769230769, 2744.607692307692, 2936.3715384615384, 3090.1115384615387, 3225.012307692308], \"yaxis\": \"y\"}],\n",
              "                        {\"legend\": {\"tracegroupgap\": 0}, \"margin\": {\"t\": 60}, \"template\": {\"data\": {\"bar\": [{\"error_x\": {\"color\": \"#2a3f5f\"}, \"error_y\": {\"color\": \"#2a3f5f\"}, \"marker\": {\"line\": {\"color\": \"#E5ECF6\", \"width\": 0.5}}, \"type\": \"bar\"}], \"barpolar\": [{\"marker\": {\"line\": {\"color\": \"#E5ECF6\", \"width\": 0.5}}, \"type\": \"barpolar\"}], \"carpet\": [{\"aaxis\": {\"endlinecolor\": \"#2a3f5f\", \"gridcolor\": \"white\", \"linecolor\": \"white\", \"minorgridcolor\": \"white\", \"startlinecolor\": \"#2a3f5f\"}, \"baxis\": {\"endlinecolor\": \"#2a3f5f\", \"gridcolor\": \"white\", \"linecolor\": \"white\", \"minorgridcolor\": \"white\", \"startlinecolor\": \"#2a3f5f\"}, \"type\": \"carpet\"}], \"choropleth\": [{\"colorbar\": {\"outlinewidth\": 0, \"ticks\": \"\"}, \"type\": \"choropleth\"}], \"contour\": [{\"colorbar\": {\"outlinewidth\": 0, \"ticks\": \"\"}, \"colorscale\": [[0.0, \"#0d0887\"], [0.1111111111111111, \"#46039f\"], [0.2222222222222222, \"#7201a8\"], [0.3333333333333333, \"#9c179e\"], [0.4444444444444444, \"#bd3786\"], [0.5555555555555556, \"#d8576b\"], [0.6666666666666666, \"#ed7953\"], [0.7777777777777778, \"#fb9f3a\"], [0.8888888888888888, \"#fdca26\"], [1.0, \"#f0f921\"]], \"type\": \"contour\"}], \"contourcarpet\": [{\"colorbar\": {\"outlinewidth\": 0, \"ticks\": \"\"}, \"type\": \"contourcarpet\"}], \"heatmap\": [{\"colorbar\": {\"outlinewidth\": 0, \"ticks\": \"\"}, \"colorscale\": [[0.0, \"#0d0887\"], [0.1111111111111111, \"#46039f\"], [0.2222222222222222, \"#7201a8\"], [0.3333333333333333, \"#9c179e\"], [0.4444444444444444, \"#bd3786\"], [0.5555555555555556, \"#d8576b\"], [0.6666666666666666, \"#ed7953\"], [0.7777777777777778, \"#fb9f3a\"], [0.8888888888888888, \"#fdca26\"], [1.0, \"#f0f921\"]], \"type\": \"heatmap\"}], \"heatmapgl\": [{\"colorbar\": {\"outlinewidth\": 0, \"ticks\": \"\"}, \"colorscale\": [[0.0, \"#0d0887\"], [0.1111111111111111, \"#46039f\"], [0.2222222222222222, \"#7201a8\"], [0.3333333333333333, \"#9c179e\"], [0.4444444444444444, \"#bd3786\"], [0.5555555555555556, \"#d8576b\"], [0.6666666666666666, \"#ed7953\"], [0.7777777777777778, \"#fb9f3a\"], [0.8888888888888888, \"#fdca26\"], [1.0, \"#f0f921\"]], \"type\": \"heatmapgl\"}], \"histogram\": [{\"marker\": {\"colorbar\": {\"outlinewidth\": 0, \"ticks\": \"\"}}, \"type\": \"histogram\"}], \"histogram2d\": [{\"colorbar\": {\"outlinewidth\": 0, \"ticks\": \"\"}, \"colorscale\": [[0.0, \"#0d0887\"], [0.1111111111111111, \"#46039f\"], [0.2222222222222222, \"#7201a8\"], [0.3333333333333333, \"#9c179e\"], [0.4444444444444444, \"#bd3786\"], [0.5555555555555556, \"#d8576b\"], [0.6666666666666666, \"#ed7953\"], [0.7777777777777778, \"#fb9f3a\"], [0.8888888888888888, \"#fdca26\"], [1.0, \"#f0f921\"]], \"type\": \"histogram2d\"}], \"histogram2dcontour\": [{\"colorbar\": {\"outlinewidth\": 0, \"ticks\": \"\"}, \"colorscale\": [[0.0, \"#0d0887\"], [0.1111111111111111, \"#46039f\"], [0.2222222222222222, \"#7201a8\"], [0.3333333333333333, \"#9c179e\"], [0.4444444444444444, \"#bd3786\"], [0.5555555555555556, \"#d8576b\"], [0.6666666666666666, \"#ed7953\"], [0.7777777777777778, \"#fb9f3a\"], [0.8888888888888888, \"#fdca26\"], [1.0, \"#f0f921\"]], \"type\": \"histogram2dcontour\"}], \"mesh3d\": [{\"colorbar\": {\"outlinewidth\": 0, \"ticks\": \"\"}, \"type\": \"mesh3d\"}], \"parcoords\": [{\"line\": {\"colorbar\": {\"outlinewidth\": 0, \"ticks\": \"\"}}, \"type\": \"parcoords\"}], \"pie\": [{\"automargin\": true, \"type\": \"pie\"}], \"scatter\": [{\"marker\": {\"colorbar\": {\"outlinewidth\": 0, \"ticks\": \"\"}}, \"type\": \"scatter\"}], \"scatter3d\": [{\"line\": {\"colorbar\": {\"outlinewidth\": 0, \"ticks\": \"\"}}, \"marker\": {\"colorbar\": {\"outlinewidth\": 0, \"ticks\": \"\"}}, \"type\": \"scatter3d\"}], \"scattercarpet\": [{\"marker\": {\"colorbar\": {\"outlinewidth\": 0, \"ticks\": \"\"}}, \"type\": \"scattercarpet\"}], \"scattergeo\": [{\"marker\": {\"colorbar\": {\"outlinewidth\": 0, \"ticks\": \"\"}}, \"type\": \"scattergeo\"}], \"scattergl\": [{\"marker\": {\"colorbar\": {\"outlinewidth\": 0, \"ticks\": \"\"}}, \"type\": \"scattergl\"}], \"scattermapbox\": [{\"marker\": {\"colorbar\": {\"outlinewidth\": 0, \"ticks\": \"\"}}, \"type\": \"scattermapbox\"}], \"scatterpolar\": [{\"marker\": {\"colorbar\": {\"outlinewidth\": 0, \"ticks\": \"\"}}, \"type\": \"scatterpolar\"}], \"scatterpolargl\": [{\"marker\": {\"colorbar\": {\"outlinewidth\": 0, \"ticks\": \"\"}}, \"type\": \"scatterpolargl\"}], \"scatterternary\": [{\"marker\": {\"colorbar\": {\"outlinewidth\": 0, \"ticks\": \"\"}}, \"type\": \"scatterternary\"}], \"surface\": [{\"colorbar\": {\"outlinewidth\": 0, \"ticks\": \"\"}, \"colorscale\": [[0.0, \"#0d0887\"], [0.1111111111111111, \"#46039f\"], [0.2222222222222222, \"#7201a8\"], [0.3333333333333333, \"#9c179e\"], [0.4444444444444444, \"#bd3786\"], [0.5555555555555556, \"#d8576b\"], [0.6666666666666666, \"#ed7953\"], [0.7777777777777778, \"#fb9f3a\"], [0.8888888888888888, \"#fdca26\"], [1.0, \"#f0f921\"]], \"type\": \"surface\"}], \"table\": [{\"cells\": {\"fill\": {\"color\": \"#EBF0F8\"}, \"line\": {\"color\": \"white\"}}, \"header\": {\"fill\": {\"color\": \"#C8D4E3\"}, \"line\": {\"color\": \"white\"}}, \"type\": \"table\"}]}, \"layout\": {\"annotationdefaults\": {\"arrowcolor\": \"#2a3f5f\", \"arrowhead\": 0, \"arrowwidth\": 1}, \"coloraxis\": {\"colorbar\": {\"outlinewidth\": 0, \"ticks\": \"\"}}, \"colorscale\": {\"diverging\": [[0, \"#8e0152\"], [0.1, \"#c51b7d\"], [0.2, \"#de77ae\"], [0.3, \"#f1b6da\"], [0.4, \"#fde0ef\"], [0.5, \"#f7f7f7\"], [0.6, \"#e6f5d0\"], [0.7, \"#b8e186\"], [0.8, \"#7fbc41\"], [0.9, \"#4d9221\"], [1, \"#276419\"]], \"sequential\": [[0.0, \"#0d0887\"], [0.1111111111111111, \"#46039f\"], [0.2222222222222222, \"#7201a8\"], [0.3333333333333333, \"#9c179e\"], [0.4444444444444444, \"#bd3786\"], [0.5555555555555556, \"#d8576b\"], [0.6666666666666666, \"#ed7953\"], [0.7777777777777778, \"#fb9f3a\"], [0.8888888888888888, \"#fdca26\"], [1.0, \"#f0f921\"]], \"sequentialminus\": [[0.0, \"#0d0887\"], [0.1111111111111111, \"#46039f\"], [0.2222222222222222, \"#7201a8\"], [0.3333333333333333, \"#9c179e\"], [0.4444444444444444, \"#bd3786\"], [0.5555555555555556, \"#d8576b\"], [0.6666666666666666, \"#ed7953\"], [0.7777777777777778, \"#fb9f3a\"], [0.8888888888888888, \"#fdca26\"], [1.0, \"#f0f921\"]]}, \"colorway\": [\"#636efa\", \"#EF553B\", \"#00cc96\", \"#ab63fa\", \"#FFA15A\", \"#19d3f3\", \"#FF6692\", \"#B6E880\", \"#FF97FF\", \"#FECB52\"], \"font\": {\"color\": \"#2a3f5f\"}, \"geo\": {\"bgcolor\": \"white\", \"lakecolor\": \"white\", \"landcolor\": \"#E5ECF6\", \"showlakes\": true, \"showland\": true, \"subunitcolor\": \"white\"}, \"hoverlabel\": {\"align\": \"left\"}, \"hovermode\": \"closest\", \"mapbox\": {\"style\": \"light\"}, \"paper_bgcolor\": \"white\", \"plot_bgcolor\": \"#E5ECF6\", \"polar\": {\"angularaxis\": {\"gridcolor\": \"white\", \"linecolor\": \"white\", \"ticks\": \"\"}, \"bgcolor\": \"#E5ECF6\", \"radialaxis\": {\"gridcolor\": \"white\", \"linecolor\": \"white\", \"ticks\": \"\"}}, \"scene\": {\"xaxis\": {\"backgroundcolor\": \"#E5ECF6\", \"gridcolor\": \"white\", \"gridwidth\": 2, \"linecolor\": \"white\", \"showbackground\": true, \"ticks\": \"\", \"zerolinecolor\": \"white\"}, \"yaxis\": {\"backgroundcolor\": \"#E5ECF6\", \"gridcolor\": \"white\", \"gridwidth\": 2, \"linecolor\": \"white\", \"showbackground\": true, \"ticks\": \"\", \"zerolinecolor\": \"white\"}, \"zaxis\": {\"backgroundcolor\": \"#E5ECF6\", \"gridcolor\": \"white\", \"gridwidth\": 2, \"linecolor\": \"white\", \"showbackground\": true, \"ticks\": \"\", \"zerolinecolor\": \"white\"}}, \"shapedefaults\": {\"line\": {\"color\": \"#2a3f5f\"}}, \"ternary\": {\"aaxis\": {\"gridcolor\": \"white\", \"linecolor\": \"white\", \"ticks\": \"\"}, \"baxis\": {\"gridcolor\": \"white\", \"linecolor\": \"white\", \"ticks\": \"\"}, \"bgcolor\": \"#E5ECF6\", \"caxis\": {\"gridcolor\": \"white\", \"linecolor\": \"white\", \"ticks\": \"\"}}, \"title\": {\"x\": 0.05}, \"xaxis\": {\"automargin\": true, \"gridcolor\": \"white\", \"linecolor\": \"white\", \"ticks\": \"\", \"title\": {\"standoff\": 15}, \"zerolinecolor\": \"white\", \"zerolinewidth\": 2}, \"yaxis\": {\"automargin\": true, \"gridcolor\": \"white\", \"linecolor\": \"white\", \"ticks\": \"\", \"title\": {\"standoff\": 15}, \"zerolinecolor\": \"white\", \"zerolinewidth\": 2}}}, \"xaxis\": {\"anchor\": \"y\", \"domain\": [0.0, 1.0], \"title\": {\"text\": \"date\"}}, \"yaxis\": {\"anchor\": \"x\", \"domain\": [0.0, 1.0], \"title\": {\"text\": \"cumulative_sum\"}}},\n",
              "                        {\"responsive\": true}\n",
              "                    ).then(function(){\n",
              "                            \n",
              "var gd = document.getElementById('9d1ffe39-fe84-40ac-ab17-bf62bbd0e710');\n",
              "var x = new MutationObserver(function (mutations, observer) {{\n",
              "        var display = window.getComputedStyle(gd).display;\n",
              "        if (!display || display === 'none') {{\n",
              "            console.log([gd, 'removed!']);\n",
              "            Plotly.purge(gd);\n",
              "            observer.disconnect();\n",
              "        }}\n",
              "}});\n",
              "\n",
              "// Listen for the removal of the full notebook cells\n",
              "var notebookContainer = gd.closest('#notebook-container');\n",
              "if (notebookContainer) {{\n",
              "    x.observe(notebookContainer, {childList: true});\n",
              "}}\n",
              "\n",
              "// Listen for the clearing of the current output cell\n",
              "var outputEl = gd.closest('.output');\n",
              "if (outputEl) {{\n",
              "    x.observe(outputEl, {childList: true});\n",
              "}}\n",
              "\n",
              "                        })\n",
              "                };\n",
              "                \n",
              "            </script>\n",
              "        </div>\n",
              "</body>\n",
              "</html>"
            ]
          },
          "metadata": {}
        }
      ]
    },
    {
      "cell_type": "code",
      "metadata": {
        "id": "Ze4utBrLALx4"
      },
      "source": [
        ""
      ],
      "execution_count": null,
      "outputs": []
    },
    {
      "cell_type": "markdown",
      "metadata": {
        "id": "zYMwkYSpmdmy"
      },
      "source": [
        "# **8. Quick Reference Guide**\n",
        "Within this section is the reference guide that I personally use when I'm doing data science work. It's much shorter than the rest of this notebook and has little explanation, but is great for improving efficiency when you have those \"oh, I know I can do ___ but I forgot what the syntax was\" moments and don't want to have to search StackOverflow every time."
      ]
    },
    {
      "cell_type": "code",
      "metadata": {
        "id": "9QClzL1hm8xZ"
      },
      "source": [
        "# imports\n",
        "import numpy as np\n",
        "import pandas as pd\n",
        "import ast\n",
        "import datetime\n",
        "import re"
      ],
      "execution_count": null,
      "outputs": []
    },
    {
      "cell_type": "markdown",
      "metadata": {
        "id": "Jw982EjHm_0Z"
      },
      "source": [
        "## Column Manipulation"
      ]
    },
    {
      "cell_type": "code",
      "metadata": {
        "id": "TKOoYulQnA6k",
        "colab": {
          "base_uri": "https://localhost:8080/",
          "height": 130
        },
        "outputId": "9787f2fc-a811-4f8c-a513-a601f36dd928"
      },
      "source": [
        "# creating new columns\n",
        "df['column_name'] = 10 | 'string'\n",
        "df['column_name'] = df['existing_column'] * 2\n",
        "\n",
        "\n",
        "# general functions(?)\n",
        "df['int_col'].astype(str)\n",
        "df['str_col'].astype(int)\n",
        "df['dict_str'].apply(lambda x: ast.literal_eval(x)) # string to dict\n",
        "\n",
        "\n",
        "# datetime\n",
        "df['time'] = pd.to_datetime(df['str_col']) # string to datetime\n",
        "df['time_day'] = df['time'].dt.floor('D') # truncate to day, can be D, H, S, etc\n",
        "df['time_shifted'] = df['time'] + timedelta(days=12, hours=4, minutes=55, seconds=2)\n",
        "df['month'] = df['time'].dt.month.astype('Int64') # extract dt components as int\n",
        ".day, .hour, .year, .second, etc\n",
        "\n",
        "\n",
        "# categorical grouping: preserves 0 counts\n",
        "df['cat'] = df['cat'].astype('category')\n",
        "    # group in order: x-axis, category, color\n",
        "    # category should be what you want to animate\n",
        "\n",
        "\n",
        "# string functions\n",
        "df['column'].str.contains('substring')\n",
        "df['column'].str.match('regex')\n",
        "    # need to flesh out my regex options for common SQL things\n",
        "df['column'].str.split(',') # split into list\n",
        "df['column'].str.split(',').str[0] # get an item from that list\n",
        "\n",
        "\n",
        "# other functions\n",
        "df['column'].isin(['option1', 'option2'])\n",
        "\n",
        "\n",
        "# exploding\n",
        "df.explode('col') # creates duplicate rows for each list val of col\n",
        "\n",
        "\n",
        "# applying custom functions\n",
        "df['col2'] = df['col1'].apply(lambda x: x.split(',')[0])\n",
        "df['col3'] = df.apply(lambda row: row['a'] + row['b'], axis=1) # apply to whole row\n",
        "\n",
        "\n",
        "# mapping\n",
        "map_dict = {'cat':'kitten', 'dog':'puppy'}\n",
        "df['mapped_col'] = df['col'].map(map_dict)"
      ],
      "execution_count": null,
      "outputs": [
        {
          "output_type": "error",
          "ename": "SyntaxError",
          "evalue": "ignored",
          "traceback": [
            "\u001b[0;36m  File \u001b[0;32m\"<ipython-input-100-977867134859>\"\u001b[0;36m, line \u001b[0;32m17\u001b[0m\n\u001b[0;31m    .day, .hour, .year, .second, etc\u001b[0m\n\u001b[0m    ^\u001b[0m\n\u001b[0;31mSyntaxError\u001b[0m\u001b[0;31m:\u001b[0m invalid syntax\n"
          ]
        }
      ]
    },
    {
      "cell_type": "markdown",
      "metadata": {
        "id": "OCSUnOYLnCPU"
      },
      "source": [
        "## Data Preparation"
      ]
    },
    {
      "cell_type": "code",
      "metadata": {
        "id": "_GryB0tinDmW"
      },
      "source": [
        "# dataframe properties\n",
        "df.shape\n",
        "df.columns\n",
        "\n",
        "\n",
        "# making a copy\n",
        "df_new = df.copy()\n",
        "\n",
        "\n",
        "# positional indexing\n",
        "df.iloc[row_start:row_end, column_start:column_end]\n",
        "df.iloc[:, 0:5] # all rows, first 5 columns\n",
        "df.iloc[0:5, :] # all columns, first 5 rows\n",
        "df.iloc[[2, 3, 4], [4, 7, 10]] # rows 2 3 4, columns 4 7 10\n",
        "df.iloc[:, np.r_[1, 5:10]] # all rows, column 1 and then 5-9\n",
        "\n",
        "\n",
        "# conditional indexing\n",
        "df[(df['col1']=='value') & (df['col2'] > 4)]\n",
        "\n",
        "\n",
        "# select or create a subset\n",
        "columns = ['col1', 'col2', 'col3']\n",
        "df_subset = df[columns]\n",
        "df_subset = df.drop(columns)\n",
        "\n",
        "\n",
        "# check null counts\n",
        "df.isna().sum()\n",
        "\n",
        "# drop null rows\n",
        "df.dropna()\n",
        "df.dropna(subset=['col1'])\n",
        "\n",
        "\n",
        "# fill null values: \n",
        "t['col'] = t['col'].fillna(0) # specify col, doesn't infer type\n",
        "t['col'].fillna(0, inplace=True)\n",
        "\n",
        "\n",
        "# flattening a list of lists\n",
        "[item for sublist in biglist for item in sublist]"
      ],
      "execution_count": null,
      "outputs": []
    },
    {
      "cell_type": "markdown",
      "metadata": {
        "id": "quK4kStNnFwf"
      },
      "source": [
        "## Aggregation / Analysis"
      ]
    },
    {
      "cell_type": "code",
      "metadata": {
        "id": "wArmYHevnFS9"
      },
      "source": [
        "# typical sql workflow statement\n",
        "# auto-sorts by items in groupby + reset_index makes them columns\n",
        "df_group = (\n",
        "    df\n",
        "    .groupby(['day', 'biz_unit'])\n",
        "    .agg(\n",
        "      total_sales=('sales','sum'),\n",
        "      distinct_count=('id','nunique')\n",
        "    )\n",
        "    .reset_index()\n",
        ")\n",
        "\n",
        "df['col'].value_counts() # just get counts\n",
        "\n",
        "df['col'].quantile(0.5) # gives median, can be any from 0-1\n",
        "\n",
        "df['col'].nunique() # get num of unique values in column\n",
        "\n",
        "\n",
        "# aggregate for a single column\n",
        "df['col'].median()\n",
        "mode, mean, min, max, sum, nunique, \n",
        "\n",
        "\n",
        "# collect_list\n",
        "grouped = df.groupby('A')\n",
        "df = grouped.aggregate(lambda x: tuple(x))\n",
        "df['grouped'] = df['B'] + df['C']\n",
        "\n",
        "\n",
        "# pivot table\n",
        "pivot = (\n",
        "  df\n",
        "  .groupby(['rows', 'columns'])['id']\n",
        "  .count()\n",
        "  .unstack()\n",
        "  .reset_index()\n",
        "  .rename_axis(None, axis=1)\n",
        ")\n",
        "\n",
        "\n",
        "# apply aggregates to all columns\n",
        "df.groupby('Day').count().reset_index()\n",
        "df.groupby('Day').mean().reset_index()\n",
        "\n",
        "\n",
        "# joins\n",
        "df_joined = df_left.merge(df_right, left_on='leftcol', right_on='rightcol', how='left')\n",
        "\n",
        "# union\n",
        "df_appended = df1.append(df2) # if diff columns, all are kept and values = null\n",
        "    # allows duplicates, would have to use drop_duplicates()\n"
      ],
      "execution_count": null,
      "outputs": []
    },
    {
      "cell_type": "markdown",
      "metadata": {
        "id": "UXc1ogOHnJNN"
      },
      "source": [
        "## Rolling / Cumulative Operations"
      ]
    },
    {
      "cell_type": "code",
      "metadata": {
        "id": "EGduT667nKP-"
      },
      "source": [
        "# rolling using date window: date must be index\n",
        "df_grouped = (\n",
        "    df\n",
        "    .groupby('time', 'segment')\n",
        "    .agg(total_sales=('sales', 'sum'))\n",
        "    .reset_index()\n",
        "    .set_index('time')\n",
        ")\n",
        "\n",
        "# rolling overall\n",
        "df_grouped['rolling_mean'] = df_grouped['total_sales'].rolling('30D').mean()\n",
        "\n",
        "# rolling by segment(s)\n",
        "df_grouped['rolling_mean'] = (\n",
        "    df_grouped\n",
        "    .groupby(['segment'])['total_sales']\n",
        "    .transform(lambda x: x.rolling('30D').mean())\n",
        ")\n",
        "\n",
        "\n",
        "# rolling using row window (past X rows):\n",
        "df_grouped = (\n",
        "    df\n",
        "    .groupby('days_passed', 'segment')\n",
        "    .agg(total_sales=('sales', 'sum'))\n",
        "    .reset_index()\n",
        ")\n",
        "\n",
        "# rolling overall\n",
        "df_grouped['rolling_mean'] = df_grouped['total_sales'].rolling(30).mean()\n",
        "    # set min_periods=1 inside rolling() if you want first n-1 values non-null\n",
        "\n",
        "# rolling by segment(s)\n",
        "df_grouped['rolling_mean'] = (\n",
        "    df_grouped\n",
        "    .groupby(['segment'])['total_sales']\n",
        "    .transform(lambda x: x.rolling(30).mean())\n",
        ")\n",
        "\n",
        "\n",
        "# cumulative sum: same thing but .expanding()\n",
        "df['cumsum'] = df['total_sales'].expanding().sum()"
      ],
      "execution_count": null,
      "outputs": []
    }
  ]
}